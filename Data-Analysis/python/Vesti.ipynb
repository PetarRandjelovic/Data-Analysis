{
 "cells": [
  {
   "cell_type": "markdown",
   "metadata": {
    "application/vnd.databricks.v1+cell": {
     "cellMetadata": {
      "byteLimit": 2048000,
      "rowLimit": 10000
     },
     "inputWidgets": {},
     "nuid": "d5a53c02-10b2-40aa-9770-1b971eb25e8c",
     "showTitle": false,
     "title": ""
    }
   },
   "source": [
    "\n",
    "Uradili smo analizu sentimenta najpopularnijih vesti dana za kripto valutu. I ustanovili koji od sajtova su najnegativniji a koji najpozitivniji i koji su neutralni u vezi teme."
   ]
  },
  {
   "cell_type": "code",
   "execution_count": 0,
   "metadata": {
    "application/vnd.databricks.v1+cell": {
     "cellMetadata": {
      "byteLimit": 2048000,
      "rowLimit": 10000
     },
     "inputWidgets": {},
     "nuid": "d7629dc2-9396-4277-836f-1f5fd286c380",
     "showTitle": false,
     "title": ""
    }
   },
   "outputs": [
    {
     "output_type": "display_data",
     "data": {
      "text/html": [
       "<style scoped>\n",
       "  .table-result-container {\n",
       "    max-height: 300px;\n",
       "    overflow: auto;\n",
       "  }\n",
       "  table, th, td {\n",
       "    border: 1px solid black;\n",
       "    border-collapse: collapse;\n",
       "  }\n",
       "  th, td {\n",
       "    padding: 5px;\n",
       "  }\n",
       "  th {\n",
       "    text-align: left;\n",
       "  }\n",
       "</style><div class='table-result-container'><table class='table-result'><thead style='background-color: white'><tr><th>name</th><th>author</th><th>title</th><th>url</th><th>urlToImage</th><th>publishedAt</th></tr></thead><tbody><tr><td>Engadget</td><td>Karissa Bell</td><td>SEC approves bitcoin ETFs (for real this time)</td><td>https://www.engadget.com/sec-approves-bitcoin-etfs-for-real-this-time-224125584.html</td><td>https://s.yimg.com/ny/api/res/1.2/n6iLNJ_9dtK.fT6WAXK1sA--/YXBwaWQ9aGlnaGxhbmRlcjt3PTEyMDA7aD03OTU-/https://s.yimg.com/os/creatr-uploaded-images/2024-01/3edf5140-afdd-11ee-bf7c-7918e1b9d963</td><td>2024-01-10T22:41:25Z\n",
       "</td></tr><tr><td>Wired\"</td><td>Joel Khalili</td><td>Why Crypto Idealogues Won’t Touch Bitcoin ETFs</td><td>https://www.wired.com/story/bitcoin-etf-cryptocurrencies-split/</td><td>https://media.wired.com/photos/65a0305c4aaf02fdf493f220/191:100/w_1280</td><td>c_limit/Not-Everyone-Is-Jazzed-About-Bitcoin-ETFs-Business-1299911534.jpg</td></tr><tr><td>The Verge\"</td><td>Elizabeth Lopatto</td><td>How to sue a hacker using Bitcoin</td><td>https://www.theverge.com/2024/1/10/24033166/bitcoin-crypto-ryan-dellone-lawsuit-hacker</td><td>https://cdn.vox-cdn.com/thumbor/PDBUffTgNFFVbpRuDkyP8ENjR-Y=/0x0:2040x1360/1200x628/filters:focal(1020x680:1021x681)/cdn.vox-cdn.com/uploads/chorus_asset/file/23951299/STK087_VRG_Illo_N_Barclay_1_bitcoin.jpg</td><td>2024-01-10T18:55:35Z\n",
       "</td></tr><tr><td>The Verge\"</td><td>Emma Roth</td><td>The SEC’s X account was hijacked to post a fake approval of Bitcoin ETFs</td><td>https://www.theverge.com/2024/1/9/24032095/bitcoin-etf-sec-fake-tweet-x-gary-gensler</td><td>https://cdn.vox-cdn.com/thumbor/jxKHGn1E5xyrAO8bukj3ikqy5Bw=/0x0:2040x1360/1200x628/filters:focal(1020x680:1021x681)/cdn.vox-cdn.com/uploads/chorus_asset/file/23951296/STK087_VRG_Illo_N_Barclay_4_bitcoin.jpg</td><td>2024-01-09T21:41:56Z\n",
       "</td></tr><tr><td>Wired\"</td><td>Andrew Couts</td><td> Andy Greenberg</td><td>The SEC's Official X Account Was ‘Compromised'</td><td>https://www.wired.com/story/sec-x-account-compromise/</td><td>https://media.wired.com/photos/659dbf12156f76cbf3057921/191:100/w_1280</td></tr><tr><td>Gizmodo.com\"</td><td>Maxwell Zeff</td><td>Bitcoin Price Plummets Due to Hacked SEC Tweet</td><td>https://gizmodo.com/bitcoin-price-plummets-hacked-sec-tweet-1851153717</td><td>https://i.kinja-img.com/image/upload/c_fill</td><td>h_675</td></tr><tr><td>Wired\"</td><td>Andy Greenberg</td><td>How a 27-Year-Old Codebreaker Busted the Myth of Bitcoin’s Anonymity</td><td>https://www.wired.com/story/27-year-old-codebreaker-busted-myth-bitcoins-anonymity/</td><td>https://media.wired.com/photos/65a72695e5015b60480cbdf6/191:100/w_1280</td><td>c_limit/Meiklejohn_Final_Static2.jpg</td></tr><tr><td>Wired\"</td><td>Andy Greenberg</td><td>Child Abusers Are Getting Better at Using Crypto to Cover Their Tracks</td><td>https://www.wired.com/story/csam-sellers-monero-rise/</td><td>https://media.wired.com/photos/659f246783a7239c87585c11/191:100/w_1280</td><td>c_limit/CSAM-report-sec-GettyImages-885630762.jpg</td></tr><tr><td>Business Insider\"</td><td>Dan DeFrancesco</td><td>Bitcoin is so back</td><td>https://www.businessinsider.com/news-today-january-11-bitcoin-etf-approval-2024-1</td><td>https://i.insider.com/659fd4dcdcdb354a98569fc9?width=1200&format=jpeg</td><td>2024-01-11T14:32:47Z\n",
       "</td></tr><tr><td>Slashdot.org\"</td><td>BeauHD</td><td>SEC Approves 11 Spot Bitcoin ETFs</td><td>https://slashdot.org/story/24/01/10/2132216/sec-approves-11-spot-bitcoin-etfs</td><td>https://a.fsdn.com/sd/topics/bitcoin_64.png</td><td>2024-01-10T21:33:00Z\n",
       "</td></tr><tr><td>Business Insider\"</td><td>Matthew Fox</td><td>SEC says Twitter account was compromised</td><td> it's not approved a bitcoin ETF</td><td>https://markets.businessinsider.com/news/currencies/bitcoin-etfs-sec-approval-twitter-hack-gary-gensler-crypto-2024-1</td><td>https://i.insider.com/659dbb20dcdb354a9856111a?width=1200&format=jpeg</td></tr><tr><td>ReadWrite\"</td><td>Maxwell William</td><td>Bitcoin soars above $45</td><td>000 in New Year rally</td><td> eyes on SEC for ETF approvals</td><td>https://readwrite.com/bitcoin-soars-above-45000-in-new-year-rally-eyes-on-sec-for-etf-approvals/</td></tr><tr><td>ReadWrite\"</td><td>Deanna Ritchie</td><td>Bitcoin ETF: BTC price falls as traders await big SEC decision</td><td>https://readwrite.com/bitcoin-etf-btc-price-falls-as-traders-await-big-sec-decision/</td><td>https://readwrite.com/wp-content/uploads/2024/01/Bitcoin-ETF-BTC-price-falls.jpg</td><td>2024-01-06T02:02:18Z\n",
       "</td></tr><tr><td>ReadWrite\"</td><td>James Jones</td><td>Bitcoin price: $400m liquidation leads to significant slump</td><td>https://readwrite.com/bitcoin-price-400m-liquidation-leads-to-significant-slump/</td><td>https://readwrite.com/wp-content/uploads/2024/01/yigit-ali-atasoy-z1jggXh29_Q-unsplash-scaled.jpg</td><td>2024-01-03T16:41:52Z\n",
       "</td></tr><tr><td>ReadWrite\"</td><td>Maxwell William</td><td>BlackRock and Fidelity set competitive fees for upcoming Bitcoin ETFs</td><td>https://readwrite.com/blackrock-and-fidelity-set-competitive-fees-for-upcoming-bitcoin-etfs/</td><td>https://readwrite.com/wp-content/uploads/2023/12/Bitcoin-gathers-momentum.jpg</td><td>2024-01-08T16:48:40Z\n",
       "</td></tr><tr><td>ReadWrite\"</td><td>Graeme Hanna</td><td>US SEC finally approves Bitcoin ETFs</td><td>https://readwrite.com/us-sec-finally-approves-bitcoin-etfs/</td><td>https://readwrite.com/wp-content/uploads/2023/12/UK-Finance-Ministry-to-discuss-crypto-banking.jpeg</td><td>2024-01-11T12:56:26Z\n",
       "</td></tr><tr><td>Business Insider\"</td><td>Joshua Zitser</td><td>A guy just signed a contract to rent an apartment using bitcoin</td><td> likely a world first</td><td>https://www.businessinsider.com/argentina-crypto-first-ever-bitcoin-rental-contract-landlord-tenant-2024-1</td><td>https://i.insider.com/65a67a556979d737182373a3?width=1200&format=jpeg</td></tr><tr><td>Business Insider\"</td><td>Theron Mohamed</td><td>Ark's Cathie Wood says bitcoin could hit $1.5 million by 2030. The US economy would have to crash</td><td> 'Shark Tank' investor Kevin O'Leary says.</td><td>https://markets.businessinsider.com/news/currencies/bitcoin-price-forecast-cathie-wood-kevin-oleary-us-economy-crash-2024-1</td><td>https://i.insider.com/611b93d6a4b07b0018ade5b9?width=1200&format=jpeg</td></tr><tr><td>NPR\"</td><td>David Gura</td><td>After a brutal stretch</td><td> a remarkable thing is happening: Cryptocurrencies are surging</td><td>https://www.npr.org/2023/12/26/1220603847/crypto-cryptocurrency-bitcoin-ftx-binance-cz-bankman-fried</td><td>https://media.npr.org/assets/img/2023/12/25/gettyimages-1402675790_wide-eadf8676b64af620ebb4f8ae76eb29bc059f2598-s1400-c100.jpg</td></tr><tr><td>Business Insider\"</td><td>Theron Mohamed</td><td>Morgan Stanley's chairman slams bitcoin as speculative and volatile – and expects the US to dodge a recession</td><td>https://markets.businessinsider.com/news/currencies/morgan-stanley-gorman-bitcoin-crypto-banking-crisis-recession-rate-cuts-2024-1</td><td>https://i.insider.com/659689aaec62ab5daf8086dd?width=1200&format=jpeg</td><td>2024-01-04T11:28:57Z\n",
       "</td></tr><tr><td>Business Insider\"</td><td>Theron Mohamed</td><td>BlackRock CEO Larry Fink warns of stubborn inflation - but expects growth to accelerate this year if interest rates drop</td><td>https://www.businessinsider.com/blackrock-larry-fink-inflation-growth-recession-outlook-fed-rate-cuts-2024-1</td><td>https://i.insider.com/652fbc37211def8ed837e42a?width=1200&format=jpeg</td><td>2024-01-15T12:14:45Z\n",
       "</td></tr><tr><td>Hipertextual\"</td><td>Alberto Martín</td><td>Por qué son tan importantes los ETFs de Bitcoin a los que ha dado el visto bueno la SEC</td><td>http://hipertextual.com/2024/01/etfs-de-bitcoin</td><td>https://imgs.hipertextual.com/wp-content/uploads/2021/09/cardmapr-nl-rDzI7m7sjPE-unsplash-scaled.jpg</td><td>2024-01-11T11:00:12Z\n",
       "</td></tr><tr><td>Business Insider\"</td><td>Kiera Fields</td><td>A lawsuit filed against a bitcoin mine in Texas has shed light on a growing trend: US crypto mines backed by millions of dollars from Chinese investors</td><td>https://www.businessinsider.com/bitcoin-mine-texas-lawsuit-links-to-chinese-investors-2023-12</td><td>https://i.insider.com/658acb99ec62ab5daf7ea6be?width=1200&format=jpeg</td><td>2023-12-26T14:46:23Z\n",
       "</td></tr><tr><td>Xataka.com\"</td><td>Javier Pastor</td><td>EEUU aprueba los ETF de Bitcoin. Cuando ocurrió con el oro</td><td> el metal acabó cuadruplicando su valor</td><td>https://www.xataka.com/criptomonedas/eeuu-aprueba-etf-bitcoin-cuando-ocurrio-oro-metal-acabo-cuadruplicando-su-valor</td><td>https://i.blogs.es/aadeb6/bitcoin1/840_560.jpeg</td></tr><tr><td>Slashdot.org\"</td><td>BeauHD</td><td>'Stablecoins' Enabled $40 Billion In Crypto Crime Since 2022</td><td>https://yro.slashdot.org/story/24/01/18/2112213/stablecoins-enabled-40-billion-in-crypto-crime-since-2022</td><td>https://a.fsdn.com/sd/topics/bitcoin_64.png</td><td>2024-01-18T22:00:00Z\n",
       "</td></tr><tr><td>ABC News\"</td><td>KEN SWEET AP business writer</td><td>Regulators set to decide whether to OK new bitcoin fund. What investors need to know</td><td>https://abcnews.go.com/US/wireStory/regulators-set-decide-new-bitcoin-fund-investors-106255605</td><td>https://i.abcnewsfe.com/a/76e820b5-680b-4fd5-a5ef-51e37b5da0ae/wirestory_76c873b7abb6aac299f6eae101fd38d3_16x9.jpg?w=1600</td><td>2024-01-10T15:27:53Z\n",
       "</td></tr><tr><td>heise online\"</td><td>Daniel AJ Sokolov</td><td>Betrugsfalle gefundene Bitcoin</td><td>https://www.heise.de/news/Betrugsfalle-gefundene-Bitcoin-9600837.html</td><td>https://heise.cloudimg.io/bound/1200x1200/q85.png-lossy-85.webp-lossy-85.foil1/_www-heise-de_/imgs/18/4/5/2/7/8/1/7/Betrug_Bitcoin-c37985164dac133e.jpg</td><td>2024-01-17T23:01:00Z\n",
       "</td></tr><tr><td>heise online\"</td><td>Martin Holland</td><td>Ein Bitcoin erstmals seit April 2022 wieder über 45.000 US-Dollar wert</td><td>https://www.heise.de/news/Ein-Bitcoin-erstmals-seit-April-2022-wieder-ueber-45-000-US-Dollar-wert-9584862.html</td><td>https://heise.cloudimg.io/bound/1200x1200/q85.png-lossy-85.webp-lossy-85.foil1/_www-heise-de_/imgs/18/4/5/1/9/4/6/3/shutterstock_1888907947-54ebd2bafa9434e9.jpg</td><td>2024-01-02T09:08:00Z\n",
       "</td></tr><tr><td>Xataka.com\"</td><td>Enrique Pérez</td><td>Qué son los ETF de Bitcoin y por qué la decisión de la SEC sobre su aprobación es tan esperada</td><td>https://www.xataka.com/criptomonedas/que-etf-bitcoin-que-su-aprobacion-sec-decision-esperada</td><td>https://i.blogs.es/962ba7/etf-bitcoin/840_560.jpeg</td><td>2024-01-09T22:29:15Z\n",
       "</td></tr><tr><td>heise online\"</td><td>Martin Holland</td><td>Erster Bitcoin-Fonds in den USA sammelt über eine Milliarde US-Dollar ein</td><td>https://www.heise.de/news/Erster-Bitcoin-Fonds-in-den-USA-sammelt-ueber-eine-Milliarde-US-Dollar-ein-9602117.html</td><td>https://heise.cloudimg.io/bound/1200x1200/q85.png-lossy-85.webp-lossy-85.foil1/_www-heise-de_/imgs/18/4/5/2/8/4/7/9/shutterstock_1916262404-b7c59be85e1ebe55.jpg</td><td>2024-01-19T07:04:00Z\n",
       "</td></tr><tr><td>Xataka.com\"</td><td>Enrique Pérez</td><td>El creador de Bitcoin desapareció hace 13 años. Ahora su cuenta acaba de recibir una transferencia millonaria</td><td>https://www.xataka.com/criptomonedas/creador-bitcoin-desaparecio-hace-13-anos-ahora-su-cuenta-acaba-recibir-transferencia-millonaria</td><td>https://i.blogs.es/2b459f/satoshi_nakamoto/840_560.jpeg</td><td>2024-01-08T17:01:07Z\n",
       "</td></tr><tr><td>Medium\"</td><td>CoinPost Global</td><td>Bitcoin Is Crucial Climate Tech (BTP Ep. 1 Recap)</td><td>https://medium.com/@coinpost.gb/bitcoin-is-crucial-climate-tech-btp-ep-1-recap-854d3ebbe573</td><td>https://miro.medium.com/v2/resize:fit:640/0*3WEqMiNG3I0IfnHC.png</td><td>2024-01-02T06:44:47Z\n",
       "</td></tr><tr><td>MarketWatch\"</td><td>Chris Matthews</td><td> Barbara Kollmeyer</td><td>Bitcoin’s price slumps as analysts weigh chances that ‘wild card’ Gensler spikes spot ETF</td><td>https://www.marketwatch.com/story/bitcoins-price-slumps-as-analysts-weigh-chances-that-wild-card-gensler-spikes-spot-etf-1b13c26f</td><td>https://images.mktw.net/im-96310580/social</td></tr><tr><td>heise online\"</td><td>Daniel AJ Sokolov</td><td>Jetzt geht’s los: SEC genehmigt Bitcoin-Fonds</td><td>https://www.heise.de/news/Jetzt-geht-s-los-SEC-genehmigt-Bitcoin-Fonds-9593793.html</td><td>https://heise.cloudimg.io/bound/1200x1200/q85.png-lossy-85.webp-lossy-85.foil1/_www-heise-de_/imgs/18/4/5/2/4/2/0/4/shutterstock_1937129161-91f75b37827ffe38.jpg</td><td>2024-01-11T03:31:00Z\n",
       "</td></tr><tr><td>Themarginalian.org\"</td><td>Maria Popova</td><td>Of Wonder</td><td> the Courage of Uncertainty</td><td> and How to Hear Your Soul: The Best of The Marginalian 2023</td><td>https://www.themarginalian.org/2023/12/28/best-of-2023/</td></tr><tr><td>heise online\"</td><td>Daniel AJ Sokolov</td><td>Falschmeldung auf Twitter: SEC genehmigt doch keine Bitcoin-Fonds</td><td>https://www.heise.de/news/Falschmeldung-auf-Twitter-SEC-genehmigt-doch-keine-Bitcoin-Fonds-9592489.html</td><td>https://heise.cloudimg.io/bound/1200x1200/q85.png-lossy-85.webp-lossy-85.foil1/_www-heise-de_/imgs/18/4/5/2/3/5/1/4/shutterstock_1976944238-5e18b8fbf881e81c.jpg</td><td>2024-01-10T00:36:00Z\n",
       "</td></tr><tr><td>Bitcoinsistemi.com\"</td><td>Mete Demiralp</td><td>SEC's X Account Hacked</td><td> Bitcoin Spot ETFs Not yet Approved</td><td>https://en.bitcoinsistemi.com/breaking-gary-gensler-says-secs-x-account-hacked-bitcoin-spot-etfs-not-yet-approved/</td><td>https://www.bitcoinsistemi.com/wp-content/uploads/2022/05/sec-kripto-para-gary-gensler.jpg</td></tr><tr><td>MarketWatch\"</td><td>Frances Yue</td><td>Jamie Dimon still sees no value in bitcoin after ETFs debut: ‘please stop talking about this s___’</td><td>https://www.marketwatch.com/story/jamie-dimon-still-sees-no-value-in-bitcoin-after-etfs-debut-please-stop-talking-about-this-s-949b7c54</td><td>https://images.mktw.net/im-05670152/social</td><td>2024-01-17T16:39:00Z\n",
       "</td></tr><tr><td>MarketWatch\"</td><td>Frances Yue</td><td>Why the debut of Bitcoin ETFs may not be the best news for crypto stocks</td><td> futures ETFs</td><td>https://www.marketwatch.com/story/why-the-debut-of-bitcoin-etfs-may-not-be-the-best-news-for-crypto-stocks-futures-etfs-cfa8e423</td><td>https://images.mktw.net/im-274111/social</td></tr><tr><td>Gigazine.net\"</td><td>@GIGAZINE</td><td>米国証券�?�引委員会�?�Xアカウントを乗�?��?�られ「ビットコインETF�?�上場を�?�?る�?�?�投稿�?�る事態�?�発生＆投稿直後�?�ビットコイン�?�価格�?�急上昇</td><td>https://gigazine.net/news/20240110-sec-x-hacked-bitcoin-fake/</td><td>https://i.gzn.jp/img/2024/01/10/sec-x-hacked-bitcoin-fake/00.png</td><td>2024-01-10T05:00:00Z\n",
       "</td></tr><tr><td>Genbeta.com\"</td><td>Bárbara Bécares</td><td>La cartera del creador de Bitcoin recibe más de un millón de euros... tras 13 años que lleva desaparecido</td><td>https://www.genbeta.com/actualidad/cartera-creador-bitcoin-recibe-millon-euros-13-anos-que-lleva-desaparecido</td><td>https://i.blogs.es/ef9cfb/traxer-k9ibeseiq04-unsplash/840_560.jpeg</td><td>2024-01-08T11:56:57Z\n",
       "</td></tr><tr><td>Ars Technica\"</td><td>Kyle Orland</td><td>Final reminder: Donate to win swag in our annual Charity Drive sweepstakes</td><td>https://arstechnica.com/gaming/2024/01/final-reminder-donate-to-win-swag-in-our-annual-charity-drive-sweepstakes-3/</td><td>https://cdn.arstechnica.net/wp-content/uploads/2023/11/charity2023-760x380.jpg</td><td>2024-01-02T15:52:21Z\n",
       "</td></tr><tr><td>MarketWatch\"</td><td>Myra P. Saefong</td><td>Why the launch of bitcoin ETFs threatens the market for gold</td><td>https://www.marketwatch.com/story/why-the-launch-of-bitcoin-etfs-threatens-the-market-for-gold-3984dad2</td><td>https://images.mktw.net/im-31352944/social</td><td>2024-01-12T21:14:00Z\n",
       "</td></tr><tr><td>MarketWatch\"</td><td>William Watts</td><td>Bitcoin is a ‘public good</td><td>’ says ARK’s Cathie Wood as spot ETF debuts</td><td>https://www.marketwatch.com/story/bitcoin-is-a-public-good-says-arks-cathie-wood-as-spot-etf-debuts-34ce0a17</td><td>https://images.mktw.net/im-851982/social</td></tr><tr><td>Hubspot.com\"</td><td>Cyan Zhong</td><td>7 Expert & Data-Backed Trend Predictions for 2024</td><td>https://blog.hubspot.com/marketing/7-data-backed-trend-predictions-for-2024#article</td><td>https://blog.hubspot.com/hubfs/Copy%20of%20Featured%20Image%20Template%20Backgrounds-Dec-19-2023-08-34-34-9450-PM.png#keepProtocol</td><td>2023-12-20T02:00:00Z\n",
       "</td></tr><tr><td>heise online\"</td><td>Stefan Krempl</td><td>EU-Gremien einig: Anonyme Barzahlungen nur noch bis 2999 Euro</td><td>https://www.heise.de/news/EU-Gremien-einig-Anonyme-Barzahlungen-nur-noch-bis-2999-Euro-9601949.html</td><td>https://heise.cloudimg.io/bound/1200x1200/q85.png-lossy-85.webp-lossy-85.foil1/_www-heise-de_/imgs/18/4/5/2/8/3/9/0/shutterstock_1840858240-a44aee88534cfc6b.jpg</td><td>2024-01-18T19:20:00Z\n",
       "</td></tr><tr><td>MarketWatch\"</td><td>Frances Yue</td><td>Bitcoin in spotlight as SEC approves new ETFs</td><td> ether rallies. Here’s why.</td><td>https://www.marketwatch.com/story/bitcoin-in-spotlight-as-sec-approves-new-etfs-ether-rallies-heres-why-5d556f73</td><td>https://images.mktw.net/im-783732/social</td></tr><tr><td>MarketWatch\"</td><td>Tomi Kilgore</td><td>Don’t assume Coinbase’s stock will benefit from the bitcoin ETF</td><td> analysts say</td><td>https://www.marketwatch.com/story/dont-assume-coinbases-stock-will-benefit-from-the-bitcoin-etf-analysts-say-3f2bf831</td><td>https://images.mktw.net/im-39716779/social</td></tr><tr><td>MarketWatch\"</td><td>Chris Matthews</td><td> Frances Yue</td><td>SEC approves spot bitcoin ETFs for trade starting Thursday</td><td>https://www.marketwatch.com/story/sec-approves-spot-bitcoin-etfs-for-trade-starting-thursday-a6e1417b</td><td>https://images.mktw.net/im-05635701/social</td></tr><tr><td>MarketWatch\"</td><td>Frances Yue</td><td>Cathie Wood dumps Grayscale and buys bitcoin-futures ETF. Here’s why.</td><td>https://www.marketwatch.com/story/cathie-wood-dumps-grayscale-and-buys-bitcoin-futures-etf-heres-why-1068969b</td><td>https://images.mktw.net/im-17572622/social</td><td>2023-12-28T17:55:00Z\n",
       "</td></tr><tr><td>MarketWatch\"</td><td>Frances Yue</td><td>Bitcoin ETFs are live. Watch for the next most popular crypto to go same route</td><td>https://www.marketwatch.com/story/bitcoin-etfs-are-live-watch-for-the-next-most-popular-crypto-to-go-same-route-eb80e963</td><td>https://images.mktw.net/im-631218/social</td><td>2024-01-12T20:45:00Z\n",
       "</td></tr><tr><td>MarketWatch\"</td><td>Chris Matthews</td><td>Bitcoin ETF: Here are the 10 funds set to debut after SEC decision</td><td>https://www.marketwatch.com/story/bitcoin-etf-here-are-the-10-funds-set-to-debut-after-sec-decision-12fe591e</td><td>https://images.mktw.net/im-96310580/social</td><td>2024-01-08T15:15:00Z\n",
       "</td></tr><tr><td>MarketWatch\"</td><td>Frances Yue</td><td>Why bitcoin may not see a ‘Santa Claus rally’</td><td> despite potential approval of crypto-based ETFs</td><td>https://www.marketwatch.com/story/why-bitcoin-may-not-see-a-santa-claus-rally-despite-potential-approval-of-crypto-based-etfs-abf046e4</td><td>https://images.mktw.net/im-783732/social</td></tr><tr><td>Genbeta.com\"</td><td>Antonio Vallejo</td><td>La SEC aprueba los 11 ETF de bitcoin tras meses de espera: qué son los ETF y por qué es tan importante para el mercado</td><td>https://www.genbeta.com/actualidad/sec-aprueba-11-etf-bitcoin-meses-espera-que-etf-que-importante-para-mercado</td><td>https://i.blogs.es/50a8c2/andre-francois-mckenzie-igyibhdntpe-unsplash/840_560.jpeg</td><td>2024-01-11T10:38:38Z\n",
       "</td></tr><tr><td>heise online\"</td><td>Frank Schräer</td><td>Mittwoch: Jugendschutz bei Facebook & Instagram</td><td> Falschmeldung zu Bitcoin-Fonds</td><td>https://www.heise.de/news/Mittwoch-Jugendschutz-bei-Facebook-Instagram-Falschmeldung-zu-Bitcoin-Fonds-9592548.html</td><td>https://heise.cloudimg.io/bound/1200x1200/q85.png-lossy-85.webp-lossy-85.foil1/_www-heise-de_/imgs/18/4/5/2/3/5/4/5/mittwoch-e91029bd0463b73c.webp</td></tr><tr><td>MarketWatch\"</td><td>Frances Yue</td><td>Bitcoin had a nice 2023. Why smaller crypto assets could now see bigger gains.</td><td>https://www.marketwatch.com/story/bitcoin-had-a-nice-2023-why-smaller-crypto-assets-could-now-see-bigger-gains-788dcffc</td><td>https://images.mktw.net/im-783732/social</td><td>2024-01-17T21:11:00Z\n",
       "</td></tr><tr><td>Business Insider\"</td><td>George Glover</td><td>From the stunning surge of the 'Magnificent 7' stocks to bitcoin's shock rebound</td><td> here are 8 of 2023's wildest markets stories</td><td>https://markets.businessinsider.com/news/stocks/craziest-stories-bitcoin-russia-magnificent-seven-recession-bond-market-crash-2023-12</td><td>https://i.insider.com/640b89ead81e7e0018be07d0?width=1200&format=jpeg</td></tr><tr><td>MarketWatch\"</td><td>Mark Hulbert</td><td>Do bitcoin ETFs have a place in retirement portfolios?</td><td>https://www.marketwatch.com/story/do-bitcoin-etfs-have-a-place-in-retirement-portfolios-d3ef6683</td><td>https://images.mktw.net/im-11686415/social</td><td>2024-01-12T19:15:00Z\n",
       "</td></tr><tr><td>heise online\"</td><td>Frank Schräer</td><td>Donnerstag: Bitcoin-Fonds doch an US-Börsen</td><td> Nordkorea mit gebrauchtem 4G-Netz</td><td>https://www.heise.de/news/Donnerstag-Bitcoin-Fonds-doch-an-US-Boersen-Nordkorea-mit-gebrauchtem-4G-Netz-9593821.html</td><td>https://heise.cloudimg.io/bound/1200x1200/q85.png-lossy-85.webp-lossy-85.foil1/_www-heise-de_/imgs/18/4/5/2/4/2/1/8/thursday-366874393383ceea.webp</td></tr><tr><td>MarketWatch\"</td><td>Christine Idzelis</td><td> Andrew Keshner</td><td>‘You want to come out strong’: What investors will be looking for in spot bitcoin ETFs after SEC approval</td><td>https://www.marketwatch.com/story/you-want-to-come-out-strong-what-investors-will-be-looking-for-in-spot-bitcoin-etfs-after-sec-approval-f50061fc</td><td>https://images.mktw.net/im-70340096/social</td></tr><tr><td>heise online\"</td><td>Patrick Bellmer</td><td>heise+ | Analyse: Was die neuen Bitcoin-ETFs für deutsche Anleger bedeuten</td><td>https://www.heise.de/hintergrund/Analyse-Was-die-neuen-Bitcoin-ETFs-fuer-deutsche-Anleger-bedeuten-9594318.html?wt_mc=rss.red.ho.ho.atom.beitrag_plus.beitrag_plus</td><td>https://heise.cloudimg.io/bound/1200x1200/q85.png-lossy-85.webp-lossy-85.foil1/_www-heise-de_/imgs/18/4/5/2/4/4/8/5/shutterstock_709061209-930a4263b1a2f4ce.jpg</td><td>2024-01-12T06:30:00Z\n",
       "</td></tr><tr><td>heise online\"</td><td>Frank Schräer</td><td>Donnerstag: Bitcoins als Wiener Betrugsfalle</td><td> Lieferdrohne für schwerere Lasten</td><td>https://www.heise.de/news/Donnerstag-Bitcoins-als-Wiener-Betrugsfalle-Lieferdrohne-fuer-schwerere-Lasten-9600863.html</td><td>https://heise.cloudimg.io/bound/1200x1200/q85.png-lossy-85.webp-lossy-85.foil1/_www-heise-de_/imgs/18/4/5/2/7/8/3/0/thursday-9f2f7a71f0f9a263.webp</td></tr><tr><td>MarketWatch\"</td><td>Emily Bary</td><td>Why Marathon Digital’s stock screams ‘buy</td><td>’ according to this new bull</td><td>https://www.marketwatch.com/story/why-marathon-digitals-stock-screams-buy-according-to-this-new-bull-61e1bbd1</td><td>https://images.mktw.net/im-809463/social</td></tr><tr><td>Hubspot.com\"</td><td>Daniel Doan</td><td>Weird Words in English: 100+ Terms You Need to Know from 2023 and Beyond</td><td>https://blog.hubspot.com/marketing/weirdest-words-added-to-oxford-english-dictionary-2014#article</td><td>https://blog.hubspot.com/hubfs/weirdest-words-added-to-oxford-english-dictionary-2014_1-1.jpg#keepProtocol</td><td>2024-01-03T12:00:00Z\n",
       "</td></tr><tr><td>MarketWatch\"</td><td>Frances Yue</td><td>Bitcoin ETFs finally approved after a chaotic</td><td> ‘embarrassing’ 24 hours for SEC</td><td>https://www.marketwatch.com/story/bitcoin-etfs-finally-approved-after-a-chaotic-embarrassing-24-hours-for-sec-e42233d5</td><td>https://images.mktw.net/im-96310580/social</td></tr><tr><td>Golem.de\"</td><td>Andreas Donath</td><td>Warten auf ETF-Entscheidung: Bitcoin steigt über 45.000 US-Dollar</td><td>https://www.golem.de/sonstiges/zustimmung/auswahl.html?from=https%3A%2F%2Fwww.golem.de%2Fnews%2Fwarten-auf-etf-entscheidung-bitcoin-steigt-ueber-45-000-us-dollar-2401-180753.html&referer=https%3A%2F%2Ft.co%2F9027dfe37c</td><td>null</td><td>2024-01-03T06:58:01Z\n",
       "</td></tr><tr><td>Golem.de\"</td><td>Marc Stöckel</td><td>X-Konto der SEC gehackt: Angreifer verbreitet Fake-News über Bitcoin-ETF-Zulassung</td><td>https://www.golem.de/sonstiges/zustimmung/auswahl.html?from=https%3A%2F%2Fwww.golem.de%2Fnews%2Fx-konto-der-sec-gehackt-angreifer-verbreitet-fake-news-ueber-bitcoin-etf-zulassung-2401-181012.html&referer=https%3A%2F%2Ft.co%2F0917c7d539</td><td>null</td><td>2024-01-10T08:14:01Z\n",
       "</td></tr><tr><td>heise online\"</td><td>Sylvester Tremmel</td><td> Christian Wölbert</td><td>heise+ | Interview: Molly White über die Zukunft der Blockchain-Branche</td><td>https://www.heise.de/hintergrund/Interview-Molly-White-ueber-die-Zukunft-der-Blockchain-Branche-9574922.html?wt_mc=rss.red.ho.ho.atom.beitrag_plus.beitrag_plus</td><td>https://heise.cloudimg.io/bound/1200x1200/q85.png-lossy-85.webp-lossy-85.foil1/_www-heise-de_/imgs/18/4/5/1/4/1/9/2/52475752482_412ec9a1ca_o-56323d397fb76a0a.jpg</td></tr><tr><td>Die Zeit\"</td><td>ZEIT ONLINE: Geld - Ijoma Mangold</td><td>Bitcoin-ETF: Der Bitcoin trägt jetzt Nadelstreifen und Krawatte</td><td>https://www.zeit.de/geld/2024-01/bitcoin-etf-kryptowaehrung-geldanlage</td><td>https://img.zeit.de/geld/2024-01/bitcoin-etf-kryptowaehrung/wide__1300x731</td><td>2024-01-06T10:12:48Z\n",
       "</td></tr><tr><td>MarketWatch\"</td><td>Christine Idzelis</td><td>Crypto hedge funds soared in 2023</td><td> dwarfing broader industry’s gains as macro slipped</td><td>https://www.marketwatch.com/story/crypto-hedge-funds-soared-in-2023-dwarfing-broader-industrys-gains-as-macro-slipped-d9a4e039</td><td>https://images.mktw.net/im-264587/social</td></tr><tr><td>MarketWatch\"</td><td>Bill Peters</td><td>SEC weighing ‘additional measures’ after hacked post on bitcoin ETF approval</td><td>https://www.marketwatch.com/story/sec-weighing-additional-measures-after-hacked-post-on-bitcoin-etf-approval-d983921b</td><td>https://images.mktw.net/im-685532/social</td><td>2024-01-13T02:04:00Z\n",
       "</td></tr><tr><td>ABC News\"</td><td>Aaron Katersky</td><td>Opening statements in trial of NYC woman charged with financing terrorist groups</td><td>https://abcnews.go.com/US/opening-statements-trial-woman-charged-financing-terrorist-groups/story?id=106389259</td><td>https://i.abcnewsfe.com/a/30b7cd0d-cf8a-4860-a7ca-20ed08da16cf/cryptocurrency-gty-lv-240115_1705354677307_hpMain_16x9.jpg?w=1600</td><td>2024-01-15T22:24:21Z\n",
       "</td></tr><tr><td>Journal du geek\"</td><td>Olivier</td><td>Le bitcoin fait son entrée à Wall Street</td><td>https://www.journaldugeek.com/2024/01/13/le-bitcoin-fait-son-entree-a-wall-street/</td><td>https://www.journaldugeek.com/app/uploads/2024/01/bitcoin.jpg</td><td>2024-01-13T10:00:56Z\n",
       "</td></tr><tr><td>Theregister.com\"</td><td>Chris Williams</td><td>SEC Twitter hijacked to push fake news of hotly anticipated Bitcoin ETF approval</td><td>https://www.theregister.com/2024/01/09/sec_bitcoin_etf_hacked/</td><td>https://regmedia.co.uk/2021/01/15/shutterstock_bitcoin.jpg</td><td>2024-01-09T21:48:07Z\n",
       "</td></tr><tr><td>heise online\"</td><td>Nils Jacobsen</td><td>Ausblick: Was bringt das Tech-Jahr 2024 für Apple</td><td> KI</td><td> Bitcoin & Co.?​</td><td>https://www.heise.de/meinung/Ausblick-Was-bringt-das-Tech-Jahr-2024-fuer-Apple-KI-Bitcoin-Co-9583439.html?wt_mc=rss.red.ho.ho.atom.beitrag.beitrag</td></tr><tr><td>ReadWrite\"</td><td>Graeme Hanna</td><td>Tether: UN issues warning over crypto token</td><td>https://readwrite.com/tether-un-issues-warning-over-crypto-token/</td><td>https://readwrite.com/wp-content/uploads/2024/01/pexels-rdne-stock-project-8370752-scaled.jpg</td><td>2024-01-15T13:35:26Z\n",
       "</td></tr><tr><td>ReadWrite\"</td><td>Brian-Damien Morgan</td><td>Spanish cyberattack: ransom of €10million demanded by hackers</td><td>https://readwrite.com/spanish-cyber-attack-ransom-of-e10million-demanded-by-hackers/</td><td>https://readwrite.com/wp-content/uploads/2024/01/pexels-pixabay-54097-scaled.jpg</td><td>2024-01-16T20:07:12Z\n",
       "</td></tr><tr><td>Theregister.com\"</td><td>Chris Williams</td><td>SEC Twitter hijacked to push fake news of ETF approval</td><td>https://www.theregister.com/2024/01/09/btc_sec/</td><td>https://regmedia.co.uk/2021/01/15/shutterstock_bitcoin.jpg</td><td>2024-01-09T21:48:07Z\n",
       "</td></tr><tr><td>Microsiervos.com\"</td><td>alvy@microsiervos.com (Alvy)</td><td>Aprobados los primeros ETF de Bitcoin</td><td> toda una validación para el mercado de la primera y más reconocible criptodivisa</td><td>https://www.microsiervos.com/archivo/economia/aprobados-etf-bitcoin-validacion-mercado-primera-criptodivisa.html</td><td>https://img.microsiervos.com/images2024/bitcoin-ETF.webp</td></tr><tr><td>New Scientist\"</td><td>Matthew Sparkes</td><td>Should nations try to ban bitcoin because of its environmental impact?</td><td>https://www.newscientist.com/article/2410610-should-nations-try-to-ban-bitcoin-because-of-its-environmental-impact/</td><td>https://images.newscientist.com/wp-content/uploads/2024/01/08142517/SEI_186039594.jpg</td><td>2024-01-08T17:49:01Z\n",
       "</td></tr><tr><td>Business Insider\"</td><td>Dan DeFrancesco</td><td>The unsealed documents related to Jeffrey Epstein weren't full of bombshells</td><td> but some new details emerged</td><td>https://www.businessinsider.com/news-today-january-4-jeffrey-epstein-unsealed-documents-2024-1</td><td>https://i.insider.com/65969d036979d73718204b17?width=1200&format=jpeg</td></tr><tr><td>Business Insider\"</td><td>Dan DeFrancesco</td><td>The state of Wall Street's drug culture</td><td>https://www.businessinsider.com/news-today-january-19-wall-street-drug-culture-2024-1</td><td>https://i.insider.com/647a453040bf000019fa15d4?width=1200&format=jpeg</td><td>2024-01-19T14:26:03Z\n",
       "</td></tr><tr><td>Gizmodo.jp\"</td><td>�?�もり</td><td>月�?��?�陸を断念�?��?�「ペレグリン�?�?一体�?��?��?��?�?�れ�?��?��?��?�？</td><td>https://www.gizmodo.jp/2024/01/astrobotic-peregrine-moon-payloads-time-capsule-bitcoin.html</td><td>https://media.loom-app.com/gizmodo/dist/images/2024/01/07/240107Peregrine.jpg?w=1280&h=630&f=jpg</td><td>2024-01-18T14:00:00Z\n",
       "</td></tr><tr><td>Business Insider\"</td><td>Dan DeFrancesco</td><td>Wall Street's rocky start</td><td>https://www.businessinsider.com/wall-street-rocky-start-and-shaky-job-landscape-2024-1</td><td>https://i.insider.com/6582df4c1c5c7b8c9a0a2d4a?width=1200&format=jpeg</td><td>2024-01-16T16:18:05Z\n",
       "</td></tr><tr><td>9to5Mac\"</td><td>Ben Lovejoy</td><td>PSA: Warn your non-techy friends about fake AppleCoin ads</td><td>https://9to5mac.com/2024/01/16/fake-applecoin-ads/</td><td>https://i0.wp.com/9to5mac.com/wp-content/uploads/sites/6/2024/01/Fake-AppleCoin-ads.jpg?resize=1200%2C628&quality=82&strip=all&ssl=1</td><td>2024-01-16T12:39:32Z\n",
       "</td></tr><tr><td>Hipertextual\"</td><td>Juan Carlos Figueroa</td><td>Terroristas</td><td> estafadores y pedófilos siguen recaudando miles de millones de dólares al año en criptomonedas</td><td>http://hipertextual.com/2024/01/terroristas-pedofilos-estafadores-fortuna-criptomonedas</td><td>https://imgs.hipertextual.com/wp-content/uploads/2023/07/surtido-minimalista-bodegones-criptomonedas.jpg</td></tr><tr><td>heise online\"</td><td>Stefan Krempl</td><td>Darknet: Polizei hebt </td><td>Kingdom Market</td><td> aus</td><td>https://www.heise.de/news/Darknet-Polizei-hebt-Kingdom-Market-aus-9579808.html</td></tr><tr><td>Genbeta.com\"</td><td>Bárbara Bécares</td><td>El impago a contratistas en Texas tira por tierra el anonimato de Bitcoin y destapa una trama millonaria de inversores chinos</td><td>https://www.genbeta.com/actualidad/impago-a-contratistas-texas-tira-tierra-anonimato-bitcoin-destapa-trama-millonaria-inversores-chinos</td><td>https://i.blogs.es/2192ec/ewan-kennedy-mkdbteclpzc-unsplash/840_560.jpeg</td><td>2023-12-26T11:35:37Z\n",
       "</td></tr><tr><td>Die Zeit\"</td><td>ZEIT ONLINE: Geldanlage - Heike Buchter</td><td>Bitcoin-ETFs: Das Risiko trägt die Allgemeinheit</td><td>https://www.zeit.de/wirtschaft/geldanlage/2024-01/bitcoin-etf-risiko-finanzsystem-us-boersenaufsicht-sec</td><td>https://img.zeit.de/wirtschaft/geldanlage/2024-01/sec-us-boersenaufsicht/wide__1300x731</td><td>2024-01-11T04:28:22Z\n",
       "</td></tr><tr><td>Die Zeit\"</td><td>ZEIT ONLINE: News -</td><td>Währung: US-Börsenaufsicht genehmigt Bitcoin-Fonds</td><td>https://www.zeit.de/news/2024-01/11/us-boersenaufsicht-genehmigt-bitcoin-fonds</td><td>https://img.zeit.de/news/2024-01/11/us-boersenaufsicht-genehmigt-bitcoin-fonds-image-group/wide__1300x731</td><td>2024-01-11T02:33:24Z\n",
       "</td></tr><tr><td>Die Zeit\"</td><td>ZEIT ONLINE: Geld - Marlena Wessollek</td><td> Mathias Peer</td><td>Kryptowährung: US-Börsenaufsicht verwirrt mit Bitcoin-Falschmeldung</td><td>https://www.zeit.de/digital/2024-01/kryptobranche-bitcoin-sec</td><td>https://img.zeit.de/digital/2024-01/kryptobranche-bitcoin-sec-2/wide__1300x731</td></tr><tr><td>Slashdot.org\"</td><td>BeauHD</td><td>CEO of Collapsed Crypto Fund HyperVerse Does Not Appear To Exist</td><td>https://slashdot.org/story/24/01/03/2218208/ceo-of-collapsed-crypto-fund-hyperverse-does-not-appear-to-exist</td><td>https://a.fsdn.com/sd/topics/bitcoin_64.png</td><td>2024-01-03T23:50:00Z\n",
       "</td></tr><tr><td>MarketWatch\"</td><td>Emily Bary</td><td>USDC issuer Circle files for IPO amid hot crypto market</td><td>https://www.marketwatch.com/story/usdc-issuer-circle-files-for-ipo-amid-hot-crypto-market-dcec7016</td><td>https://images.mktw.net/im-07933837/social</td><td>2024-01-11T20:17:00Z\n",
       "</td></tr><tr><td>Die Zeit\"</td><td>ZEIT ONLINE: News -</td><td>Digitalwährung : Bitcoin erstmals seit April 2022 über 45.000 US-Dollar</td><td>https://www.zeit.de/news/2024-01/02/bitcoin-erstmals-seit-april-2022-ueber-45-000-us-dollar</td><td>https://img.zeit.de/news/2024-01/02/bitcoin-erstmals-seit-april-2022-ueber-45-000-us-dollar-image-group/wide__1300x731</td><td>2024-01-02T07:13:04Z\n",
       "</td></tr><tr><td>heise online\"</td><td>Frank Schräer</td><td>Freitag: Hyperloop-Hype wohl zu Ende</td><td> Lapsus$-Täter in Psychiatrie statt in Haft</td><td>https://www.heise.de/news/Freitag-Hyperloop-Hype-wohl-zu-Ende-Lapsus-Taeter-in-Psychiatrie-statt-Haft-9581055.html</td><td>https://heise.cloudimg.io/bound/1200x1200/q85.png-lossy-85.webp-lossy-85.foil1/_www-heise-de_/imgs/18/4/5/1/7/4/6/5/friday-8811913955340084.webp</td></tr><tr><td>Die Zeit\"</td><td>ZEIT ONLINE: Geldanlage - Eric Voigt</td><td>Kryptowährung: Bitcoin verliert innerhalb eines Tages mehr als neun Prozent an Wert</td><td>https://www.zeit.de/wirtschaft/geldanlage/2024-01/bitcoin-kryptowaehrung-geldanlage</td><td>https://img.zeit.de/wirtschaft/geldanlage/2024-01/bitcoin-kryptowaehrung-geldanlage-bild/wide__1300x731</td><td>2024-01-03T14:23:45Z\n",
       "</td></tr><tr><td>Die Zeit\"</td><td>ZEIT ONLINE: News -</td><td>Digitalwährung: Bitcoin verliert deutlich: Jüngste Gewinne sind weg</td><td>https://www.zeit.de/news/2024-01/03/bitcoin-verliert-deutlich-juengste-gewinne-sind-weg</td><td>https://img.zeit.de/news/2024-01/03/bitcoin-verliert-deutlich-juengste-gewinne-sind-weg-image-group/wide__1300x731</td><td>2024-01-03T13:38:37Z\n",
       "</td></tr><tr><td>Die Zeit\"</td><td>ZEIT ONLINE: News -</td><td>Kryptowährung: Bitcoin fällt - Freude über US-Zulassung für Fonds verpufft</td><td>https://www.zeit.de/news/2024-01/19/bitcoin-faellt-freude-ueber-us-zulassung-fuer-fonds-verpufft</td><td>https://img.zeit.de/news/2024-01/19/bitcoin-faellt-freude-ueber-us-zulassung-fuer-fonds-verpufft-image-group/wide__1300x731</td><td>2024-01-19T09:57:00Z\n",
       "</td></tr><tr><td>MarketWatch\"</td><td>Cody Willard</td><td>10 predictions for stocks</td><td> crypto</td><td> AI</td><td> gold and bonds in 2024</td></tr><tr><td>Faz.net\"</td><td>dpa/mj.</td><td>Bitcoin fällt nach Genehmigungs-Verwirrung tiefer</td><td>https://www.faz.net/aktuell/finanzen/bitcoin-kurs-der-kryptowaehrung-faellt-nach-genehmigungs-verwirrung-19437593.html</td><td>https://media1.faz.net/ppmedia/aktuell/feuilleton/2764071983/1.9437595/facebook_teaser/seit-tagen-wird-ueber-eine.jpg</td><td>2024-01-10T06:25:55Z\n",
       "</td></tr><tr><td>\n",
       "</td><td>null</td><td>null</td><td>null</td><td>null</td><td>null</td></tr></tbody></table></div>"
      ]
     },
     "metadata": {
      "application/vnd.databricks.v1+output": {
       "addedWidgets": {},
       "aggData": [],
       "aggError": "",
       "aggOverflow": false,
       "aggSchema": [],
       "aggSeriesLimitReached": false,
       "aggType": "",
       "arguments": {},
       "columnCustomDisplayInfos": {},
       "data": [
        [
         "Engadget",
         "Karissa Bell",
         "SEC approves bitcoin ETFs (for real this time)",
         "https://www.engadget.com/sec-approves-bitcoin-etfs-for-real-this-time-224125584.html",
         "https://s.yimg.com/ny/api/res/1.2/n6iLNJ_9dtK.fT6WAXK1sA--/YXBwaWQ9aGlnaGxhbmRlcjt3PTEyMDA7aD03OTU-/https://s.yimg.com/os/creatr-uploaded-images/2024-01/3edf5140-afdd-11ee-bf7c-7918e1b9d963",
         "2024-01-10T22:41:25Z\n"
        ],
        [
         "Wired\"",
         "Joel Khalili",
         "Why Crypto Idealogues Won’t Touch Bitcoin ETFs",
         "https://www.wired.com/story/bitcoin-etf-cryptocurrencies-split/",
         "https://media.wired.com/photos/65a0305c4aaf02fdf493f220/191:100/w_1280",
         "c_limit/Not-Everyone-Is-Jazzed-About-Bitcoin-ETFs-Business-1299911534.jpg"
        ],
        [
         "The Verge\"",
         "Elizabeth Lopatto",
         "How to sue a hacker using Bitcoin",
         "https://www.theverge.com/2024/1/10/24033166/bitcoin-crypto-ryan-dellone-lawsuit-hacker",
         "https://cdn.vox-cdn.com/thumbor/PDBUffTgNFFVbpRuDkyP8ENjR-Y=/0x0:2040x1360/1200x628/filters:focal(1020x680:1021x681)/cdn.vox-cdn.com/uploads/chorus_asset/file/23951299/STK087_VRG_Illo_N_Barclay_1_bitcoin.jpg",
         "2024-01-10T18:55:35Z\n"
        ],
        [
         "The Verge\"",
         "Emma Roth",
         "The SEC’s X account was hijacked to post a fake approval of Bitcoin ETFs",
         "https://www.theverge.com/2024/1/9/24032095/bitcoin-etf-sec-fake-tweet-x-gary-gensler",
         "https://cdn.vox-cdn.com/thumbor/jxKHGn1E5xyrAO8bukj3ikqy5Bw=/0x0:2040x1360/1200x628/filters:focal(1020x680:1021x681)/cdn.vox-cdn.com/uploads/chorus_asset/file/23951296/STK087_VRG_Illo_N_Barclay_4_bitcoin.jpg",
         "2024-01-09T21:41:56Z\n"
        ],
        [
         "Wired\"",
         "Andrew Couts",
         " Andy Greenberg",
         "The SEC's Official X Account Was ‘Compromised'",
         "https://www.wired.com/story/sec-x-account-compromise/",
         "https://media.wired.com/photos/659dbf12156f76cbf3057921/191:100/w_1280"
        ],
        [
         "Gizmodo.com\"",
         "Maxwell Zeff",
         "Bitcoin Price Plummets Due to Hacked SEC Tweet",
         "https://gizmodo.com/bitcoin-price-plummets-hacked-sec-tweet-1851153717",
         "https://i.kinja-img.com/image/upload/c_fill",
         "h_675"
        ],
        [
         "Wired\"",
         "Andy Greenberg",
         "How a 27-Year-Old Codebreaker Busted the Myth of Bitcoin’s Anonymity",
         "https://www.wired.com/story/27-year-old-codebreaker-busted-myth-bitcoins-anonymity/",
         "https://media.wired.com/photos/65a72695e5015b60480cbdf6/191:100/w_1280",
         "c_limit/Meiklejohn_Final_Static2.jpg"
        ],
        [
         "Wired\"",
         "Andy Greenberg",
         "Child Abusers Are Getting Better at Using Crypto to Cover Their Tracks",
         "https://www.wired.com/story/csam-sellers-monero-rise/",
         "https://media.wired.com/photos/659f246783a7239c87585c11/191:100/w_1280",
         "c_limit/CSAM-report-sec-GettyImages-885630762.jpg"
        ],
        [
         "Business Insider\"",
         "Dan DeFrancesco",
         "Bitcoin is so back",
         "https://www.businessinsider.com/news-today-january-11-bitcoin-etf-approval-2024-1",
         "https://i.insider.com/659fd4dcdcdb354a98569fc9?width=1200&format=jpeg",
         "2024-01-11T14:32:47Z\n"
        ],
        [
         "Slashdot.org\"",
         "BeauHD",
         "SEC Approves 11 Spot Bitcoin ETFs",
         "https://slashdot.org/story/24/01/10/2132216/sec-approves-11-spot-bitcoin-etfs",
         "https://a.fsdn.com/sd/topics/bitcoin_64.png",
         "2024-01-10T21:33:00Z\n"
        ],
        [
         "Business Insider\"",
         "Matthew Fox",
         "SEC says Twitter account was compromised",
         " it's not approved a bitcoin ETF",
         "https://markets.businessinsider.com/news/currencies/bitcoin-etfs-sec-approval-twitter-hack-gary-gensler-crypto-2024-1",
         "https://i.insider.com/659dbb20dcdb354a9856111a?width=1200&format=jpeg"
        ],
        [
         "ReadWrite\"",
         "Maxwell William",
         "Bitcoin soars above $45",
         "000 in New Year rally",
         " eyes on SEC for ETF approvals",
         "https://readwrite.com/bitcoin-soars-above-45000-in-new-year-rally-eyes-on-sec-for-etf-approvals/"
        ],
        [
         "ReadWrite\"",
         "Deanna Ritchie",
         "Bitcoin ETF: BTC price falls as traders await big SEC decision",
         "https://readwrite.com/bitcoin-etf-btc-price-falls-as-traders-await-big-sec-decision/",
         "https://readwrite.com/wp-content/uploads/2024/01/Bitcoin-ETF-BTC-price-falls.jpg",
         "2024-01-06T02:02:18Z\n"
        ],
        [
         "ReadWrite\"",
         "James Jones",
         "Bitcoin price: $400m liquidation leads to significant slump",
         "https://readwrite.com/bitcoin-price-400m-liquidation-leads-to-significant-slump/",
         "https://readwrite.com/wp-content/uploads/2024/01/yigit-ali-atasoy-z1jggXh29_Q-unsplash-scaled.jpg",
         "2024-01-03T16:41:52Z\n"
        ],
        [
         "ReadWrite\"",
         "Maxwell William",
         "BlackRock and Fidelity set competitive fees for upcoming Bitcoin ETFs",
         "https://readwrite.com/blackrock-and-fidelity-set-competitive-fees-for-upcoming-bitcoin-etfs/",
         "https://readwrite.com/wp-content/uploads/2023/12/Bitcoin-gathers-momentum.jpg",
         "2024-01-08T16:48:40Z\n"
        ],
        [
         "ReadWrite\"",
         "Graeme Hanna",
         "US SEC finally approves Bitcoin ETFs",
         "https://readwrite.com/us-sec-finally-approves-bitcoin-etfs/",
         "https://readwrite.com/wp-content/uploads/2023/12/UK-Finance-Ministry-to-discuss-crypto-banking.jpeg",
         "2024-01-11T12:56:26Z\n"
        ],
        [
         "Business Insider\"",
         "Joshua Zitser",
         "A guy just signed a contract to rent an apartment using bitcoin",
         " likely a world first",
         "https://www.businessinsider.com/argentina-crypto-first-ever-bitcoin-rental-contract-landlord-tenant-2024-1",
         "https://i.insider.com/65a67a556979d737182373a3?width=1200&format=jpeg"
        ],
        [
         "Business Insider\"",
         "Theron Mohamed",
         "Ark's Cathie Wood says bitcoin could hit $1.5 million by 2030. The US economy would have to crash",
         " 'Shark Tank' investor Kevin O'Leary says.",
         "https://markets.businessinsider.com/news/currencies/bitcoin-price-forecast-cathie-wood-kevin-oleary-us-economy-crash-2024-1",
         "https://i.insider.com/611b93d6a4b07b0018ade5b9?width=1200&format=jpeg"
        ],
        [
         "NPR\"",
         "David Gura",
         "After a brutal stretch",
         " a remarkable thing is happening: Cryptocurrencies are surging",
         "https://www.npr.org/2023/12/26/1220603847/crypto-cryptocurrency-bitcoin-ftx-binance-cz-bankman-fried",
         "https://media.npr.org/assets/img/2023/12/25/gettyimages-1402675790_wide-eadf8676b64af620ebb4f8ae76eb29bc059f2598-s1400-c100.jpg"
        ],
        [
         "Business Insider\"",
         "Theron Mohamed",
         "Morgan Stanley's chairman slams bitcoin as speculative and volatile – and expects the US to dodge a recession",
         "https://markets.businessinsider.com/news/currencies/morgan-stanley-gorman-bitcoin-crypto-banking-crisis-recession-rate-cuts-2024-1",
         "https://i.insider.com/659689aaec62ab5daf8086dd?width=1200&format=jpeg",
         "2024-01-04T11:28:57Z\n"
        ],
        [
         "Business Insider\"",
         "Theron Mohamed",
         "BlackRock CEO Larry Fink warns of stubborn inflation - but expects growth to accelerate this year if interest rates drop",
         "https://www.businessinsider.com/blackrock-larry-fink-inflation-growth-recession-outlook-fed-rate-cuts-2024-1",
         "https://i.insider.com/652fbc37211def8ed837e42a?width=1200&format=jpeg",
         "2024-01-15T12:14:45Z\n"
        ],
        [
         "Hipertextual\"",
         "Alberto Martín",
         "Por qué son tan importantes los ETFs de Bitcoin a los que ha dado el visto bueno la SEC",
         "http://hipertextual.com/2024/01/etfs-de-bitcoin",
         "https://imgs.hipertextual.com/wp-content/uploads/2021/09/cardmapr-nl-rDzI7m7sjPE-unsplash-scaled.jpg",
         "2024-01-11T11:00:12Z\n"
        ],
        [
         "Business Insider\"",
         "Kiera Fields",
         "A lawsuit filed against a bitcoin mine in Texas has shed light on a growing trend: US crypto mines backed by millions of dollars from Chinese investors",
         "https://www.businessinsider.com/bitcoin-mine-texas-lawsuit-links-to-chinese-investors-2023-12",
         "https://i.insider.com/658acb99ec62ab5daf7ea6be?width=1200&format=jpeg",
         "2023-12-26T14:46:23Z\n"
        ],
        [
         "Xataka.com\"",
         "Javier Pastor",
         "EEUU aprueba los ETF de Bitcoin. Cuando ocurrió con el oro",
         " el metal acabó cuadruplicando su valor",
         "https://www.xataka.com/criptomonedas/eeuu-aprueba-etf-bitcoin-cuando-ocurrio-oro-metal-acabo-cuadruplicando-su-valor",
         "https://i.blogs.es/aadeb6/bitcoin1/840_560.jpeg"
        ],
        [
         "Slashdot.org\"",
         "BeauHD",
         "'Stablecoins' Enabled $40 Billion In Crypto Crime Since 2022",
         "https://yro.slashdot.org/story/24/01/18/2112213/stablecoins-enabled-40-billion-in-crypto-crime-since-2022",
         "https://a.fsdn.com/sd/topics/bitcoin_64.png",
         "2024-01-18T22:00:00Z\n"
        ],
        [
         "ABC News\"",
         "KEN SWEET AP business writer",
         "Regulators set to decide whether to OK new bitcoin fund. What investors need to know",
         "https://abcnews.go.com/US/wireStory/regulators-set-decide-new-bitcoin-fund-investors-106255605",
         "https://i.abcnewsfe.com/a/76e820b5-680b-4fd5-a5ef-51e37b5da0ae/wirestory_76c873b7abb6aac299f6eae101fd38d3_16x9.jpg?w=1600",
         "2024-01-10T15:27:53Z\n"
        ],
        [
         "heise online\"",
         "Daniel AJ Sokolov",
         "Betrugsfalle gefundene Bitcoin",
         "https://www.heise.de/news/Betrugsfalle-gefundene-Bitcoin-9600837.html",
         "https://heise.cloudimg.io/bound/1200x1200/q85.png-lossy-85.webp-lossy-85.foil1/_www-heise-de_/imgs/18/4/5/2/7/8/1/7/Betrug_Bitcoin-c37985164dac133e.jpg",
         "2024-01-17T23:01:00Z\n"
        ],
        [
         "heise online\"",
         "Martin Holland",
         "Ein Bitcoin erstmals seit April 2022 wieder über 45.000 US-Dollar wert",
         "https://www.heise.de/news/Ein-Bitcoin-erstmals-seit-April-2022-wieder-ueber-45-000-US-Dollar-wert-9584862.html",
         "https://heise.cloudimg.io/bound/1200x1200/q85.png-lossy-85.webp-lossy-85.foil1/_www-heise-de_/imgs/18/4/5/1/9/4/6/3/shutterstock_1888907947-54ebd2bafa9434e9.jpg",
         "2024-01-02T09:08:00Z\n"
        ],
        [
         "Xataka.com\"",
         "Enrique Pérez",
         "Qué son los ETF de Bitcoin y por qué la decisión de la SEC sobre su aprobación es tan esperada",
         "https://www.xataka.com/criptomonedas/que-etf-bitcoin-que-su-aprobacion-sec-decision-esperada",
         "https://i.blogs.es/962ba7/etf-bitcoin/840_560.jpeg",
         "2024-01-09T22:29:15Z\n"
        ],
        [
         "heise online\"",
         "Martin Holland",
         "Erster Bitcoin-Fonds in den USA sammelt über eine Milliarde US-Dollar ein",
         "https://www.heise.de/news/Erster-Bitcoin-Fonds-in-den-USA-sammelt-ueber-eine-Milliarde-US-Dollar-ein-9602117.html",
         "https://heise.cloudimg.io/bound/1200x1200/q85.png-lossy-85.webp-lossy-85.foil1/_www-heise-de_/imgs/18/4/5/2/8/4/7/9/shutterstock_1916262404-b7c59be85e1ebe55.jpg",
         "2024-01-19T07:04:00Z\n"
        ],
        [
         "Xataka.com\"",
         "Enrique Pérez",
         "El creador de Bitcoin desapareció hace 13 años. Ahora su cuenta acaba de recibir una transferencia millonaria",
         "https://www.xataka.com/criptomonedas/creador-bitcoin-desaparecio-hace-13-anos-ahora-su-cuenta-acaba-recibir-transferencia-millonaria",
         "https://i.blogs.es/2b459f/satoshi_nakamoto/840_560.jpeg",
         "2024-01-08T17:01:07Z\n"
        ],
        [
         "Medium\"",
         "CoinPost Global",
         "Bitcoin Is Crucial Climate Tech (BTP Ep. 1 Recap)",
         "https://medium.com/@coinpost.gb/bitcoin-is-crucial-climate-tech-btp-ep-1-recap-854d3ebbe573",
         "https://miro.medium.com/v2/resize:fit:640/0*3WEqMiNG3I0IfnHC.png",
         "2024-01-02T06:44:47Z\n"
        ],
        [
         "MarketWatch\"",
         "Chris Matthews",
         " Barbara Kollmeyer",
         "Bitcoin’s price slumps as analysts weigh chances that ‘wild card’ Gensler spikes spot ETF",
         "https://www.marketwatch.com/story/bitcoins-price-slumps-as-analysts-weigh-chances-that-wild-card-gensler-spikes-spot-etf-1b13c26f",
         "https://images.mktw.net/im-96310580/social"
        ],
        [
         "heise online\"",
         "Daniel AJ Sokolov",
         "Jetzt geht’s los: SEC genehmigt Bitcoin-Fonds",
         "https://www.heise.de/news/Jetzt-geht-s-los-SEC-genehmigt-Bitcoin-Fonds-9593793.html",
         "https://heise.cloudimg.io/bound/1200x1200/q85.png-lossy-85.webp-lossy-85.foil1/_www-heise-de_/imgs/18/4/5/2/4/2/0/4/shutterstock_1937129161-91f75b37827ffe38.jpg",
         "2024-01-11T03:31:00Z\n"
        ],
        [
         "Themarginalian.org\"",
         "Maria Popova",
         "Of Wonder",
         " the Courage of Uncertainty",
         " and How to Hear Your Soul: The Best of The Marginalian 2023",
         "https://www.themarginalian.org/2023/12/28/best-of-2023/"
        ],
        [
         "heise online\"",
         "Daniel AJ Sokolov",
         "Falschmeldung auf Twitter: SEC genehmigt doch keine Bitcoin-Fonds",
         "https://www.heise.de/news/Falschmeldung-auf-Twitter-SEC-genehmigt-doch-keine-Bitcoin-Fonds-9592489.html",
         "https://heise.cloudimg.io/bound/1200x1200/q85.png-lossy-85.webp-lossy-85.foil1/_www-heise-de_/imgs/18/4/5/2/3/5/1/4/shutterstock_1976944238-5e18b8fbf881e81c.jpg",
         "2024-01-10T00:36:00Z\n"
        ],
        [
         "Bitcoinsistemi.com\"",
         "Mete Demiralp",
         "SEC's X Account Hacked",
         " Bitcoin Spot ETFs Not yet Approved",
         "https://en.bitcoinsistemi.com/breaking-gary-gensler-says-secs-x-account-hacked-bitcoin-spot-etfs-not-yet-approved/",
         "https://www.bitcoinsistemi.com/wp-content/uploads/2022/05/sec-kripto-para-gary-gensler.jpg"
        ],
        [
         "MarketWatch\"",
         "Frances Yue",
         "Jamie Dimon still sees no value in bitcoin after ETFs debut: ‘please stop talking about this s___’",
         "https://www.marketwatch.com/story/jamie-dimon-still-sees-no-value-in-bitcoin-after-etfs-debut-please-stop-talking-about-this-s-949b7c54",
         "https://images.mktw.net/im-05670152/social",
         "2024-01-17T16:39:00Z\n"
        ],
        [
         "MarketWatch\"",
         "Frances Yue",
         "Why the debut of Bitcoin ETFs may not be the best news for crypto stocks",
         " futures ETFs",
         "https://www.marketwatch.com/story/why-the-debut-of-bitcoin-etfs-may-not-be-the-best-news-for-crypto-stocks-futures-etfs-cfa8e423",
         "https://images.mktw.net/im-274111/social"
        ],
        [
         "Gigazine.net\"",
         "@GIGAZINE",
         "米国証券�?�引委員会�?�Xアカウントを乗�?��?�られ「ビットコインETF�?�上場を�?�?る�?�?�投稿�?�る事態�?�発生＆投稿直後�?�ビットコイン�?�価格�?�急上昇",
         "https://gigazine.net/news/20240110-sec-x-hacked-bitcoin-fake/",
         "https://i.gzn.jp/img/2024/01/10/sec-x-hacked-bitcoin-fake/00.png",
         "2024-01-10T05:00:00Z\n"
        ],
        [
         "Genbeta.com\"",
         "Bárbara Bécares",
         "La cartera del creador de Bitcoin recibe más de un millón de euros... tras 13 años que lleva desaparecido",
         "https://www.genbeta.com/actualidad/cartera-creador-bitcoin-recibe-millon-euros-13-anos-que-lleva-desaparecido",
         "https://i.blogs.es/ef9cfb/traxer-k9ibeseiq04-unsplash/840_560.jpeg",
         "2024-01-08T11:56:57Z\n"
        ],
        [
         "Ars Technica\"",
         "Kyle Orland",
         "Final reminder: Donate to win swag in our annual Charity Drive sweepstakes",
         "https://arstechnica.com/gaming/2024/01/final-reminder-donate-to-win-swag-in-our-annual-charity-drive-sweepstakes-3/",
         "https://cdn.arstechnica.net/wp-content/uploads/2023/11/charity2023-760x380.jpg",
         "2024-01-02T15:52:21Z\n"
        ],
        [
         "MarketWatch\"",
         "Myra P. Saefong",
         "Why the launch of bitcoin ETFs threatens the market for gold",
         "https://www.marketwatch.com/story/why-the-launch-of-bitcoin-etfs-threatens-the-market-for-gold-3984dad2",
         "https://images.mktw.net/im-31352944/social",
         "2024-01-12T21:14:00Z\n"
        ],
        [
         "MarketWatch\"",
         "William Watts",
         "Bitcoin is a ‘public good",
         "’ says ARK’s Cathie Wood as spot ETF debuts",
         "https://www.marketwatch.com/story/bitcoin-is-a-public-good-says-arks-cathie-wood-as-spot-etf-debuts-34ce0a17",
         "https://images.mktw.net/im-851982/social"
        ],
        [
         "Hubspot.com\"",
         "Cyan Zhong",
         "7 Expert & Data-Backed Trend Predictions for 2024",
         "https://blog.hubspot.com/marketing/7-data-backed-trend-predictions-for-2024#article",
         "https://blog.hubspot.com/hubfs/Copy%20of%20Featured%20Image%20Template%20Backgrounds-Dec-19-2023-08-34-34-9450-PM.png#keepProtocol",
         "2023-12-20T02:00:00Z\n"
        ],
        [
         "heise online\"",
         "Stefan Krempl",
         "EU-Gremien einig: Anonyme Barzahlungen nur noch bis 2999 Euro",
         "https://www.heise.de/news/EU-Gremien-einig-Anonyme-Barzahlungen-nur-noch-bis-2999-Euro-9601949.html",
         "https://heise.cloudimg.io/bound/1200x1200/q85.png-lossy-85.webp-lossy-85.foil1/_www-heise-de_/imgs/18/4/5/2/8/3/9/0/shutterstock_1840858240-a44aee88534cfc6b.jpg",
         "2024-01-18T19:20:00Z\n"
        ],
        [
         "MarketWatch\"",
         "Frances Yue",
         "Bitcoin in spotlight as SEC approves new ETFs",
         " ether rallies. Here’s why.",
         "https://www.marketwatch.com/story/bitcoin-in-spotlight-as-sec-approves-new-etfs-ether-rallies-heres-why-5d556f73",
         "https://images.mktw.net/im-783732/social"
        ],
        [
         "MarketWatch\"",
         "Tomi Kilgore",
         "Don’t assume Coinbase’s stock will benefit from the bitcoin ETF",
         " analysts say",
         "https://www.marketwatch.com/story/dont-assume-coinbases-stock-will-benefit-from-the-bitcoin-etf-analysts-say-3f2bf831",
         "https://images.mktw.net/im-39716779/social"
        ],
        [
         "MarketWatch\"",
         "Chris Matthews",
         " Frances Yue",
         "SEC approves spot bitcoin ETFs for trade starting Thursday",
         "https://www.marketwatch.com/story/sec-approves-spot-bitcoin-etfs-for-trade-starting-thursday-a6e1417b",
         "https://images.mktw.net/im-05635701/social"
        ],
        [
         "MarketWatch\"",
         "Frances Yue",
         "Cathie Wood dumps Grayscale and buys bitcoin-futures ETF. Here’s why.",
         "https://www.marketwatch.com/story/cathie-wood-dumps-grayscale-and-buys-bitcoin-futures-etf-heres-why-1068969b",
         "https://images.mktw.net/im-17572622/social",
         "2023-12-28T17:55:00Z\n"
        ],
        [
         "MarketWatch\"",
         "Frances Yue",
         "Bitcoin ETFs are live. Watch for the next most popular crypto to go same route",
         "https://www.marketwatch.com/story/bitcoin-etfs-are-live-watch-for-the-next-most-popular-crypto-to-go-same-route-eb80e963",
         "https://images.mktw.net/im-631218/social",
         "2024-01-12T20:45:00Z\n"
        ],
        [
         "MarketWatch\"",
         "Chris Matthews",
         "Bitcoin ETF: Here are the 10 funds set to debut after SEC decision",
         "https://www.marketwatch.com/story/bitcoin-etf-here-are-the-10-funds-set-to-debut-after-sec-decision-12fe591e",
         "https://images.mktw.net/im-96310580/social",
         "2024-01-08T15:15:00Z\n"
        ],
        [
         "MarketWatch\"",
         "Frances Yue",
         "Why bitcoin may not see a ‘Santa Claus rally’",
         " despite potential approval of crypto-based ETFs",
         "https://www.marketwatch.com/story/why-bitcoin-may-not-see-a-santa-claus-rally-despite-potential-approval-of-crypto-based-etfs-abf046e4",
         "https://images.mktw.net/im-783732/social"
        ],
        [
         "Genbeta.com\"",
         "Antonio Vallejo",
         "La SEC aprueba los 11 ETF de bitcoin tras meses de espera: qué son los ETF y por qué es tan importante para el mercado",
         "https://www.genbeta.com/actualidad/sec-aprueba-11-etf-bitcoin-meses-espera-que-etf-que-importante-para-mercado",
         "https://i.blogs.es/50a8c2/andre-francois-mckenzie-igyibhdntpe-unsplash/840_560.jpeg",
         "2024-01-11T10:38:38Z\n"
        ],
        [
         "heise online\"",
         "Frank Schräer",
         "Mittwoch: Jugendschutz bei Facebook & Instagram",
         " Falschmeldung zu Bitcoin-Fonds",
         "https://www.heise.de/news/Mittwoch-Jugendschutz-bei-Facebook-Instagram-Falschmeldung-zu-Bitcoin-Fonds-9592548.html",
         "https://heise.cloudimg.io/bound/1200x1200/q85.png-lossy-85.webp-lossy-85.foil1/_www-heise-de_/imgs/18/4/5/2/3/5/4/5/mittwoch-e91029bd0463b73c.webp"
        ],
        [
         "MarketWatch\"",
         "Frances Yue",
         "Bitcoin had a nice 2023. Why smaller crypto assets could now see bigger gains.",
         "https://www.marketwatch.com/story/bitcoin-had-a-nice-2023-why-smaller-crypto-assets-could-now-see-bigger-gains-788dcffc",
         "https://images.mktw.net/im-783732/social",
         "2024-01-17T21:11:00Z\n"
        ],
        [
         "Business Insider\"",
         "George Glover",
         "From the stunning surge of the 'Magnificent 7' stocks to bitcoin's shock rebound",
         " here are 8 of 2023's wildest markets stories",
         "https://markets.businessinsider.com/news/stocks/craziest-stories-bitcoin-russia-magnificent-seven-recession-bond-market-crash-2023-12",
         "https://i.insider.com/640b89ead81e7e0018be07d0?width=1200&format=jpeg"
        ],
        [
         "MarketWatch\"",
         "Mark Hulbert",
         "Do bitcoin ETFs have a place in retirement portfolios?",
         "https://www.marketwatch.com/story/do-bitcoin-etfs-have-a-place-in-retirement-portfolios-d3ef6683",
         "https://images.mktw.net/im-11686415/social",
         "2024-01-12T19:15:00Z\n"
        ],
        [
         "heise online\"",
         "Frank Schräer",
         "Donnerstag: Bitcoin-Fonds doch an US-Börsen",
         " Nordkorea mit gebrauchtem 4G-Netz",
         "https://www.heise.de/news/Donnerstag-Bitcoin-Fonds-doch-an-US-Boersen-Nordkorea-mit-gebrauchtem-4G-Netz-9593821.html",
         "https://heise.cloudimg.io/bound/1200x1200/q85.png-lossy-85.webp-lossy-85.foil1/_www-heise-de_/imgs/18/4/5/2/4/2/1/8/thursday-366874393383ceea.webp"
        ],
        [
         "MarketWatch\"",
         "Christine Idzelis",
         " Andrew Keshner",
         "‘You want to come out strong’: What investors will be looking for in spot bitcoin ETFs after SEC approval",
         "https://www.marketwatch.com/story/you-want-to-come-out-strong-what-investors-will-be-looking-for-in-spot-bitcoin-etfs-after-sec-approval-f50061fc",
         "https://images.mktw.net/im-70340096/social"
        ],
        [
         "heise online\"",
         "Patrick Bellmer",
         "heise+ | Analyse: Was die neuen Bitcoin-ETFs für deutsche Anleger bedeuten",
         "https://www.heise.de/hintergrund/Analyse-Was-die-neuen-Bitcoin-ETFs-fuer-deutsche-Anleger-bedeuten-9594318.html?wt_mc=rss.red.ho.ho.atom.beitrag_plus.beitrag_plus",
         "https://heise.cloudimg.io/bound/1200x1200/q85.png-lossy-85.webp-lossy-85.foil1/_www-heise-de_/imgs/18/4/5/2/4/4/8/5/shutterstock_709061209-930a4263b1a2f4ce.jpg",
         "2024-01-12T06:30:00Z\n"
        ],
        [
         "heise online\"",
         "Frank Schräer",
         "Donnerstag: Bitcoins als Wiener Betrugsfalle",
         " Lieferdrohne für schwerere Lasten",
         "https://www.heise.de/news/Donnerstag-Bitcoins-als-Wiener-Betrugsfalle-Lieferdrohne-fuer-schwerere-Lasten-9600863.html",
         "https://heise.cloudimg.io/bound/1200x1200/q85.png-lossy-85.webp-lossy-85.foil1/_www-heise-de_/imgs/18/4/5/2/7/8/3/0/thursday-9f2f7a71f0f9a263.webp"
        ],
        [
         "MarketWatch\"",
         "Emily Bary",
         "Why Marathon Digital’s stock screams ‘buy",
         "’ according to this new bull",
         "https://www.marketwatch.com/story/why-marathon-digitals-stock-screams-buy-according-to-this-new-bull-61e1bbd1",
         "https://images.mktw.net/im-809463/social"
        ],
        [
         "Hubspot.com\"",
         "Daniel Doan",
         "Weird Words in English: 100+ Terms You Need to Know from 2023 and Beyond",
         "https://blog.hubspot.com/marketing/weirdest-words-added-to-oxford-english-dictionary-2014#article",
         "https://blog.hubspot.com/hubfs/weirdest-words-added-to-oxford-english-dictionary-2014_1-1.jpg#keepProtocol",
         "2024-01-03T12:00:00Z\n"
        ],
        [
         "MarketWatch\"",
         "Frances Yue",
         "Bitcoin ETFs finally approved after a chaotic",
         " ‘embarrassing’ 24 hours for SEC",
         "https://www.marketwatch.com/story/bitcoin-etfs-finally-approved-after-a-chaotic-embarrassing-24-hours-for-sec-e42233d5",
         "https://images.mktw.net/im-96310580/social"
        ],
        [
         "Golem.de\"",
         "Andreas Donath",
         "Warten auf ETF-Entscheidung: Bitcoin steigt über 45.000 US-Dollar",
         "https://www.golem.de/sonstiges/zustimmung/auswahl.html?from=https%3A%2F%2Fwww.golem.de%2Fnews%2Fwarten-auf-etf-entscheidung-bitcoin-steigt-ueber-45-000-us-dollar-2401-180753.html&referer=https%3A%2F%2Ft.co%2F9027dfe37c",
         null,
         "2024-01-03T06:58:01Z\n"
        ],
        [
         "Golem.de\"",
         "Marc Stöckel",
         "X-Konto der SEC gehackt: Angreifer verbreitet Fake-News über Bitcoin-ETF-Zulassung",
         "https://www.golem.de/sonstiges/zustimmung/auswahl.html?from=https%3A%2F%2Fwww.golem.de%2Fnews%2Fx-konto-der-sec-gehackt-angreifer-verbreitet-fake-news-ueber-bitcoin-etf-zulassung-2401-181012.html&referer=https%3A%2F%2Ft.co%2F0917c7d539",
         null,
         "2024-01-10T08:14:01Z\n"
        ],
        [
         "heise online\"",
         "Sylvester Tremmel",
         " Christian Wölbert",
         "heise+ | Interview: Molly White über die Zukunft der Blockchain-Branche",
         "https://www.heise.de/hintergrund/Interview-Molly-White-ueber-die-Zukunft-der-Blockchain-Branche-9574922.html?wt_mc=rss.red.ho.ho.atom.beitrag_plus.beitrag_plus",
         "https://heise.cloudimg.io/bound/1200x1200/q85.png-lossy-85.webp-lossy-85.foil1/_www-heise-de_/imgs/18/4/5/1/4/1/9/2/52475752482_412ec9a1ca_o-56323d397fb76a0a.jpg"
        ],
        [
         "Die Zeit\"",
         "ZEIT ONLINE: Geld - Ijoma Mangold",
         "Bitcoin-ETF: Der Bitcoin trägt jetzt Nadelstreifen und Krawatte",
         "https://www.zeit.de/geld/2024-01/bitcoin-etf-kryptowaehrung-geldanlage",
         "https://img.zeit.de/geld/2024-01/bitcoin-etf-kryptowaehrung/wide__1300x731",
         "2024-01-06T10:12:48Z\n"
        ],
        [
         "MarketWatch\"",
         "Christine Idzelis",
         "Crypto hedge funds soared in 2023",
         " dwarfing broader industry’s gains as macro slipped",
         "https://www.marketwatch.com/story/crypto-hedge-funds-soared-in-2023-dwarfing-broader-industrys-gains-as-macro-slipped-d9a4e039",
         "https://images.mktw.net/im-264587/social"
        ],
        [
         "MarketWatch\"",
         "Bill Peters",
         "SEC weighing ‘additional measures’ after hacked post on bitcoin ETF approval",
         "https://www.marketwatch.com/story/sec-weighing-additional-measures-after-hacked-post-on-bitcoin-etf-approval-d983921b",
         "https://images.mktw.net/im-685532/social",
         "2024-01-13T02:04:00Z\n"
        ],
        [
         "ABC News\"",
         "Aaron Katersky",
         "Opening statements in trial of NYC woman charged with financing terrorist groups",
         "https://abcnews.go.com/US/opening-statements-trial-woman-charged-financing-terrorist-groups/story?id=106389259",
         "https://i.abcnewsfe.com/a/30b7cd0d-cf8a-4860-a7ca-20ed08da16cf/cryptocurrency-gty-lv-240115_1705354677307_hpMain_16x9.jpg?w=1600",
         "2024-01-15T22:24:21Z\n"
        ],
        [
         "Journal du geek\"",
         "Olivier",
         "Le bitcoin fait son entrée à Wall Street",
         "https://www.journaldugeek.com/2024/01/13/le-bitcoin-fait-son-entree-a-wall-street/",
         "https://www.journaldugeek.com/app/uploads/2024/01/bitcoin.jpg",
         "2024-01-13T10:00:56Z\n"
        ],
        [
         "Theregister.com\"",
         "Chris Williams",
         "SEC Twitter hijacked to push fake news of hotly anticipated Bitcoin ETF approval",
         "https://www.theregister.com/2024/01/09/sec_bitcoin_etf_hacked/",
         "https://regmedia.co.uk/2021/01/15/shutterstock_bitcoin.jpg",
         "2024-01-09T21:48:07Z\n"
        ],
        [
         "heise online\"",
         "Nils Jacobsen",
         "Ausblick: Was bringt das Tech-Jahr 2024 für Apple",
         " KI",
         " Bitcoin & Co.?​",
         "https://www.heise.de/meinung/Ausblick-Was-bringt-das-Tech-Jahr-2024-fuer-Apple-KI-Bitcoin-Co-9583439.html?wt_mc=rss.red.ho.ho.atom.beitrag.beitrag"
        ],
        [
         "ReadWrite\"",
         "Graeme Hanna",
         "Tether: UN issues warning over crypto token",
         "https://readwrite.com/tether-un-issues-warning-over-crypto-token/",
         "https://readwrite.com/wp-content/uploads/2024/01/pexels-rdne-stock-project-8370752-scaled.jpg",
         "2024-01-15T13:35:26Z\n"
        ],
        [
         "ReadWrite\"",
         "Brian-Damien Morgan",
         "Spanish cyberattack: ransom of €10million demanded by hackers",
         "https://readwrite.com/spanish-cyber-attack-ransom-of-e10million-demanded-by-hackers/",
         "https://readwrite.com/wp-content/uploads/2024/01/pexels-pixabay-54097-scaled.jpg",
         "2024-01-16T20:07:12Z\n"
        ],
        [
         "Theregister.com\"",
         "Chris Williams",
         "SEC Twitter hijacked to push fake news of ETF approval",
         "https://www.theregister.com/2024/01/09/btc_sec/",
         "https://regmedia.co.uk/2021/01/15/shutterstock_bitcoin.jpg",
         "2024-01-09T21:48:07Z\n"
        ],
        [
         "Microsiervos.com\"",
         "alvy@microsiervos.com (Alvy)",
         "Aprobados los primeros ETF de Bitcoin",
         " toda una validación para el mercado de la primera y más reconocible criptodivisa",
         "https://www.microsiervos.com/archivo/economia/aprobados-etf-bitcoin-validacion-mercado-primera-criptodivisa.html",
         "https://img.microsiervos.com/images2024/bitcoin-ETF.webp"
        ],
        [
         "New Scientist\"",
         "Matthew Sparkes",
         "Should nations try to ban bitcoin because of its environmental impact?",
         "https://www.newscientist.com/article/2410610-should-nations-try-to-ban-bitcoin-because-of-its-environmental-impact/",
         "https://images.newscientist.com/wp-content/uploads/2024/01/08142517/SEI_186039594.jpg",
         "2024-01-08T17:49:01Z\n"
        ],
        [
         "Business Insider\"",
         "Dan DeFrancesco",
         "The unsealed documents related to Jeffrey Epstein weren't full of bombshells",
         " but some new details emerged",
         "https://www.businessinsider.com/news-today-january-4-jeffrey-epstein-unsealed-documents-2024-1",
         "https://i.insider.com/65969d036979d73718204b17?width=1200&format=jpeg"
        ],
        [
         "Business Insider\"",
         "Dan DeFrancesco",
         "The state of Wall Street's drug culture",
         "https://www.businessinsider.com/news-today-january-19-wall-street-drug-culture-2024-1",
         "https://i.insider.com/647a453040bf000019fa15d4?width=1200&format=jpeg",
         "2024-01-19T14:26:03Z\n"
        ],
        [
         "Gizmodo.jp\"",
         "�?�もり",
         "月�?��?�陸を断念�?��?�「ペレグリン�?�?一体�?��?��?��?�?�れ�?��?��?��?�？",
         "https://www.gizmodo.jp/2024/01/astrobotic-peregrine-moon-payloads-time-capsule-bitcoin.html",
         "https://media.loom-app.com/gizmodo/dist/images/2024/01/07/240107Peregrine.jpg?w=1280&h=630&f=jpg",
         "2024-01-18T14:00:00Z\n"
        ],
        [
         "Business Insider\"",
         "Dan DeFrancesco",
         "Wall Street's rocky start",
         "https://www.businessinsider.com/wall-street-rocky-start-and-shaky-job-landscape-2024-1",
         "https://i.insider.com/6582df4c1c5c7b8c9a0a2d4a?width=1200&format=jpeg",
         "2024-01-16T16:18:05Z\n"
        ],
        [
         "9to5Mac\"",
         "Ben Lovejoy",
         "PSA: Warn your non-techy friends about fake AppleCoin ads",
         "https://9to5mac.com/2024/01/16/fake-applecoin-ads/",
         "https://i0.wp.com/9to5mac.com/wp-content/uploads/sites/6/2024/01/Fake-AppleCoin-ads.jpg?resize=1200%2C628&quality=82&strip=all&ssl=1",
         "2024-01-16T12:39:32Z\n"
        ],
        [
         "Hipertextual\"",
         "Juan Carlos Figueroa",
         "Terroristas",
         " estafadores y pedófilos siguen recaudando miles de millones de dólares al año en criptomonedas",
         "http://hipertextual.com/2024/01/terroristas-pedofilos-estafadores-fortuna-criptomonedas",
         "https://imgs.hipertextual.com/wp-content/uploads/2023/07/surtido-minimalista-bodegones-criptomonedas.jpg"
        ],
        [
         "heise online\"",
         "Stefan Krempl",
         "Darknet: Polizei hebt ",
         "Kingdom Market",
         " aus",
         "https://www.heise.de/news/Darknet-Polizei-hebt-Kingdom-Market-aus-9579808.html"
        ],
        [
         "Genbeta.com\"",
         "Bárbara Bécares",
         "El impago a contratistas en Texas tira por tierra el anonimato de Bitcoin y destapa una trama millonaria de inversores chinos",
         "https://www.genbeta.com/actualidad/impago-a-contratistas-texas-tira-tierra-anonimato-bitcoin-destapa-trama-millonaria-inversores-chinos",
         "https://i.blogs.es/2192ec/ewan-kennedy-mkdbteclpzc-unsplash/840_560.jpeg",
         "2023-12-26T11:35:37Z\n"
        ],
        [
         "Die Zeit\"",
         "ZEIT ONLINE: Geldanlage - Heike Buchter",
         "Bitcoin-ETFs: Das Risiko trägt die Allgemeinheit",
         "https://www.zeit.de/wirtschaft/geldanlage/2024-01/bitcoin-etf-risiko-finanzsystem-us-boersenaufsicht-sec",
         "https://img.zeit.de/wirtschaft/geldanlage/2024-01/sec-us-boersenaufsicht/wide__1300x731",
         "2024-01-11T04:28:22Z\n"
        ],
        [
         "Die Zeit\"",
         "ZEIT ONLINE: News -",
         "Währung: US-Börsenaufsicht genehmigt Bitcoin-Fonds",
         "https://www.zeit.de/news/2024-01/11/us-boersenaufsicht-genehmigt-bitcoin-fonds",
         "https://img.zeit.de/news/2024-01/11/us-boersenaufsicht-genehmigt-bitcoin-fonds-image-group/wide__1300x731",
         "2024-01-11T02:33:24Z\n"
        ],
        [
         "Die Zeit\"",
         "ZEIT ONLINE: Geld - Marlena Wessollek",
         " Mathias Peer",
         "Kryptowährung: US-Börsenaufsicht verwirrt mit Bitcoin-Falschmeldung",
         "https://www.zeit.de/digital/2024-01/kryptobranche-bitcoin-sec",
         "https://img.zeit.de/digital/2024-01/kryptobranche-bitcoin-sec-2/wide__1300x731"
        ],
        [
         "Slashdot.org\"",
         "BeauHD",
         "CEO of Collapsed Crypto Fund HyperVerse Does Not Appear To Exist",
         "https://slashdot.org/story/24/01/03/2218208/ceo-of-collapsed-crypto-fund-hyperverse-does-not-appear-to-exist",
         "https://a.fsdn.com/sd/topics/bitcoin_64.png",
         "2024-01-03T23:50:00Z\n"
        ],
        [
         "MarketWatch\"",
         "Emily Bary",
         "USDC issuer Circle files for IPO amid hot crypto market",
         "https://www.marketwatch.com/story/usdc-issuer-circle-files-for-ipo-amid-hot-crypto-market-dcec7016",
         "https://images.mktw.net/im-07933837/social",
         "2024-01-11T20:17:00Z\n"
        ],
        [
         "Die Zeit\"",
         "ZEIT ONLINE: News -",
         "Digitalwährung : Bitcoin erstmals seit April 2022 über 45.000 US-Dollar",
         "https://www.zeit.de/news/2024-01/02/bitcoin-erstmals-seit-april-2022-ueber-45-000-us-dollar",
         "https://img.zeit.de/news/2024-01/02/bitcoin-erstmals-seit-april-2022-ueber-45-000-us-dollar-image-group/wide__1300x731",
         "2024-01-02T07:13:04Z\n"
        ],
        [
         "heise online\"",
         "Frank Schräer",
         "Freitag: Hyperloop-Hype wohl zu Ende",
         " Lapsus$-Täter in Psychiatrie statt in Haft",
         "https://www.heise.de/news/Freitag-Hyperloop-Hype-wohl-zu-Ende-Lapsus-Taeter-in-Psychiatrie-statt-Haft-9581055.html",
         "https://heise.cloudimg.io/bound/1200x1200/q85.png-lossy-85.webp-lossy-85.foil1/_www-heise-de_/imgs/18/4/5/1/7/4/6/5/friday-8811913955340084.webp"
        ],
        [
         "Die Zeit\"",
         "ZEIT ONLINE: Geldanlage - Eric Voigt",
         "Kryptowährung: Bitcoin verliert innerhalb eines Tages mehr als neun Prozent an Wert",
         "https://www.zeit.de/wirtschaft/geldanlage/2024-01/bitcoin-kryptowaehrung-geldanlage",
         "https://img.zeit.de/wirtschaft/geldanlage/2024-01/bitcoin-kryptowaehrung-geldanlage-bild/wide__1300x731",
         "2024-01-03T14:23:45Z\n"
        ],
        [
         "Die Zeit\"",
         "ZEIT ONLINE: News -",
         "Digitalwährung: Bitcoin verliert deutlich: Jüngste Gewinne sind weg",
         "https://www.zeit.de/news/2024-01/03/bitcoin-verliert-deutlich-juengste-gewinne-sind-weg",
         "https://img.zeit.de/news/2024-01/03/bitcoin-verliert-deutlich-juengste-gewinne-sind-weg-image-group/wide__1300x731",
         "2024-01-03T13:38:37Z\n"
        ],
        [
         "Die Zeit\"",
         "ZEIT ONLINE: News -",
         "Kryptowährung: Bitcoin fällt - Freude über US-Zulassung für Fonds verpufft",
         "https://www.zeit.de/news/2024-01/19/bitcoin-faellt-freude-ueber-us-zulassung-fuer-fonds-verpufft",
         "https://img.zeit.de/news/2024-01/19/bitcoin-faellt-freude-ueber-us-zulassung-fuer-fonds-verpufft-image-group/wide__1300x731",
         "2024-01-19T09:57:00Z\n"
        ],
        [
         "MarketWatch\"",
         "Cody Willard",
         "10 predictions for stocks",
         " crypto",
         " AI",
         " gold and bonds in 2024"
        ],
        [
         "Faz.net\"",
         "dpa/mj.",
         "Bitcoin fällt nach Genehmigungs-Verwirrung tiefer",
         "https://www.faz.net/aktuell/finanzen/bitcoin-kurs-der-kryptowaehrung-faellt-nach-genehmigungs-verwirrung-19437593.html",
         "https://media1.faz.net/ppmedia/aktuell/feuilleton/2764071983/1.9437595/facebook_teaser/seit-tagen-wird-ueber-eine.jpg",
         "2024-01-10T06:25:55Z\n"
        ],
        [
         "\n",
         null,
         null,
         null,
         null,
         null
        ]
       ],
       "datasetInfos": [],
       "dbfsResultPath": null,
       "isJsonSchema": true,
       "metadata": {},
       "overflow": false,
       "plotOptions": {
        "customPlotOptions": {},
        "displayType": "table",
        "pivotAggregation": null,
        "pivotColumns": null,
        "xColumns": null,
        "yColumns": null
       },
       "removedWidgets": [],
       "schema": [
        {
         "metadata": "{}",
         "name": "name",
         "type": "\"string\""
        },
        {
         "metadata": "{}",
         "name": "author",
         "type": "\"string\""
        },
        {
         "metadata": "{}",
         "name": "title",
         "type": "\"string\""
        },
        {
         "metadata": "{}",
         "name": "url",
         "type": "\"string\""
        },
        {
         "metadata": "{}",
         "name": "urlToImage",
         "type": "\"string\""
        },
        {
         "metadata": "{}",
         "name": "publishedAt",
         "type": "\"string\""
        }
       ],
       "type": "table"
      }
     },
     "output_type": "display_data"
    }
   ],
   "source": [
    "# File location and type\n",
    "file_location = \"/FileStore/vestigotovo.csv\"\n",
    "#/dbfs/FileStore/kafka_data_got.csv\n",
    "file_type = \"csv\"\n",
    "# CSV options\n",
    "infer_schema = \"false\"\n",
    "first_row_is_header = \"true\"\n",
    "delimiter = \",\"\n",
    "\n",
    "# The applied options are for CSV files. For other file types, these will be ignored.\n",
    "df = spark.read.format(file_type) \\\n",
    "  .option(\"inferSchema\", infer_schema) \\\n",
    "  .option(\"header\", first_row_is_header) \\\n",
    "  .option(\"sep\", delimiter) \\\n",
    "  .load(file_location)\n",
    "\n",
    "display(df)\n",
    "# Create a view or table\n",
    "\n",
    "temp_table_name = \"kafka_got_csv\"\n",
    "\n",
    "df.createOrReplaceTempView(temp_table_name)"
   ]
  },
  {
   "cell_type": "code",
   "execution_count": 0,
   "metadata": {
    "application/vnd.databricks.v1+cell": {
     "cellMetadata": {
      "byteLimit": 2048000,
      "rowLimit": 10000
     },
     "inputWidgets": {},
     "nuid": "91de06f2-9cd4-495f-a4fc-73c5181e91b3",
     "showTitle": false,
     "title": ""
    }
   },
   "outputs": [
    {
     "output_type": "display_data",
     "data": {
      "text/html": [
       "<style scoped>\n",
       "  .table-result-container {\n",
       "    max-height: 300px;\n",
       "    overflow: auto;\n",
       "  }\n",
       "  table, th, td {\n",
       "    border: 1px solid black;\n",
       "    border-collapse: collapse;\n",
       "  }\n",
       "  th, td {\n",
       "    padding: 5px;\n",
       "  }\n",
       "  th {\n",
       "    text-align: left;\n",
       "  }\n",
       "</style><div class='table-result-container'><table class='table-result'><thead style='background-color: white'><tr><th>name</th><th>author</th><th>title</th><th>url</th><th>urlToImage</th><th>publishedAt</th><th>title_sentiment</th></tr></thead><tbody><tr><td>Engadget</td><td>Karissa Bell</td><td>SEC approves bitcoin ETFs (for real this time)</td><td>https://www.engadget.com/sec-approves-bitcoin-etfs-for-real-this-time-224125584.html</td><td>https://s.yimg.com/ny/api/res/1.2/n6iLNJ_9dtK.fT6WAXK1sA--/YXBwaWQ9aGlnaGxhbmRlcjt3PTEyMDA7aD03OTU-/https://s.yimg.com/os/creatr-uploaded-images/2024-01/3edf5140-afdd-11ee-bf7c-7918e1b9d963</td><td>2024-01-10T22:41:25Z\n",
       "</td><td>0.05</td></tr><tr><td>Wired\"</td><td>Joel Khalili</td><td>Why Crypto Idealogues Won’t Touch Bitcoin ETFs</td><td>https://www.wired.com/story/bitcoin-etf-cryptocurrencies-split/</td><td>https://media.wired.com/photos/65a0305c4aaf02fdf493f220/191:100/w_1280</td><td>c_limit/Not-Everyone-Is-Jazzed-About-Bitcoin-ETFs-Business-1299911534.jpg</td><td>0.0</td></tr><tr><td>The Verge\"</td><td>Elizabeth Lopatto</td><td>How to sue a hacker using Bitcoin</td><td>https://www.theverge.com/2024/1/10/24033166/bitcoin-crypto-ryan-dellone-lawsuit-hacker</td><td>https://cdn.vox-cdn.com/thumbor/PDBUffTgNFFVbpRuDkyP8ENjR-Y=/0x0:2040x1360/1200x628/filters:focal(1020x680:1021x681)/cdn.vox-cdn.com/uploads/chorus_asset/file/23951299/STK087_VRG_Illo_N_Barclay_1_bitcoin.jpg</td><td>2024-01-10T18:55:35Z\n",
       "</td><td>0.0</td></tr><tr><td>The Verge\"</td><td>Emma Roth</td><td>The SEC’s X account was hijacked to post a fake approval of Bitcoin ETFs</td><td>https://www.theverge.com/2024/1/9/24032095/bitcoin-etf-sec-fake-tweet-x-gary-gensler</td><td>https://cdn.vox-cdn.com/thumbor/jxKHGn1E5xyrAO8bukj3ikqy5Bw=/0x0:2040x1360/1200x628/filters:focal(1020x680:1021x681)/cdn.vox-cdn.com/uploads/chorus_asset/file/23951296/STK087_VRG_Illo_N_Barclay_4_bitcoin.jpg</td><td>2024-01-09T21:41:56Z\n",
       "</td><td>-0.3</td></tr><tr><td>Wired\"</td><td>Andrew Couts</td><td> Andy Greenberg</td><td>The SEC's Official X Account Was ‘Compromised'</td><td>https://www.wired.com/story/sec-x-account-compromise/</td><td>https://media.wired.com/photos/659dbf12156f76cbf3057921/191:100/w_1280</td><td>0.0</td></tr><tr><td>Gizmodo.com\"</td><td>Maxwell Zeff</td><td>Bitcoin Price Plummets Due to Hacked SEC Tweet</td><td>https://gizmodo.com/bitcoin-price-plummets-hacked-sec-tweet-1851153717</td><td>https://i.kinja-img.com/image/upload/c_fill</td><td>h_675</td><td>-0.1125</td></tr><tr><td>Wired\"</td><td>Andy Greenberg</td><td>How a 27-Year-Old Codebreaker Busted the Myth of Bitcoin’s Anonymity</td><td>https://www.wired.com/story/27-year-old-codebreaker-busted-myth-bitcoins-anonymity/</td><td>https://media.wired.com/photos/65a72695e5015b60480cbdf6/191:100/w_1280</td><td>c_limit/Meiklejohn_Final_Static2.jpg</td><td>0.0</td></tr><tr><td>Wired\"</td><td>Andy Greenberg</td><td>Child Abusers Are Getting Better at Using Crypto to Cover Their Tracks</td><td>https://www.wired.com/story/csam-sellers-monero-rise/</td><td>https://media.wired.com/photos/659f246783a7239c87585c11/191:100/w_1280</td><td>c_limit/CSAM-report-sec-GettyImages-885630762.jpg</td><td>0.5</td></tr><tr><td>Business Insider\"</td><td>Dan DeFrancesco</td><td>Bitcoin is so back</td><td>https://www.businessinsider.com/news-today-january-11-bitcoin-etf-approval-2024-1</td><td>https://i.insider.com/659fd4dcdcdb354a98569fc9?width=1200&format=jpeg</td><td>2024-01-11T14:32:47Z\n",
       "</td><td>0.0</td></tr><tr><td>Slashdot.org\"</td><td>BeauHD</td><td>SEC Approves 11 Spot Bitcoin ETFs</td><td>https://slashdot.org/story/24/01/10/2132216/sec-approves-11-spot-bitcoin-etfs</td><td>https://a.fsdn.com/sd/topics/bitcoin_64.png</td><td>2024-01-10T21:33:00Z\n",
       "</td><td>-0.1</td></tr><tr><td>Business Insider\"</td><td>Matthew Fox</td><td>SEC says Twitter account was compromised</td><td> it's not approved a bitcoin ETF</td><td>https://markets.businessinsider.com/news/currencies/bitcoin-etfs-sec-approval-twitter-hack-gary-gensler-crypto-2024-1</td><td>https://i.insider.com/659dbb20dcdb354a9856111a?width=1200&format=jpeg</td><td>-0.1</td></tr><tr><td>ReadWrite\"</td><td>Maxwell William</td><td>Bitcoin soars above $45</td><td>000 in New Year rally</td><td> eyes on SEC for ETF approvals</td><td>https://readwrite.com/bitcoin-soars-above-45000-in-new-year-rally-eyes-on-sec-for-etf-approvals/</td><td>0.0</td></tr><tr><td>ReadWrite\"</td><td>Deanna Ritchie</td><td>Bitcoin ETF: BTC price falls as traders await big SEC decision</td><td>https://readwrite.com/bitcoin-etf-btc-price-falls-as-traders-await-big-sec-decision/</td><td>https://readwrite.com/wp-content/uploads/2024/01/Bitcoin-ETF-BTC-price-falls.jpg</td><td>2024-01-06T02:02:18Z\n",
       "</td><td>-0.05</td></tr><tr><td>ReadWrite\"</td><td>James Jones</td><td>Bitcoin price: $400m liquidation leads to significant slump</td><td>https://readwrite.com/bitcoin-price-400m-liquidation-leads-to-significant-slump/</td><td>https://readwrite.com/wp-content/uploads/2024/01/yigit-ali-atasoy-z1jggXh29_Q-unsplash-scaled.jpg</td><td>2024-01-03T16:41:52Z\n",
       "</td><td>0.375</td></tr><tr><td>ReadWrite\"</td><td>Maxwell William</td><td>BlackRock and Fidelity set competitive fees for upcoming Bitcoin ETFs</td><td>https://readwrite.com/blackrock-and-fidelity-set-competitive-fees-for-upcoming-bitcoin-etfs/</td><td>https://readwrite.com/wp-content/uploads/2023/12/Bitcoin-gathers-momentum.jpg</td><td>2024-01-08T16:48:40Z\n",
       "</td><td>0.0</td></tr><tr><td>ReadWrite\"</td><td>Graeme Hanna</td><td>US SEC finally approves Bitcoin ETFs</td><td>https://readwrite.com/us-sec-finally-approves-bitcoin-etfs/</td><td>https://readwrite.com/wp-content/uploads/2023/12/UK-Finance-Ministry-to-discuss-crypto-banking.jpeg</td><td>2024-01-11T12:56:26Z\n",
       "</td><td>-0.05</td></tr><tr><td>Business Insider\"</td><td>Joshua Zitser</td><td>A guy just signed a contract to rent an apartment using bitcoin</td><td> likely a world first</td><td>https://www.businessinsider.com/argentina-crypto-first-ever-bitcoin-rental-contract-landlord-tenant-2024-1</td><td>https://i.insider.com/65a67a556979d737182373a3?width=1200&format=jpeg</td><td>0.0</td></tr><tr><td>Business Insider\"</td><td>Theron Mohamed</td><td>Ark's Cathie Wood says bitcoin could hit $1.5 million by 2030. The US economy would have to crash</td><td> 'Shark Tank' investor Kevin O'Leary says.</td><td>https://markets.businessinsider.com/news/currencies/bitcoin-price-forecast-cathie-wood-kevin-oleary-us-economy-crash-2024-1</td><td>https://i.insider.com/611b93d6a4b07b0018ade5b9?width=1200&format=jpeg</td><td>0.0</td></tr><tr><td>NPR\"</td><td>David Gura</td><td>After a brutal stretch</td><td> a remarkable thing is happening: Cryptocurrencies are surging</td><td>https://www.npr.org/2023/12/26/1220603847/crypto-cryptocurrency-bitcoin-ftx-binance-cz-bankman-fried</td><td>https://media.npr.org/assets/img/2023/12/25/gettyimages-1402675790_wide-eadf8676b64af620ebb4f8ae76eb29bc059f2598-s1400-c100.jpg</td><td>-0.875</td></tr><tr><td>Business Insider\"</td><td>Theron Mohamed</td><td>Morgan Stanley's chairman slams bitcoin as speculative and volatile – and expects the US to dodge a recession</td><td>https://markets.businessinsider.com/news/currencies/morgan-stanley-gorman-bitcoin-crypto-banking-crisis-recession-rate-cuts-2024-1</td><td>https://i.insider.com/659689aaec62ab5daf8086dd?width=1200&format=jpeg</td><td>2024-01-04T11:28:57Z\n",
       "</td><td>0.0</td></tr><tr><td>Business Insider\"</td><td>Theron Mohamed</td><td>BlackRock CEO Larry Fink warns of stubborn inflation - but expects growth to accelerate this year if interest rates drop</td><td>https://www.businessinsider.com/blackrock-larry-fink-inflation-growth-recession-outlook-fed-rate-cuts-2024-1</td><td>https://i.insider.com/652fbc37211def8ed837e42a?width=1200&format=jpeg</td><td>2024-01-15T12:14:45Z\n",
       "</td><td>0.0</td></tr><tr><td>Hipertextual\"</td><td>Alberto Martín</td><td>Por qué son tan importantes los ETFs de Bitcoin a los que ha dado el visto bueno la SEC</td><td>http://hipertextual.com/2024/01/etfs-de-bitcoin</td><td>https://imgs.hipertextual.com/wp-content/uploads/2021/09/cardmapr-nl-rDzI7m7sjPE-unsplash-scaled.jpg</td><td>2024-01-11T11:00:12Z\n",
       "</td><td>-0.1</td></tr><tr><td>Business Insider\"</td><td>Kiera Fields</td><td>A lawsuit filed against a bitcoin mine in Texas has shed light on a growing trend: US crypto mines backed by millions of dollars from Chinese investors</td><td>https://www.businessinsider.com/bitcoin-mine-texas-lawsuit-links-to-chinese-investors-2023-12</td><td>https://i.insider.com/658acb99ec62ab5daf7ea6be?width=1200&format=jpeg</td><td>2023-12-26T14:46:23Z\n",
       "</td><td>0.2</td></tr><tr><td>Xataka.com\"</td><td>Javier Pastor</td><td>EEUU aprueba los ETF de Bitcoin. Cuando ocurrió con el oro</td><td> el metal acabó cuadruplicando su valor</td><td>https://www.xataka.com/criptomonedas/eeuu-aprueba-etf-bitcoin-cuando-ocurrio-oro-metal-acabo-cuadruplicando-su-valor</td><td>https://i.blogs.es/aadeb6/bitcoin1/840_560.jpeg</td><td>0.0</td></tr><tr><td>Slashdot.org\"</td><td>BeauHD</td><td>'Stablecoins' Enabled $40 Billion In Crypto Crime Since 2022</td><td>https://yro.slashdot.org/story/24/01/18/2112213/stablecoins-enabled-40-billion-in-crypto-crime-since-2022</td><td>https://a.fsdn.com/sd/topics/bitcoin_64.png</td><td>2024-01-18T22:00:00Z\n",
       "</td><td>0.0</td></tr><tr><td>ABC News\"</td><td>KEN SWEET AP business writer</td><td>Regulators set to decide whether to OK new bitcoin fund. What investors need to know</td><td>https://abcnews.go.com/US/wireStory/regulators-set-decide-new-bitcoin-fund-investors-106255605</td><td>https://i.abcnewsfe.com/a/76e820b5-680b-4fd5-a5ef-51e37b5da0ae/wirestory_76c873b7abb6aac299f6eae101fd38d3_16x9.jpg?w=1600</td><td>2024-01-10T15:27:53Z\n",
       "</td><td>0.3181818</td></tr><tr><td>heise online\"</td><td>Daniel AJ Sokolov</td><td>Betrugsfalle gefundene Bitcoin</td><td>https://www.heise.de/news/Betrugsfalle-gefundene-Bitcoin-9600837.html</td><td>https://heise.cloudimg.io/bound/1200x1200/q85.png-lossy-85.webp-lossy-85.foil1/_www-heise-de_/imgs/18/4/5/2/7/8/1/7/Betrug_Bitcoin-c37985164dac133e.jpg</td><td>2024-01-17T23:01:00Z\n",
       "</td><td>0.0</td></tr><tr><td>heise online\"</td><td>Martin Holland</td><td>Ein Bitcoin erstmals seit April 2022 wieder über 45.000 US-Dollar wert</td><td>https://www.heise.de/news/Ein-Bitcoin-erstmals-seit-April-2022-wieder-ueber-45-000-US-Dollar-wert-9584862.html</td><td>https://heise.cloudimg.io/bound/1200x1200/q85.png-lossy-85.webp-lossy-85.foil1/_www-heise-de_/imgs/18/4/5/1/9/4/6/3/shutterstock_1888907947-54ebd2bafa9434e9.jpg</td><td>2024-01-02T09:08:00Z\n",
       "</td><td>0.0</td></tr><tr><td>Xataka.com\"</td><td>Enrique Pérez</td><td>Qué son los ETF de Bitcoin y por qué la decisión de la SEC sobre su aprobación es tan esperada</td><td>https://www.xataka.com/criptomonedas/que-etf-bitcoin-que-su-aprobacion-sec-decision-esperada</td><td>https://i.blogs.es/962ba7/etf-bitcoin/840_560.jpeg</td><td>2024-01-09T22:29:15Z\n",
       "</td><td>-0.1</td></tr><tr><td>heise online\"</td><td>Martin Holland</td><td>Erster Bitcoin-Fonds in den USA sammelt über eine Milliarde US-Dollar ein</td><td>https://www.heise.de/news/Erster-Bitcoin-Fonds-in-den-USA-sammelt-ueber-eine-Milliarde-US-Dollar-ein-9602117.html</td><td>https://heise.cloudimg.io/bound/1200x1200/q85.png-lossy-85.webp-lossy-85.foil1/_www-heise-de_/imgs/18/4/5/2/8/4/7/9/shutterstock_1916262404-b7c59be85e1ebe55.jpg</td><td>2024-01-19T07:04:00Z\n",
       "</td><td>0.0</td></tr><tr><td>Xataka.com\"</td><td>Enrique Pérez</td><td>El creador de Bitcoin desapareció hace 13 años. Ahora su cuenta acaba de recibir una transferencia millonaria</td><td>https://www.xataka.com/criptomonedas/creador-bitcoin-desaparecio-hace-13-anos-ahora-su-cuenta-acaba-recibir-transferencia-millonaria</td><td>https://i.blogs.es/2b459f/satoshi_nakamoto/840_560.jpeg</td><td>2024-01-08T17:01:07Z\n",
       "</td><td>0.0</td></tr><tr><td>Medium\"</td><td>CoinPost Global</td><td>Bitcoin Is Crucial Climate Tech (BTP Ep. 1 Recap)</td><td>https://medium.com/@coinpost.gb/bitcoin-is-crucial-climate-tech-btp-ep-1-recap-854d3ebbe573</td><td>https://miro.medium.com/v2/resize:fit:640/0*3WEqMiNG3I0IfnHC.png</td><td>2024-01-02T06:44:47Z\n",
       "</td><td>0.0</td></tr><tr><td>MarketWatch\"</td><td>Chris Matthews</td><td> Barbara Kollmeyer</td><td>Bitcoin’s price slumps as analysts weigh chances that ‘wild card’ Gensler spikes spot ETF</td><td>https://www.marketwatch.com/story/bitcoins-price-slumps-as-analysts-weigh-chances-that-wild-card-gensler-spikes-spot-etf-1b13c26f</td><td>https://images.mktw.net/im-96310580/social</td><td>0.0</td></tr><tr><td>heise online\"</td><td>Daniel AJ Sokolov</td><td>Jetzt geht’s los: SEC genehmigt Bitcoin-Fonds</td><td>https://www.heise.de/news/Jetzt-geht-s-los-SEC-genehmigt-Bitcoin-Fonds-9593793.html</td><td>https://heise.cloudimg.io/bound/1200x1200/q85.png-lossy-85.webp-lossy-85.foil1/_www-heise-de_/imgs/18/4/5/2/4/2/0/4/shutterstock_1937129161-91f75b37827ffe38.jpg</td><td>2024-01-11T03:31:00Z\n",
       "</td><td>-0.1</td></tr><tr><td>Themarginalian.org\"</td><td>Maria Popova</td><td>Of Wonder</td><td> the Courage of Uncertainty</td><td> and How to Hear Your Soul: The Best of The Marginalian 2023</td><td>https://www.themarginalian.org/2023/12/28/best-of-2023/</td><td>0.0</td></tr><tr><td>heise online\"</td><td>Daniel AJ Sokolov</td><td>Falschmeldung auf Twitter: SEC genehmigt doch keine Bitcoin-Fonds</td><td>https://www.heise.de/news/Falschmeldung-auf-Twitter-SEC-genehmigt-doch-keine-Bitcoin-Fonds-9592489.html</td><td>https://heise.cloudimg.io/bound/1200x1200/q85.png-lossy-85.webp-lossy-85.foil1/_www-heise-de_/imgs/18/4/5/2/3/5/1/4/shutterstock_1976944238-5e18b8fbf881e81c.jpg</td><td>2024-01-10T00:36:00Z\n",
       "</td><td>-0.1</td></tr><tr><td>Bitcoinsistemi.com\"</td><td>Mete Demiralp</td><td>SEC's X Account Hacked</td><td> Bitcoin Spot ETFs Not yet Approved</td><td>https://en.bitcoinsistemi.com/breaking-gary-gensler-says-secs-x-account-hacked-bitcoin-spot-etfs-not-yet-approved/</td><td>https://www.bitcoinsistemi.com/wp-content/uploads/2022/05/sec-kripto-para-gary-gensler.jpg</td><td>-0.1</td></tr><tr><td>MarketWatch\"</td><td>Frances Yue</td><td>Jamie Dimon still sees no value in bitcoin after ETFs debut: ‘please stop talking about this s___’</td><td>https://www.marketwatch.com/story/jamie-dimon-still-sees-no-value-in-bitcoin-after-etfs-debut-please-stop-talking-about-this-s-949b7c54</td><td>https://images.mktw.net/im-05670152/social</td><td>2024-01-17T16:39:00Z\n",
       "</td><td>0.0</td></tr><tr><td>MarketWatch\"</td><td>Frances Yue</td><td>Why the debut of Bitcoin ETFs may not be the best news for crypto stocks</td><td> futures ETFs</td><td>https://www.marketwatch.com/story/why-the-debut-of-bitcoin-etfs-may-not-be-the-best-news-for-crypto-stocks-futures-etfs-cfa8e423</td><td>https://images.mktw.net/im-274111/social</td><td>1.0</td></tr><tr><td>Gigazine.net\"</td><td>@GIGAZINE</td><td>米国証券�?�引委員会�?�Xアカウントを乗�?��?�られ「ビットコインETF�?�上場を�?�?る�?�?�投稿�?�る事態�?�発生＆投稿直後�?�ビットコイン�?�価格�?�急上昇</td><td>https://gigazine.net/news/20240110-sec-x-hacked-bitcoin-fake/</td><td>https://i.gzn.jp/img/2024/01/10/sec-x-hacked-bitcoin-fake/00.png</td><td>2024-01-10T05:00:00Z\n",
       "</td><td>0.0</td></tr><tr><td>Genbeta.com\"</td><td>Bárbara Bécares</td><td>La cartera del creador de Bitcoin recibe más de un millón de euros... tras 13 años que lleva desaparecido</td><td>https://www.genbeta.com/actualidad/cartera-creador-bitcoin-recibe-millon-euros-13-anos-que-lleva-desaparecido</td><td>https://i.blogs.es/ef9cfb/traxer-k9ibeseiq04-unsplash/840_560.jpeg</td><td>2024-01-08T11:56:57Z\n",
       "</td><td>0.0</td></tr><tr><td>Ars Technica\"</td><td>Kyle Orland</td><td>Final reminder: Donate to win swag in our annual Charity Drive sweepstakes</td><td>https://arstechnica.com/gaming/2024/01/final-reminder-donate-to-win-swag-in-our-annual-charity-drive-sweepstakes-3/</td><td>https://cdn.arstechnica.net/wp-content/uploads/2023/11/charity2023-760x380.jpg</td><td>2024-01-02T15:52:21Z\n",
       "</td><td>0.4</td></tr><tr><td>MarketWatch\"</td><td>Myra P. Saefong</td><td>Why the launch of bitcoin ETFs threatens the market for gold</td><td>https://www.marketwatch.com/story/why-the-launch-of-bitcoin-etfs-threatens-the-market-for-gold-3984dad2</td><td>https://images.mktw.net/im-31352944/social</td><td>2024-01-12T21:14:00Z\n",
       "</td><td>0.0</td></tr><tr><td>MarketWatch\"</td><td>William Watts</td><td>Bitcoin is a ‘public good</td><td>’ says ARK’s Cathie Wood as spot ETF debuts</td><td>https://www.marketwatch.com/story/bitcoin-is-a-public-good-says-arks-cathie-wood-as-spot-etf-debuts-34ce0a17</td><td>https://images.mktw.net/im-851982/social</td><td>0.35</td></tr><tr><td>Hubspot.com\"</td><td>Cyan Zhong</td><td>7 Expert & Data-Backed Trend Predictions for 2024</td><td>https://blog.hubspot.com/marketing/7-data-backed-trend-predictions-for-2024#article</td><td>https://blog.hubspot.com/hubfs/Copy%20of%20Featured%20Image%20Template%20Backgrounds-Dec-19-2023-08-34-34-9450-PM.png#keepProtocol</td><td>2023-12-20T02:00:00Z\n",
       "</td><td>0.0</td></tr><tr><td>heise online\"</td><td>Stefan Krempl</td><td>EU-Gremien einig: Anonyme Barzahlungen nur noch bis 2999 Euro</td><td>https://www.heise.de/news/EU-Gremien-einig-Anonyme-Barzahlungen-nur-noch-bis-2999-Euro-9601949.html</td><td>https://heise.cloudimg.io/bound/1200x1200/q85.png-lossy-85.webp-lossy-85.foil1/_www-heise-de_/imgs/18/4/5/2/8/3/9/0/shutterstock_1840858240-a44aee88534cfc6b.jpg</td><td>2024-01-18T19:20:00Z\n",
       "</td><td>0.0</td></tr><tr><td>MarketWatch\"</td><td>Frances Yue</td><td>Bitcoin in spotlight as SEC approves new ETFs</td><td> ether rallies. Here’s why.</td><td>https://www.marketwatch.com/story/bitcoin-in-spotlight-as-sec-approves-new-etfs-ether-rallies-heres-why-5d556f73</td><td>https://images.mktw.net/im-783732/social</td><td>0.018181818</td></tr><tr><td>MarketWatch\"</td><td>Tomi Kilgore</td><td>Don’t assume Coinbase’s stock will benefit from the bitcoin ETF</td><td> analysts say</td><td>https://www.marketwatch.com/story/dont-assume-coinbases-stock-will-benefit-from-the-bitcoin-etf-analysts-say-3f2bf831</td><td>https://images.mktw.net/im-39716779/social</td><td>0.0</td></tr><tr><td>MarketWatch\"</td><td>Chris Matthews</td><td> Frances Yue</td><td>SEC approves spot bitcoin ETFs for trade starting Thursday</td><td>https://www.marketwatch.com/story/sec-approves-spot-bitcoin-etfs-for-trade-starting-thursday-a6e1417b</td><td>https://images.mktw.net/im-05635701/social</td><td>0.0</td></tr><tr><td>MarketWatch\"</td><td>Frances Yue</td><td>Cathie Wood dumps Grayscale and buys bitcoin-futures ETF. Here’s why.</td><td>https://www.marketwatch.com/story/cathie-wood-dumps-grayscale-and-buys-bitcoin-futures-etf-heres-why-1068969b</td><td>https://images.mktw.net/im-17572622/social</td><td>2023-12-28T17:55:00Z\n",
       "</td><td>0.0</td></tr><tr><td>MarketWatch\"</td><td>Frances Yue</td><td>Bitcoin ETFs are live. Watch for the next most popular crypto to go same route</td><td>https://www.marketwatch.com/story/bitcoin-etfs-are-live-watch-for-the-next-most-popular-crypto-to-go-same-route-eb80e963</td><td>https://images.mktw.net/im-631218/social</td><td>2024-01-12T20:45:00Z\n",
       "</td><td>0.24727273</td></tr><tr><td>MarketWatch\"</td><td>Chris Matthews</td><td>Bitcoin ETF: Here are the 10 funds set to debut after SEC decision</td><td>https://www.marketwatch.com/story/bitcoin-etf-here-are-the-10-funds-set-to-debut-after-sec-decision-12fe591e</td><td>https://images.mktw.net/im-96310580/social</td><td>2024-01-08T15:15:00Z\n",
       "</td><td>-0.1</td></tr><tr><td>MarketWatch\"</td><td>Frances Yue</td><td>Why bitcoin may not see a ‘Santa Claus rally’</td><td> despite potential approval of crypto-based ETFs</td><td>https://www.marketwatch.com/story/why-bitcoin-may-not-see-a-santa-claus-rally-despite-potential-approval-of-crypto-based-etfs-abf046e4</td><td>https://images.mktw.net/im-783732/social</td><td>0.0</td></tr><tr><td>Genbeta.com\"</td><td>Antonio Vallejo</td><td>La SEC aprueba los 11 ETF de bitcoin tras meses de espera: qué son los ETF y por qué es tan importante para el mercado</td><td>https://www.genbeta.com/actualidad/sec-aprueba-11-etf-bitcoin-meses-espera-que-etf-que-importante-para-mercado</td><td>https://i.blogs.es/50a8c2/andre-francois-mckenzie-igyibhdntpe-unsplash/840_560.jpeg</td><td>2024-01-11T10:38:38Z\n",
       "</td><td>-0.1</td></tr><tr><td>heise online\"</td><td>Frank Schräer</td><td>Mittwoch: Jugendschutz bei Facebook & Instagram</td><td> Falschmeldung zu Bitcoin-Fonds</td><td>https://www.heise.de/news/Mittwoch-Jugendschutz-bei-Facebook-Instagram-Falschmeldung-zu-Bitcoin-Fonds-9592548.html</td><td>https://heise.cloudimg.io/bound/1200x1200/q85.png-lossy-85.webp-lossy-85.foil1/_www-heise-de_/imgs/18/4/5/2/3/5/4/5/mittwoch-e91029bd0463b73c.webp</td><td>0.0</td></tr><tr><td>MarketWatch\"</td><td>Frances Yue</td><td>Bitcoin had a nice 2023. Why smaller crypto assets could now see bigger gains.</td><td>https://www.marketwatch.com/story/bitcoin-had-a-nice-2023-why-smaller-crypto-assets-could-now-see-bigger-gains-788dcffc</td><td>https://images.mktw.net/im-783732/social</td><td>2024-01-17T21:11:00Z\n",
       "</td><td>0.2</td></tr><tr><td>Business Insider\"</td><td>George Glover</td><td>From the stunning surge of the 'Magnificent 7' stocks to bitcoin's shock rebound</td><td> here are 8 of 2023's wildest markets stories</td><td>https://markets.businessinsider.com/news/stocks/craziest-stories-bitcoin-russia-magnificent-seven-recession-bond-market-crash-2023-12</td><td>https://i.insider.com/640b89ead81e7e0018be07d0?width=1200&format=jpeg</td><td>0.75</td></tr><tr><td>MarketWatch\"</td><td>Mark Hulbert</td><td>Do bitcoin ETFs have a place in retirement portfolios?</td><td>https://www.marketwatch.com/story/do-bitcoin-etfs-have-a-place-in-retirement-portfolios-d3ef6683</td><td>https://images.mktw.net/im-11686415/social</td><td>2024-01-12T19:15:00Z\n",
       "</td><td>0.0</td></tr><tr><td>heise online\"</td><td>Frank Schräer</td><td>Donnerstag: Bitcoin-Fonds doch an US-Börsen</td><td> Nordkorea mit gebrauchtem 4G-Netz</td><td>https://www.heise.de/news/Donnerstag-Bitcoin-Fonds-doch-an-US-Boersen-Nordkorea-mit-gebrauchtem-4G-Netz-9593821.html</td><td>https://heise.cloudimg.io/bound/1200x1200/q85.png-lossy-85.webp-lossy-85.foil1/_www-heise-de_/imgs/18/4/5/2/4/2/1/8/thursday-366874393383ceea.webp</td><td>0.0</td></tr><tr><td>MarketWatch\"</td><td>Christine Idzelis</td><td> Andrew Keshner</td><td>‘You want to come out strong’: What investors will be looking for in spot bitcoin ETFs after SEC approval</td><td>https://www.marketwatch.com/story/you-want-to-come-out-strong-what-investors-will-be-looking-for-in-spot-bitcoin-etfs-after-sec-approval-f50061fc</td><td>https://images.mktw.net/im-70340096/social</td><td>0.0</td></tr><tr><td>heise online\"</td><td>Patrick Bellmer</td><td>heise+ | Analyse: Was die neuen Bitcoin-ETFs für deutsche Anleger bedeuten</td><td>https://www.heise.de/hintergrund/Analyse-Was-die-neuen-Bitcoin-ETFs-fuer-deutsche-Anleger-bedeuten-9594318.html?wt_mc=rss.red.ho.ho.atom.beitrag_plus.beitrag_plus</td><td>https://heise.cloudimg.io/bound/1200x1200/q85.png-lossy-85.webp-lossy-85.foil1/_www-heise-de_/imgs/18/4/5/2/4/4/8/5/shutterstock_709061209-930a4263b1a2f4ce.jpg</td><td>2024-01-12T06:30:00Z\n",
       "</td><td>0.0</td></tr><tr><td>heise online\"</td><td>Frank Schräer</td><td>Donnerstag: Bitcoins als Wiener Betrugsfalle</td><td> Lieferdrohne für schwerere Lasten</td><td>https://www.heise.de/news/Donnerstag-Bitcoins-als-Wiener-Betrugsfalle-Lieferdrohne-fuer-schwerere-Lasten-9600863.html</td><td>https://heise.cloudimg.io/bound/1200x1200/q85.png-lossy-85.webp-lossy-85.foil1/_www-heise-de_/imgs/18/4/5/2/7/8/3/0/thursday-9f2f7a71f0f9a263.webp</td><td>0.0</td></tr><tr><td>MarketWatch\"</td><td>Emily Bary</td><td>Why Marathon Digital’s stock screams ‘buy</td><td>’ according to this new bull</td><td>https://www.marketwatch.com/story/why-marathon-digitals-stock-screams-buy-according-to-this-new-bull-61e1bbd1</td><td>https://images.mktw.net/im-809463/social</td><td>0.0</td></tr><tr><td>Hubspot.com\"</td><td>Daniel Doan</td><td>Weird Words in English: 100+ Terms You Need to Know from 2023 and Beyond</td><td>https://blog.hubspot.com/marketing/weirdest-words-added-to-oxford-english-dictionary-2014#article</td><td>https://blog.hubspot.com/hubfs/weirdest-words-added-to-oxford-english-dictionary-2014_1-1.jpg#keepProtocol</td><td>2024-01-03T12:00:00Z\n",
       "</td><td>-0.25</td></tr><tr><td>MarketWatch\"</td><td>Frances Yue</td><td>Bitcoin ETFs finally approved after a chaotic</td><td> ‘embarrassing’ 24 hours for SEC</td><td>https://www.marketwatch.com/story/bitcoin-etfs-finally-approved-after-a-chaotic-embarrassing-24-hours-for-sec-e42233d5</td><td>https://images.mktw.net/im-96310580/social</td><td>0.0</td></tr><tr><td>Golem.de\"</td><td>Andreas Donath</td><td>Warten auf ETF-Entscheidung: Bitcoin steigt über 45.000 US-Dollar</td><td>https://www.golem.de/sonstiges/zustimmung/auswahl.html?from=https%3A%2F%2Fwww.golem.de%2Fnews%2Fwarten-auf-etf-entscheidung-bitcoin-steigt-ueber-45-000-us-dollar-2401-180753.html&referer=https%3A%2F%2Ft.co%2F9027dfe37c</td><td>null</td><td>2024-01-03T06:58:01Z\n",
       "</td><td>0.0</td></tr><tr><td>Golem.de\"</td><td>Marc Stöckel</td><td>X-Konto der SEC gehackt: Angreifer verbreitet Fake-News über Bitcoin-ETF-Zulassung</td><td>https://www.golem.de/sonstiges/zustimmung/auswahl.html?from=https%3A%2F%2Fwww.golem.de%2Fnews%2Fx-konto-der-sec-gehackt-angreifer-verbreitet-fake-news-ueber-bitcoin-etf-zulassung-2401-181012.html&referer=https%3A%2F%2Ft.co%2F0917c7d539</td><td>null</td><td>2024-01-10T08:14:01Z\n",
       "</td><td>-0.1</td></tr><tr><td>heise online\"</td><td>Sylvester Tremmel</td><td> Christian Wölbert</td><td>heise+ | Interview: Molly White über die Zukunft der Blockchain-Branche</td><td>https://www.heise.de/hintergrund/Interview-Molly-White-ueber-die-Zukunft-der-Blockchain-Branche-9574922.html?wt_mc=rss.red.ho.ho.atom.beitrag_plus.beitrag_plus</td><td>https://heise.cloudimg.io/bound/1200x1200/q85.png-lossy-85.webp-lossy-85.foil1/_www-heise-de_/imgs/18/4/5/1/4/1/9/2/52475752482_412ec9a1ca_o-56323d397fb76a0a.jpg</td><td>0.0</td></tr><tr><td>Die Zeit\"</td><td>ZEIT ONLINE: Geld - Ijoma Mangold</td><td>Bitcoin-ETF: Der Bitcoin trägt jetzt Nadelstreifen und Krawatte</td><td>https://www.zeit.de/geld/2024-01/bitcoin-etf-kryptowaehrung-geldanlage</td><td>https://img.zeit.de/geld/2024-01/bitcoin-etf-kryptowaehrung/wide__1300x731</td><td>2024-01-06T10:12:48Z\n",
       "</td><td>0.0</td></tr><tr><td>MarketWatch\"</td><td>Christine Idzelis</td><td>Crypto hedge funds soared in 2023</td><td> dwarfing broader industry’s gains as macro slipped</td><td>https://www.marketwatch.com/story/crypto-hedge-funds-soared-in-2023-dwarfing-broader-industrys-gains-as-macro-slipped-d9a4e039</td><td>https://images.mktw.net/im-264587/social</td><td>0.0</td></tr><tr><td>MarketWatch\"</td><td>Bill Peters</td><td>SEC weighing ‘additional measures’ after hacked post on bitcoin ETF approval</td><td>https://www.marketwatch.com/story/sec-weighing-additional-measures-after-hacked-post-on-bitcoin-etf-approval-d983921b</td><td>https://images.mktw.net/im-685532/social</td><td>2024-01-13T02:04:00Z\n",
       "</td><td>-0.1</td></tr><tr><td>ABC News\"</td><td>Aaron Katersky</td><td>Opening statements in trial of NYC woman charged with financing terrorist groups</td><td>https://abcnews.go.com/US/opening-statements-trial-woman-charged-financing-terrorist-groups/story?id=106389259</td><td>https://i.abcnewsfe.com/a/30b7cd0d-cf8a-4860-a7ca-20ed08da16cf/cryptocurrency-gty-lv-240115_1705354677307_hpMain_16x9.jpg?w=1600</td><td>2024-01-15T22:24:21Z\n",
       "</td><td>0.0</td></tr><tr><td>Journal du geek\"</td><td>Olivier</td><td>Le bitcoin fait son entrée à Wall Street</td><td>https://www.journaldugeek.com/2024/01/13/le-bitcoin-fait-son-entree-a-wall-street/</td><td>https://www.journaldugeek.com/app/uploads/2024/01/bitcoin.jpg</td><td>2024-01-13T10:00:56Z\n",
       "</td><td>0.0</td></tr><tr><td>Theregister.com\"</td><td>Chris Williams</td><td>SEC Twitter hijacked to push fake news of hotly anticipated Bitcoin ETF approval</td><td>https://www.theregister.com/2024/01/09/sec_bitcoin_etf_hacked/</td><td>https://regmedia.co.uk/2021/01/15/shutterstock_bitcoin.jpg</td><td>2024-01-09T21:48:07Z\n",
       "</td><td>-0.11666667</td></tr><tr><td>heise online\"</td><td>Nils Jacobsen</td><td>Ausblick: Was bringt das Tech-Jahr 2024 für Apple</td><td> KI</td><td> Bitcoin & Co.?​</td><td>https://www.heise.de/meinung/Ausblick-Was-bringt-das-Tech-Jahr-2024-fuer-Apple-KI-Bitcoin-Co-9583439.html?wt_mc=rss.red.ho.ho.atom.beitrag.beitrag</td><td>0.0</td></tr><tr><td>ReadWrite\"</td><td>Graeme Hanna</td><td>Tether: UN issues warning over crypto token</td><td>https://readwrite.com/tether-un-issues-warning-over-crypto-token/</td><td>https://readwrite.com/wp-content/uploads/2024/01/pexels-rdne-stock-project-8370752-scaled.jpg</td><td>2024-01-15T13:35:26Z\n",
       "</td><td>0.0</td></tr><tr><td>ReadWrite\"</td><td>Brian-Damien Morgan</td><td>Spanish cyberattack: ransom of €10million demanded by hackers</td><td>https://readwrite.com/spanish-cyber-attack-ransom-of-e10million-demanded-by-hackers/</td><td>https://readwrite.com/wp-content/uploads/2024/01/pexels-pixabay-54097-scaled.jpg</td><td>2024-01-16T20:07:12Z\n",
       "</td><td>0.0</td></tr><tr><td>Theregister.com\"</td><td>Chris Williams</td><td>SEC Twitter hijacked to push fake news of ETF approval</td><td>https://www.theregister.com/2024/01/09/btc_sec/</td><td>https://regmedia.co.uk/2021/01/15/shutterstock_bitcoin.jpg</td><td>2024-01-09T21:48:07Z\n",
       "</td><td>-0.3</td></tr><tr><td>Microsiervos.com\"</td><td>alvy@microsiervos.com (Alvy)</td><td>Aprobados los primeros ETF de Bitcoin</td><td> toda una validación para el mercado de la primera y más reconocible criptodivisa</td><td>https://www.microsiervos.com/archivo/economia/aprobados-etf-bitcoin-validacion-mercado-primera-criptodivisa.html</td><td>https://img.microsiervos.com/images2024/bitcoin-ETF.webp</td><td>0.0</td></tr><tr><td>New Scientist\"</td><td>Matthew Sparkes</td><td>Should nations try to ban bitcoin because of its environmental impact?</td><td>https://www.newscientist.com/article/2410610-should-nations-try-to-ban-bitcoin-because-of-its-environmental-impact/</td><td>https://images.newscientist.com/wp-content/uploads/2024/01/08142517/SEI_186039594.jpg</td><td>2024-01-08T17:49:01Z\n",
       "</td><td>0.0</td></tr><tr><td>Business Insider\"</td><td>Dan DeFrancesco</td><td>The unsealed documents related to Jeffrey Epstein weren't full of bombshells</td><td> but some new details emerged</td><td>https://www.businessinsider.com/news-today-january-4-jeffrey-epstein-unsealed-documents-2024-1</td><td>https://i.insider.com/65969d036979d73718204b17?width=1200&format=jpeg</td><td>0.175</td></tr><tr><td>Business Insider\"</td><td>Dan DeFrancesco</td><td>The state of Wall Street's drug culture</td><td>https://www.businessinsider.com/news-today-january-19-wall-street-drug-culture-2024-1</td><td>https://i.insider.com/647a453040bf000019fa15d4?width=1200&format=jpeg</td><td>2024-01-19T14:26:03Z\n",
       "</td><td>0.0</td></tr><tr><td>Gizmodo.jp\"</td><td>�?�もり</td><td>月�?��?�陸を断念�?��?�「ペレグリン�?�?一体�?��?��?��?�?�れ�?��?��?��?�？</td><td>https://www.gizmodo.jp/2024/01/astrobotic-peregrine-moon-payloads-time-capsule-bitcoin.html</td><td>https://media.loom-app.com/gizmodo/dist/images/2024/01/07/240107Peregrine.jpg?w=1280&h=630&f=jpg</td><td>2024-01-18T14:00:00Z\n",
       "</td><td>0.0</td></tr><tr><td>Business Insider\"</td><td>Dan DeFrancesco</td><td>Wall Street's rocky start</td><td>https://www.businessinsider.com/wall-street-rocky-start-and-shaky-job-landscape-2024-1</td><td>https://i.insider.com/6582df4c1c5c7b8c9a0a2d4a?width=1200&format=jpeg</td><td>2024-01-16T16:18:05Z\n",
       "</td><td>0.0</td></tr><tr><td>9to5Mac\"</td><td>Ben Lovejoy</td><td>PSA: Warn your non-techy friends about fake AppleCoin ads</td><td>https://9to5mac.com/2024/01/16/fake-applecoin-ads/</td><td>https://i0.wp.com/9to5mac.com/wp-content/uploads/sites/6/2024/01/Fake-AppleCoin-ads.jpg?resize=1200%2C628&quality=82&strip=all&ssl=1</td><td>2024-01-16T12:39:32Z\n",
       "</td><td>-0.5</td></tr><tr><td>Hipertextual\"</td><td>Juan Carlos Figueroa</td><td>Terroristas</td><td> estafadores y pedófilos siguen recaudando miles de millones de dólares al año en criptomonedas</td><td>http://hipertextual.com/2024/01/terroristas-pedofilos-estafadores-fortuna-criptomonedas</td><td>https://imgs.hipertextual.com/wp-content/uploads/2023/07/surtido-minimalista-bodegones-criptomonedas.jpg</td><td>0.0</td></tr><tr><td>heise online\"</td><td>Stefan Krempl</td><td>Darknet: Polizei hebt </td><td>Kingdom Market</td><td> aus</td><td>https://www.heise.de/news/Darknet-Polizei-hebt-Kingdom-Market-aus-9579808.html</td><td>0.0</td></tr><tr><td>Genbeta.com\"</td><td>Bárbara Bécares</td><td>El impago a contratistas en Texas tira por tierra el anonimato de Bitcoin y destapa una trama millonaria de inversores chinos</td><td>https://www.genbeta.com/actualidad/impago-a-contratistas-texas-tira-tierra-anonimato-bitcoin-destapa-trama-millonaria-inversores-chinos</td><td>https://i.blogs.es/2192ec/ewan-kennedy-mkdbteclpzc-unsplash/840_560.jpeg</td><td>2023-12-26T11:35:37Z\n",
       "</td><td>0.0</td></tr><tr><td>Die Zeit\"</td><td>ZEIT ONLINE: Geldanlage - Heike Buchter</td><td>Bitcoin-ETFs: Das Risiko trägt die Allgemeinheit</td><td>https://www.zeit.de/wirtschaft/geldanlage/2024-01/bitcoin-etf-risiko-finanzsystem-us-boersenaufsicht-sec</td><td>https://img.zeit.de/wirtschaft/geldanlage/2024-01/sec-us-boersenaufsicht/wide__1300x731</td><td>2024-01-11T04:28:22Z\n",
       "</td><td>0.0</td></tr><tr><td>Die Zeit\"</td><td>ZEIT ONLINE: News -</td><td>Währung: US-Börsenaufsicht genehmigt Bitcoin-Fonds</td><td>https://www.zeit.de/news/2024-01/11/us-boersenaufsicht-genehmigt-bitcoin-fonds</td><td>https://img.zeit.de/news/2024-01/11/us-boersenaufsicht-genehmigt-bitcoin-fonds-image-group/wide__1300x731</td><td>2024-01-11T02:33:24Z\n",
       "</td><td>0.0</td></tr><tr><td>Die Zeit\"</td><td>ZEIT ONLINE: Geld - Marlena Wessollek</td><td> Mathias Peer</td><td>Kryptowährung: US-Börsenaufsicht verwirrt mit Bitcoin-Falschmeldung</td><td>https://www.zeit.de/digital/2024-01/kryptobranche-bitcoin-sec</td><td>https://img.zeit.de/digital/2024-01/kryptobranche-bitcoin-sec-2/wide__1300x731</td><td>0.0</td></tr><tr><td>Slashdot.org\"</td><td>BeauHD</td><td>CEO of Collapsed Crypto Fund HyperVerse Does Not Appear To Exist</td><td>https://slashdot.org/story/24/01/03/2218208/ceo-of-collapsed-crypto-fund-hyperverse-does-not-appear-to-exist</td><td>https://a.fsdn.com/sd/topics/bitcoin_64.png</td><td>2024-01-03T23:50:00Z\n",
       "</td><td>0.0</td></tr><tr><td>MarketWatch\"</td><td>Emily Bary</td><td>USDC issuer Circle files for IPO amid hot crypto market</td><td>https://www.marketwatch.com/story/usdc-issuer-circle-files-for-ipo-amid-hot-crypto-market-dcec7016</td><td>https://images.mktw.net/im-07933837/social</td><td>2024-01-11T20:17:00Z\n",
       "</td><td>0.25</td></tr><tr><td>Die Zeit\"</td><td>ZEIT ONLINE: News -</td><td>Digitalwährung : Bitcoin erstmals seit April 2022 über 45.000 US-Dollar</td><td>https://www.zeit.de/news/2024-01/02/bitcoin-erstmals-seit-april-2022-ueber-45-000-us-dollar</td><td>https://img.zeit.de/news/2024-01/02/bitcoin-erstmals-seit-april-2022-ueber-45-000-us-dollar-image-group/wide__1300x731</td><td>2024-01-02T07:13:04Z\n",
       "</td><td>0.0</td></tr><tr><td>heise online\"</td><td>Frank Schräer</td><td>Freitag: Hyperloop-Hype wohl zu Ende</td><td> Lapsus$-Täter in Psychiatrie statt in Haft</td><td>https://www.heise.de/news/Freitag-Hyperloop-Hype-wohl-zu-Ende-Lapsus-Taeter-in-Psychiatrie-statt-Haft-9581055.html</td><td>https://heise.cloudimg.io/bound/1200x1200/q85.png-lossy-85.webp-lossy-85.foil1/_www-heise-de_/imgs/18/4/5/1/7/4/6/5/friday-8811913955340084.webp</td><td>0.0</td></tr><tr><td>Die Zeit\"</td><td>ZEIT ONLINE: Geldanlage - Eric Voigt</td><td>Kryptowährung: Bitcoin verliert innerhalb eines Tages mehr als neun Prozent an Wert</td><td>https://www.zeit.de/wirtschaft/geldanlage/2024-01/bitcoin-kryptowaehrung-geldanlage</td><td>https://img.zeit.de/wirtschaft/geldanlage/2024-01/bitcoin-kryptowaehrung-geldanlage-bild/wide__1300x731</td><td>2024-01-03T14:23:45Z\n",
       "</td><td>0.0</td></tr><tr><td>Die Zeit\"</td><td>ZEIT ONLINE: News -</td><td>Digitalwährung: Bitcoin verliert deutlich: Jüngste Gewinne sind weg</td><td>https://www.zeit.de/news/2024-01/03/bitcoin-verliert-deutlich-juengste-gewinne-sind-weg</td><td>https://img.zeit.de/news/2024-01/03/bitcoin-verliert-deutlich-juengste-gewinne-sind-weg-image-group/wide__1300x731</td><td>2024-01-03T13:38:37Z\n",
       "</td><td>0.0</td></tr><tr><td>Die Zeit\"</td><td>ZEIT ONLINE: News -</td><td>Kryptowährung: Bitcoin fällt - Freude über US-Zulassung für Fonds verpufft</td><td>https://www.zeit.de/news/2024-01/19/bitcoin-faellt-freude-ueber-us-zulassung-fuer-fonds-verpufft</td><td>https://img.zeit.de/news/2024-01/19/bitcoin-faellt-freude-ueber-us-zulassung-fuer-fonds-verpufft-image-group/wide__1300x731</td><td>2024-01-19T09:57:00Z\n",
       "</td><td>0.0</td></tr><tr><td>MarketWatch\"</td><td>Cody Willard</td><td>10 predictions for stocks</td><td> crypto</td><td> AI</td><td> gold and bonds in 2024</td><td>0.0</td></tr><tr><td>Faz.net\"</td><td>dpa/mj.</td><td>Bitcoin fällt nach Genehmigungs-Verwirrung tiefer</td><td>https://www.faz.net/aktuell/finanzen/bitcoin-kurs-der-kryptowaehrung-faellt-nach-genehmigungs-verwirrung-19437593.html</td><td>https://media1.faz.net/ppmedia/aktuell/feuilleton/2764071983/1.9437595/facebook_teaser/seit-tagen-wird-ueber-eine.jpg</td><td>2024-01-10T06:25:55Z\n",
       "</td><td>0.0</td></tr><tr><td>\n",
       "</td><td>null</td><td>null</td><td>null</td><td>null</td><td>null</td><td>null</td></tr></tbody></table></div>"
      ]
     },
     "metadata": {
      "application/vnd.databricks.v1+output": {
       "addedWidgets": {},
       "aggData": [],
       "aggError": "",
       "aggOverflow": false,
       "aggSchema": [],
       "aggSeriesLimitReached": false,
       "aggType": "",
       "arguments": {},
       "columnCustomDisplayInfos": {},
       "data": [
        [
         "Engadget",
         "Karissa Bell",
         "SEC approves bitcoin ETFs (for real this time)",
         "https://www.engadget.com/sec-approves-bitcoin-etfs-for-real-this-time-224125584.html",
         "https://s.yimg.com/ny/api/res/1.2/n6iLNJ_9dtK.fT6WAXK1sA--/YXBwaWQ9aGlnaGxhbmRlcjt3PTEyMDA7aD03OTU-/https://s.yimg.com/os/creatr-uploaded-images/2024-01/3edf5140-afdd-11ee-bf7c-7918e1b9d963",
         "2024-01-10T22:41:25Z\n",
         0.05
        ],
        [
         "Wired\"",
         "Joel Khalili",
         "Why Crypto Idealogues Won’t Touch Bitcoin ETFs",
         "https://www.wired.com/story/bitcoin-etf-cryptocurrencies-split/",
         "https://media.wired.com/photos/65a0305c4aaf02fdf493f220/191:100/w_1280",
         "c_limit/Not-Everyone-Is-Jazzed-About-Bitcoin-ETFs-Business-1299911534.jpg",
         0.0
        ],
        [
         "The Verge\"",
         "Elizabeth Lopatto",
         "How to sue a hacker using Bitcoin",
         "https://www.theverge.com/2024/1/10/24033166/bitcoin-crypto-ryan-dellone-lawsuit-hacker",
         "https://cdn.vox-cdn.com/thumbor/PDBUffTgNFFVbpRuDkyP8ENjR-Y=/0x0:2040x1360/1200x628/filters:focal(1020x680:1021x681)/cdn.vox-cdn.com/uploads/chorus_asset/file/23951299/STK087_VRG_Illo_N_Barclay_1_bitcoin.jpg",
         "2024-01-10T18:55:35Z\n",
         0.0
        ],
        [
         "The Verge\"",
         "Emma Roth",
         "The SEC’s X account was hijacked to post a fake approval of Bitcoin ETFs",
         "https://www.theverge.com/2024/1/9/24032095/bitcoin-etf-sec-fake-tweet-x-gary-gensler",
         "https://cdn.vox-cdn.com/thumbor/jxKHGn1E5xyrAO8bukj3ikqy5Bw=/0x0:2040x1360/1200x628/filters:focal(1020x680:1021x681)/cdn.vox-cdn.com/uploads/chorus_asset/file/23951296/STK087_VRG_Illo_N_Barclay_4_bitcoin.jpg",
         "2024-01-09T21:41:56Z\n",
         -0.3
        ],
        [
         "Wired\"",
         "Andrew Couts",
         " Andy Greenberg",
         "The SEC's Official X Account Was ‘Compromised'",
         "https://www.wired.com/story/sec-x-account-compromise/",
         "https://media.wired.com/photos/659dbf12156f76cbf3057921/191:100/w_1280",
         0.0
        ],
        [
         "Gizmodo.com\"",
         "Maxwell Zeff",
         "Bitcoin Price Plummets Due to Hacked SEC Tweet",
         "https://gizmodo.com/bitcoin-price-plummets-hacked-sec-tweet-1851153717",
         "https://i.kinja-img.com/image/upload/c_fill",
         "h_675",
         -0.1125
        ],
        [
         "Wired\"",
         "Andy Greenberg",
         "How a 27-Year-Old Codebreaker Busted the Myth of Bitcoin’s Anonymity",
         "https://www.wired.com/story/27-year-old-codebreaker-busted-myth-bitcoins-anonymity/",
         "https://media.wired.com/photos/65a72695e5015b60480cbdf6/191:100/w_1280",
         "c_limit/Meiklejohn_Final_Static2.jpg",
         0.0
        ],
        [
         "Wired\"",
         "Andy Greenberg",
         "Child Abusers Are Getting Better at Using Crypto to Cover Their Tracks",
         "https://www.wired.com/story/csam-sellers-monero-rise/",
         "https://media.wired.com/photos/659f246783a7239c87585c11/191:100/w_1280",
         "c_limit/CSAM-report-sec-GettyImages-885630762.jpg",
         0.5
        ],
        [
         "Business Insider\"",
         "Dan DeFrancesco",
         "Bitcoin is so back",
         "https://www.businessinsider.com/news-today-january-11-bitcoin-etf-approval-2024-1",
         "https://i.insider.com/659fd4dcdcdb354a98569fc9?width=1200&format=jpeg",
         "2024-01-11T14:32:47Z\n",
         0.0
        ],
        [
         "Slashdot.org\"",
         "BeauHD",
         "SEC Approves 11 Spot Bitcoin ETFs",
         "https://slashdot.org/story/24/01/10/2132216/sec-approves-11-spot-bitcoin-etfs",
         "https://a.fsdn.com/sd/topics/bitcoin_64.png",
         "2024-01-10T21:33:00Z\n",
         -0.1
        ],
        [
         "Business Insider\"",
         "Matthew Fox",
         "SEC says Twitter account was compromised",
         " it's not approved a bitcoin ETF",
         "https://markets.businessinsider.com/news/currencies/bitcoin-etfs-sec-approval-twitter-hack-gary-gensler-crypto-2024-1",
         "https://i.insider.com/659dbb20dcdb354a9856111a?width=1200&format=jpeg",
         -0.1
        ],
        [
         "ReadWrite\"",
         "Maxwell William",
         "Bitcoin soars above $45",
         "000 in New Year rally",
         " eyes on SEC for ETF approvals",
         "https://readwrite.com/bitcoin-soars-above-45000-in-new-year-rally-eyes-on-sec-for-etf-approvals/",
         0.0
        ],
        [
         "ReadWrite\"",
         "Deanna Ritchie",
         "Bitcoin ETF: BTC price falls as traders await big SEC decision",
         "https://readwrite.com/bitcoin-etf-btc-price-falls-as-traders-await-big-sec-decision/",
         "https://readwrite.com/wp-content/uploads/2024/01/Bitcoin-ETF-BTC-price-falls.jpg",
         "2024-01-06T02:02:18Z\n",
         -0.05
        ],
        [
         "ReadWrite\"",
         "James Jones",
         "Bitcoin price: $400m liquidation leads to significant slump",
         "https://readwrite.com/bitcoin-price-400m-liquidation-leads-to-significant-slump/",
         "https://readwrite.com/wp-content/uploads/2024/01/yigit-ali-atasoy-z1jggXh29_Q-unsplash-scaled.jpg",
         "2024-01-03T16:41:52Z\n",
         0.375
        ],
        [
         "ReadWrite\"",
         "Maxwell William",
         "BlackRock and Fidelity set competitive fees for upcoming Bitcoin ETFs",
         "https://readwrite.com/blackrock-and-fidelity-set-competitive-fees-for-upcoming-bitcoin-etfs/",
         "https://readwrite.com/wp-content/uploads/2023/12/Bitcoin-gathers-momentum.jpg",
         "2024-01-08T16:48:40Z\n",
         0.0
        ],
        [
         "ReadWrite\"",
         "Graeme Hanna",
         "US SEC finally approves Bitcoin ETFs",
         "https://readwrite.com/us-sec-finally-approves-bitcoin-etfs/",
         "https://readwrite.com/wp-content/uploads/2023/12/UK-Finance-Ministry-to-discuss-crypto-banking.jpeg",
         "2024-01-11T12:56:26Z\n",
         -0.05
        ],
        [
         "Business Insider\"",
         "Joshua Zitser",
         "A guy just signed a contract to rent an apartment using bitcoin",
         " likely a world first",
         "https://www.businessinsider.com/argentina-crypto-first-ever-bitcoin-rental-contract-landlord-tenant-2024-1",
         "https://i.insider.com/65a67a556979d737182373a3?width=1200&format=jpeg",
         0.0
        ],
        [
         "Business Insider\"",
         "Theron Mohamed",
         "Ark's Cathie Wood says bitcoin could hit $1.5 million by 2030. The US economy would have to crash",
         " 'Shark Tank' investor Kevin O'Leary says.",
         "https://markets.businessinsider.com/news/currencies/bitcoin-price-forecast-cathie-wood-kevin-oleary-us-economy-crash-2024-1",
         "https://i.insider.com/611b93d6a4b07b0018ade5b9?width=1200&format=jpeg",
         0.0
        ],
        [
         "NPR\"",
         "David Gura",
         "After a brutal stretch",
         " a remarkable thing is happening: Cryptocurrencies are surging",
         "https://www.npr.org/2023/12/26/1220603847/crypto-cryptocurrency-bitcoin-ftx-binance-cz-bankman-fried",
         "https://media.npr.org/assets/img/2023/12/25/gettyimages-1402675790_wide-eadf8676b64af620ebb4f8ae76eb29bc059f2598-s1400-c100.jpg",
         -0.875
        ],
        [
         "Business Insider\"",
         "Theron Mohamed",
         "Morgan Stanley's chairman slams bitcoin as speculative and volatile – and expects the US to dodge a recession",
         "https://markets.businessinsider.com/news/currencies/morgan-stanley-gorman-bitcoin-crypto-banking-crisis-recession-rate-cuts-2024-1",
         "https://i.insider.com/659689aaec62ab5daf8086dd?width=1200&format=jpeg",
         "2024-01-04T11:28:57Z\n",
         0.0
        ],
        [
         "Business Insider\"",
         "Theron Mohamed",
         "BlackRock CEO Larry Fink warns of stubborn inflation - but expects growth to accelerate this year if interest rates drop",
         "https://www.businessinsider.com/blackrock-larry-fink-inflation-growth-recession-outlook-fed-rate-cuts-2024-1",
         "https://i.insider.com/652fbc37211def8ed837e42a?width=1200&format=jpeg",
         "2024-01-15T12:14:45Z\n",
         0.0
        ],
        [
         "Hipertextual\"",
         "Alberto Martín",
         "Por qué son tan importantes los ETFs de Bitcoin a los que ha dado el visto bueno la SEC",
         "http://hipertextual.com/2024/01/etfs-de-bitcoin",
         "https://imgs.hipertextual.com/wp-content/uploads/2021/09/cardmapr-nl-rDzI7m7sjPE-unsplash-scaled.jpg",
         "2024-01-11T11:00:12Z\n",
         -0.1
        ],
        [
         "Business Insider\"",
         "Kiera Fields",
         "A lawsuit filed against a bitcoin mine in Texas has shed light on a growing trend: US crypto mines backed by millions of dollars from Chinese investors",
         "https://www.businessinsider.com/bitcoin-mine-texas-lawsuit-links-to-chinese-investors-2023-12",
         "https://i.insider.com/658acb99ec62ab5daf7ea6be?width=1200&format=jpeg",
         "2023-12-26T14:46:23Z\n",
         0.2
        ],
        [
         "Xataka.com\"",
         "Javier Pastor",
         "EEUU aprueba los ETF de Bitcoin. Cuando ocurrió con el oro",
         " el metal acabó cuadruplicando su valor",
         "https://www.xataka.com/criptomonedas/eeuu-aprueba-etf-bitcoin-cuando-ocurrio-oro-metal-acabo-cuadruplicando-su-valor",
         "https://i.blogs.es/aadeb6/bitcoin1/840_560.jpeg",
         0.0
        ],
        [
         "Slashdot.org\"",
         "BeauHD",
         "'Stablecoins' Enabled $40 Billion In Crypto Crime Since 2022",
         "https://yro.slashdot.org/story/24/01/18/2112213/stablecoins-enabled-40-billion-in-crypto-crime-since-2022",
         "https://a.fsdn.com/sd/topics/bitcoin_64.png",
         "2024-01-18T22:00:00Z\n",
         0.0
        ],
        [
         "ABC News\"",
         "KEN SWEET AP business writer",
         "Regulators set to decide whether to OK new bitcoin fund. What investors need to know",
         "https://abcnews.go.com/US/wireStory/regulators-set-decide-new-bitcoin-fund-investors-106255605",
         "https://i.abcnewsfe.com/a/76e820b5-680b-4fd5-a5ef-51e37b5da0ae/wirestory_76c873b7abb6aac299f6eae101fd38d3_16x9.jpg?w=1600",
         "2024-01-10T15:27:53Z\n",
         0.3181818
        ],
        [
         "heise online\"",
         "Daniel AJ Sokolov",
         "Betrugsfalle gefundene Bitcoin",
         "https://www.heise.de/news/Betrugsfalle-gefundene-Bitcoin-9600837.html",
         "https://heise.cloudimg.io/bound/1200x1200/q85.png-lossy-85.webp-lossy-85.foil1/_www-heise-de_/imgs/18/4/5/2/7/8/1/7/Betrug_Bitcoin-c37985164dac133e.jpg",
         "2024-01-17T23:01:00Z\n",
         0.0
        ],
        [
         "heise online\"",
         "Martin Holland",
         "Ein Bitcoin erstmals seit April 2022 wieder über 45.000 US-Dollar wert",
         "https://www.heise.de/news/Ein-Bitcoin-erstmals-seit-April-2022-wieder-ueber-45-000-US-Dollar-wert-9584862.html",
         "https://heise.cloudimg.io/bound/1200x1200/q85.png-lossy-85.webp-lossy-85.foil1/_www-heise-de_/imgs/18/4/5/1/9/4/6/3/shutterstock_1888907947-54ebd2bafa9434e9.jpg",
         "2024-01-02T09:08:00Z\n",
         0.0
        ],
        [
         "Xataka.com\"",
         "Enrique Pérez",
         "Qué son los ETF de Bitcoin y por qué la decisión de la SEC sobre su aprobación es tan esperada",
         "https://www.xataka.com/criptomonedas/que-etf-bitcoin-que-su-aprobacion-sec-decision-esperada",
         "https://i.blogs.es/962ba7/etf-bitcoin/840_560.jpeg",
         "2024-01-09T22:29:15Z\n",
         -0.1
        ],
        [
         "heise online\"",
         "Martin Holland",
         "Erster Bitcoin-Fonds in den USA sammelt über eine Milliarde US-Dollar ein",
         "https://www.heise.de/news/Erster-Bitcoin-Fonds-in-den-USA-sammelt-ueber-eine-Milliarde-US-Dollar-ein-9602117.html",
         "https://heise.cloudimg.io/bound/1200x1200/q85.png-lossy-85.webp-lossy-85.foil1/_www-heise-de_/imgs/18/4/5/2/8/4/7/9/shutterstock_1916262404-b7c59be85e1ebe55.jpg",
         "2024-01-19T07:04:00Z\n",
         0.0
        ],
        [
         "Xataka.com\"",
         "Enrique Pérez",
         "El creador de Bitcoin desapareció hace 13 años. Ahora su cuenta acaba de recibir una transferencia millonaria",
         "https://www.xataka.com/criptomonedas/creador-bitcoin-desaparecio-hace-13-anos-ahora-su-cuenta-acaba-recibir-transferencia-millonaria",
         "https://i.blogs.es/2b459f/satoshi_nakamoto/840_560.jpeg",
         "2024-01-08T17:01:07Z\n",
         0.0
        ],
        [
         "Medium\"",
         "CoinPost Global",
         "Bitcoin Is Crucial Climate Tech (BTP Ep. 1 Recap)",
         "https://medium.com/@coinpost.gb/bitcoin-is-crucial-climate-tech-btp-ep-1-recap-854d3ebbe573",
         "https://miro.medium.com/v2/resize:fit:640/0*3WEqMiNG3I0IfnHC.png",
         "2024-01-02T06:44:47Z\n",
         0.0
        ],
        [
         "MarketWatch\"",
         "Chris Matthews",
         " Barbara Kollmeyer",
         "Bitcoin’s price slumps as analysts weigh chances that ‘wild card’ Gensler spikes spot ETF",
         "https://www.marketwatch.com/story/bitcoins-price-slumps-as-analysts-weigh-chances-that-wild-card-gensler-spikes-spot-etf-1b13c26f",
         "https://images.mktw.net/im-96310580/social",
         0.0
        ],
        [
         "heise online\"",
         "Daniel AJ Sokolov",
         "Jetzt geht’s los: SEC genehmigt Bitcoin-Fonds",
         "https://www.heise.de/news/Jetzt-geht-s-los-SEC-genehmigt-Bitcoin-Fonds-9593793.html",
         "https://heise.cloudimg.io/bound/1200x1200/q85.png-lossy-85.webp-lossy-85.foil1/_www-heise-de_/imgs/18/4/5/2/4/2/0/4/shutterstock_1937129161-91f75b37827ffe38.jpg",
         "2024-01-11T03:31:00Z\n",
         -0.1
        ],
        [
         "Themarginalian.org\"",
         "Maria Popova",
         "Of Wonder",
         " the Courage of Uncertainty",
         " and How to Hear Your Soul: The Best of The Marginalian 2023",
         "https://www.themarginalian.org/2023/12/28/best-of-2023/",
         0.0
        ],
        [
         "heise online\"",
         "Daniel AJ Sokolov",
         "Falschmeldung auf Twitter: SEC genehmigt doch keine Bitcoin-Fonds",
         "https://www.heise.de/news/Falschmeldung-auf-Twitter-SEC-genehmigt-doch-keine-Bitcoin-Fonds-9592489.html",
         "https://heise.cloudimg.io/bound/1200x1200/q85.png-lossy-85.webp-lossy-85.foil1/_www-heise-de_/imgs/18/4/5/2/3/5/1/4/shutterstock_1976944238-5e18b8fbf881e81c.jpg",
         "2024-01-10T00:36:00Z\n",
         -0.1
        ],
        [
         "Bitcoinsistemi.com\"",
         "Mete Demiralp",
         "SEC's X Account Hacked",
         " Bitcoin Spot ETFs Not yet Approved",
         "https://en.bitcoinsistemi.com/breaking-gary-gensler-says-secs-x-account-hacked-bitcoin-spot-etfs-not-yet-approved/",
         "https://www.bitcoinsistemi.com/wp-content/uploads/2022/05/sec-kripto-para-gary-gensler.jpg",
         -0.1
        ],
        [
         "MarketWatch\"",
         "Frances Yue",
         "Jamie Dimon still sees no value in bitcoin after ETFs debut: ‘please stop talking about this s___’",
         "https://www.marketwatch.com/story/jamie-dimon-still-sees-no-value-in-bitcoin-after-etfs-debut-please-stop-talking-about-this-s-949b7c54",
         "https://images.mktw.net/im-05670152/social",
         "2024-01-17T16:39:00Z\n",
         0.0
        ],
        [
         "MarketWatch\"",
         "Frances Yue",
         "Why the debut of Bitcoin ETFs may not be the best news for crypto stocks",
         " futures ETFs",
         "https://www.marketwatch.com/story/why-the-debut-of-bitcoin-etfs-may-not-be-the-best-news-for-crypto-stocks-futures-etfs-cfa8e423",
         "https://images.mktw.net/im-274111/social",
         1.0
        ],
        [
         "Gigazine.net\"",
         "@GIGAZINE",
         "米国証券�?�引委員会�?�Xアカウントを乗�?��?�られ「ビットコインETF�?�上場を�?�?る�?�?�投稿�?�る事態�?�発生＆投稿直後�?�ビットコイン�?�価格�?�急上昇",
         "https://gigazine.net/news/20240110-sec-x-hacked-bitcoin-fake/",
         "https://i.gzn.jp/img/2024/01/10/sec-x-hacked-bitcoin-fake/00.png",
         "2024-01-10T05:00:00Z\n",
         0.0
        ],
        [
         "Genbeta.com\"",
         "Bárbara Bécares",
         "La cartera del creador de Bitcoin recibe más de un millón de euros... tras 13 años que lleva desaparecido",
         "https://www.genbeta.com/actualidad/cartera-creador-bitcoin-recibe-millon-euros-13-anos-que-lleva-desaparecido",
         "https://i.blogs.es/ef9cfb/traxer-k9ibeseiq04-unsplash/840_560.jpeg",
         "2024-01-08T11:56:57Z\n",
         0.0
        ],
        [
         "Ars Technica\"",
         "Kyle Orland",
         "Final reminder: Donate to win swag in our annual Charity Drive sweepstakes",
         "https://arstechnica.com/gaming/2024/01/final-reminder-donate-to-win-swag-in-our-annual-charity-drive-sweepstakes-3/",
         "https://cdn.arstechnica.net/wp-content/uploads/2023/11/charity2023-760x380.jpg",
         "2024-01-02T15:52:21Z\n",
         0.4
        ],
        [
         "MarketWatch\"",
         "Myra P. Saefong",
         "Why the launch of bitcoin ETFs threatens the market for gold",
         "https://www.marketwatch.com/story/why-the-launch-of-bitcoin-etfs-threatens-the-market-for-gold-3984dad2",
         "https://images.mktw.net/im-31352944/social",
         "2024-01-12T21:14:00Z\n",
         0.0
        ],
        [
         "MarketWatch\"",
         "William Watts",
         "Bitcoin is a ‘public good",
         "’ says ARK’s Cathie Wood as spot ETF debuts",
         "https://www.marketwatch.com/story/bitcoin-is-a-public-good-says-arks-cathie-wood-as-spot-etf-debuts-34ce0a17",
         "https://images.mktw.net/im-851982/social",
         0.35
        ],
        [
         "Hubspot.com\"",
         "Cyan Zhong",
         "7 Expert & Data-Backed Trend Predictions for 2024",
         "https://blog.hubspot.com/marketing/7-data-backed-trend-predictions-for-2024#article",
         "https://blog.hubspot.com/hubfs/Copy%20of%20Featured%20Image%20Template%20Backgrounds-Dec-19-2023-08-34-34-9450-PM.png#keepProtocol",
         "2023-12-20T02:00:00Z\n",
         0.0
        ],
        [
         "heise online\"",
         "Stefan Krempl",
         "EU-Gremien einig: Anonyme Barzahlungen nur noch bis 2999 Euro",
         "https://www.heise.de/news/EU-Gremien-einig-Anonyme-Barzahlungen-nur-noch-bis-2999-Euro-9601949.html",
         "https://heise.cloudimg.io/bound/1200x1200/q85.png-lossy-85.webp-lossy-85.foil1/_www-heise-de_/imgs/18/4/5/2/8/3/9/0/shutterstock_1840858240-a44aee88534cfc6b.jpg",
         "2024-01-18T19:20:00Z\n",
         0.0
        ],
        [
         "MarketWatch\"",
         "Frances Yue",
         "Bitcoin in spotlight as SEC approves new ETFs",
         " ether rallies. Here’s why.",
         "https://www.marketwatch.com/story/bitcoin-in-spotlight-as-sec-approves-new-etfs-ether-rallies-heres-why-5d556f73",
         "https://images.mktw.net/im-783732/social",
         0.018181818
        ],
        [
         "MarketWatch\"",
         "Tomi Kilgore",
         "Don’t assume Coinbase’s stock will benefit from the bitcoin ETF",
         " analysts say",
         "https://www.marketwatch.com/story/dont-assume-coinbases-stock-will-benefit-from-the-bitcoin-etf-analysts-say-3f2bf831",
         "https://images.mktw.net/im-39716779/social",
         0.0
        ],
        [
         "MarketWatch\"",
         "Chris Matthews",
         " Frances Yue",
         "SEC approves spot bitcoin ETFs for trade starting Thursday",
         "https://www.marketwatch.com/story/sec-approves-spot-bitcoin-etfs-for-trade-starting-thursday-a6e1417b",
         "https://images.mktw.net/im-05635701/social",
         0.0
        ],
        [
         "MarketWatch\"",
         "Frances Yue",
         "Cathie Wood dumps Grayscale and buys bitcoin-futures ETF. Here’s why.",
         "https://www.marketwatch.com/story/cathie-wood-dumps-grayscale-and-buys-bitcoin-futures-etf-heres-why-1068969b",
         "https://images.mktw.net/im-17572622/social",
         "2023-12-28T17:55:00Z\n",
         0.0
        ],
        [
         "MarketWatch\"",
         "Frances Yue",
         "Bitcoin ETFs are live. Watch for the next most popular crypto to go same route",
         "https://www.marketwatch.com/story/bitcoin-etfs-are-live-watch-for-the-next-most-popular-crypto-to-go-same-route-eb80e963",
         "https://images.mktw.net/im-631218/social",
         "2024-01-12T20:45:00Z\n",
         0.24727273
        ],
        [
         "MarketWatch\"",
         "Chris Matthews",
         "Bitcoin ETF: Here are the 10 funds set to debut after SEC decision",
         "https://www.marketwatch.com/story/bitcoin-etf-here-are-the-10-funds-set-to-debut-after-sec-decision-12fe591e",
         "https://images.mktw.net/im-96310580/social",
         "2024-01-08T15:15:00Z\n",
         -0.1
        ],
        [
         "MarketWatch\"",
         "Frances Yue",
         "Why bitcoin may not see a ‘Santa Claus rally’",
         " despite potential approval of crypto-based ETFs",
         "https://www.marketwatch.com/story/why-bitcoin-may-not-see-a-santa-claus-rally-despite-potential-approval-of-crypto-based-etfs-abf046e4",
         "https://images.mktw.net/im-783732/social",
         0.0
        ],
        [
         "Genbeta.com\"",
         "Antonio Vallejo",
         "La SEC aprueba los 11 ETF de bitcoin tras meses de espera: qué son los ETF y por qué es tan importante para el mercado",
         "https://www.genbeta.com/actualidad/sec-aprueba-11-etf-bitcoin-meses-espera-que-etf-que-importante-para-mercado",
         "https://i.blogs.es/50a8c2/andre-francois-mckenzie-igyibhdntpe-unsplash/840_560.jpeg",
         "2024-01-11T10:38:38Z\n",
         -0.1
        ],
        [
         "heise online\"",
         "Frank Schräer",
         "Mittwoch: Jugendschutz bei Facebook & Instagram",
         " Falschmeldung zu Bitcoin-Fonds",
         "https://www.heise.de/news/Mittwoch-Jugendschutz-bei-Facebook-Instagram-Falschmeldung-zu-Bitcoin-Fonds-9592548.html",
         "https://heise.cloudimg.io/bound/1200x1200/q85.png-lossy-85.webp-lossy-85.foil1/_www-heise-de_/imgs/18/4/5/2/3/5/4/5/mittwoch-e91029bd0463b73c.webp",
         0.0
        ],
        [
         "MarketWatch\"",
         "Frances Yue",
         "Bitcoin had a nice 2023. Why smaller crypto assets could now see bigger gains.",
         "https://www.marketwatch.com/story/bitcoin-had-a-nice-2023-why-smaller-crypto-assets-could-now-see-bigger-gains-788dcffc",
         "https://images.mktw.net/im-783732/social",
         "2024-01-17T21:11:00Z\n",
         0.2
        ],
        [
         "Business Insider\"",
         "George Glover",
         "From the stunning surge of the 'Magnificent 7' stocks to bitcoin's shock rebound",
         " here are 8 of 2023's wildest markets stories",
         "https://markets.businessinsider.com/news/stocks/craziest-stories-bitcoin-russia-magnificent-seven-recession-bond-market-crash-2023-12",
         "https://i.insider.com/640b89ead81e7e0018be07d0?width=1200&format=jpeg",
         0.75
        ],
        [
         "MarketWatch\"",
         "Mark Hulbert",
         "Do bitcoin ETFs have a place in retirement portfolios?",
         "https://www.marketwatch.com/story/do-bitcoin-etfs-have-a-place-in-retirement-portfolios-d3ef6683",
         "https://images.mktw.net/im-11686415/social",
         "2024-01-12T19:15:00Z\n",
         0.0
        ],
        [
         "heise online\"",
         "Frank Schräer",
         "Donnerstag: Bitcoin-Fonds doch an US-Börsen",
         " Nordkorea mit gebrauchtem 4G-Netz",
         "https://www.heise.de/news/Donnerstag-Bitcoin-Fonds-doch-an-US-Boersen-Nordkorea-mit-gebrauchtem-4G-Netz-9593821.html",
         "https://heise.cloudimg.io/bound/1200x1200/q85.png-lossy-85.webp-lossy-85.foil1/_www-heise-de_/imgs/18/4/5/2/4/2/1/8/thursday-366874393383ceea.webp",
         0.0
        ],
        [
         "MarketWatch\"",
         "Christine Idzelis",
         " Andrew Keshner",
         "‘You want to come out strong’: What investors will be looking for in spot bitcoin ETFs after SEC approval",
         "https://www.marketwatch.com/story/you-want-to-come-out-strong-what-investors-will-be-looking-for-in-spot-bitcoin-etfs-after-sec-approval-f50061fc",
         "https://images.mktw.net/im-70340096/social",
         0.0
        ],
        [
         "heise online\"",
         "Patrick Bellmer",
         "heise+ | Analyse: Was die neuen Bitcoin-ETFs für deutsche Anleger bedeuten",
         "https://www.heise.de/hintergrund/Analyse-Was-die-neuen-Bitcoin-ETFs-fuer-deutsche-Anleger-bedeuten-9594318.html?wt_mc=rss.red.ho.ho.atom.beitrag_plus.beitrag_plus",
         "https://heise.cloudimg.io/bound/1200x1200/q85.png-lossy-85.webp-lossy-85.foil1/_www-heise-de_/imgs/18/4/5/2/4/4/8/5/shutterstock_709061209-930a4263b1a2f4ce.jpg",
         "2024-01-12T06:30:00Z\n",
         0.0
        ],
        [
         "heise online\"",
         "Frank Schräer",
         "Donnerstag: Bitcoins als Wiener Betrugsfalle",
         " Lieferdrohne für schwerere Lasten",
         "https://www.heise.de/news/Donnerstag-Bitcoins-als-Wiener-Betrugsfalle-Lieferdrohne-fuer-schwerere-Lasten-9600863.html",
         "https://heise.cloudimg.io/bound/1200x1200/q85.png-lossy-85.webp-lossy-85.foil1/_www-heise-de_/imgs/18/4/5/2/7/8/3/0/thursday-9f2f7a71f0f9a263.webp",
         0.0
        ],
        [
         "MarketWatch\"",
         "Emily Bary",
         "Why Marathon Digital’s stock screams ‘buy",
         "’ according to this new bull",
         "https://www.marketwatch.com/story/why-marathon-digitals-stock-screams-buy-according-to-this-new-bull-61e1bbd1",
         "https://images.mktw.net/im-809463/social",
         0.0
        ],
        [
         "Hubspot.com\"",
         "Daniel Doan",
         "Weird Words in English: 100+ Terms You Need to Know from 2023 and Beyond",
         "https://blog.hubspot.com/marketing/weirdest-words-added-to-oxford-english-dictionary-2014#article",
         "https://blog.hubspot.com/hubfs/weirdest-words-added-to-oxford-english-dictionary-2014_1-1.jpg#keepProtocol",
         "2024-01-03T12:00:00Z\n",
         -0.25
        ],
        [
         "MarketWatch\"",
         "Frances Yue",
         "Bitcoin ETFs finally approved after a chaotic",
         " ‘embarrassing’ 24 hours for SEC",
         "https://www.marketwatch.com/story/bitcoin-etfs-finally-approved-after-a-chaotic-embarrassing-24-hours-for-sec-e42233d5",
         "https://images.mktw.net/im-96310580/social",
         0.0
        ],
        [
         "Golem.de\"",
         "Andreas Donath",
         "Warten auf ETF-Entscheidung: Bitcoin steigt über 45.000 US-Dollar",
         "https://www.golem.de/sonstiges/zustimmung/auswahl.html?from=https%3A%2F%2Fwww.golem.de%2Fnews%2Fwarten-auf-etf-entscheidung-bitcoin-steigt-ueber-45-000-us-dollar-2401-180753.html&referer=https%3A%2F%2Ft.co%2F9027dfe37c",
         null,
         "2024-01-03T06:58:01Z\n",
         0.0
        ],
        [
         "Golem.de\"",
         "Marc Stöckel",
         "X-Konto der SEC gehackt: Angreifer verbreitet Fake-News über Bitcoin-ETF-Zulassung",
         "https://www.golem.de/sonstiges/zustimmung/auswahl.html?from=https%3A%2F%2Fwww.golem.de%2Fnews%2Fx-konto-der-sec-gehackt-angreifer-verbreitet-fake-news-ueber-bitcoin-etf-zulassung-2401-181012.html&referer=https%3A%2F%2Ft.co%2F0917c7d539",
         null,
         "2024-01-10T08:14:01Z\n",
         -0.1
        ],
        [
         "heise online\"",
         "Sylvester Tremmel",
         " Christian Wölbert",
         "heise+ | Interview: Molly White über die Zukunft der Blockchain-Branche",
         "https://www.heise.de/hintergrund/Interview-Molly-White-ueber-die-Zukunft-der-Blockchain-Branche-9574922.html?wt_mc=rss.red.ho.ho.atom.beitrag_plus.beitrag_plus",
         "https://heise.cloudimg.io/bound/1200x1200/q85.png-lossy-85.webp-lossy-85.foil1/_www-heise-de_/imgs/18/4/5/1/4/1/9/2/52475752482_412ec9a1ca_o-56323d397fb76a0a.jpg",
         0.0
        ],
        [
         "Die Zeit\"",
         "ZEIT ONLINE: Geld - Ijoma Mangold",
         "Bitcoin-ETF: Der Bitcoin trägt jetzt Nadelstreifen und Krawatte",
         "https://www.zeit.de/geld/2024-01/bitcoin-etf-kryptowaehrung-geldanlage",
         "https://img.zeit.de/geld/2024-01/bitcoin-etf-kryptowaehrung/wide__1300x731",
         "2024-01-06T10:12:48Z\n",
         0.0
        ],
        [
         "MarketWatch\"",
         "Christine Idzelis",
         "Crypto hedge funds soared in 2023",
         " dwarfing broader industry’s gains as macro slipped",
         "https://www.marketwatch.com/story/crypto-hedge-funds-soared-in-2023-dwarfing-broader-industrys-gains-as-macro-slipped-d9a4e039",
         "https://images.mktw.net/im-264587/social",
         0.0
        ],
        [
         "MarketWatch\"",
         "Bill Peters",
         "SEC weighing ‘additional measures’ after hacked post on bitcoin ETF approval",
         "https://www.marketwatch.com/story/sec-weighing-additional-measures-after-hacked-post-on-bitcoin-etf-approval-d983921b",
         "https://images.mktw.net/im-685532/social",
         "2024-01-13T02:04:00Z\n",
         -0.1
        ],
        [
         "ABC News\"",
         "Aaron Katersky",
         "Opening statements in trial of NYC woman charged with financing terrorist groups",
         "https://abcnews.go.com/US/opening-statements-trial-woman-charged-financing-terrorist-groups/story?id=106389259",
         "https://i.abcnewsfe.com/a/30b7cd0d-cf8a-4860-a7ca-20ed08da16cf/cryptocurrency-gty-lv-240115_1705354677307_hpMain_16x9.jpg?w=1600",
         "2024-01-15T22:24:21Z\n",
         0.0
        ],
        [
         "Journal du geek\"",
         "Olivier",
         "Le bitcoin fait son entrée à Wall Street",
         "https://www.journaldugeek.com/2024/01/13/le-bitcoin-fait-son-entree-a-wall-street/",
         "https://www.journaldugeek.com/app/uploads/2024/01/bitcoin.jpg",
         "2024-01-13T10:00:56Z\n",
         0.0
        ],
        [
         "Theregister.com\"",
         "Chris Williams",
         "SEC Twitter hijacked to push fake news of hotly anticipated Bitcoin ETF approval",
         "https://www.theregister.com/2024/01/09/sec_bitcoin_etf_hacked/",
         "https://regmedia.co.uk/2021/01/15/shutterstock_bitcoin.jpg",
         "2024-01-09T21:48:07Z\n",
         -0.11666667
        ],
        [
         "heise online\"",
         "Nils Jacobsen",
         "Ausblick: Was bringt das Tech-Jahr 2024 für Apple",
         " KI",
         " Bitcoin & Co.?​",
         "https://www.heise.de/meinung/Ausblick-Was-bringt-das-Tech-Jahr-2024-fuer-Apple-KI-Bitcoin-Co-9583439.html?wt_mc=rss.red.ho.ho.atom.beitrag.beitrag",
         0.0
        ],
        [
         "ReadWrite\"",
         "Graeme Hanna",
         "Tether: UN issues warning over crypto token",
         "https://readwrite.com/tether-un-issues-warning-over-crypto-token/",
         "https://readwrite.com/wp-content/uploads/2024/01/pexels-rdne-stock-project-8370752-scaled.jpg",
         "2024-01-15T13:35:26Z\n",
         0.0
        ],
        [
         "ReadWrite\"",
         "Brian-Damien Morgan",
         "Spanish cyberattack: ransom of €10million demanded by hackers",
         "https://readwrite.com/spanish-cyber-attack-ransom-of-e10million-demanded-by-hackers/",
         "https://readwrite.com/wp-content/uploads/2024/01/pexels-pixabay-54097-scaled.jpg",
         "2024-01-16T20:07:12Z\n",
         0.0
        ],
        [
         "Theregister.com\"",
         "Chris Williams",
         "SEC Twitter hijacked to push fake news of ETF approval",
         "https://www.theregister.com/2024/01/09/btc_sec/",
         "https://regmedia.co.uk/2021/01/15/shutterstock_bitcoin.jpg",
         "2024-01-09T21:48:07Z\n",
         -0.3
        ],
        [
         "Microsiervos.com\"",
         "alvy@microsiervos.com (Alvy)",
         "Aprobados los primeros ETF de Bitcoin",
         " toda una validación para el mercado de la primera y más reconocible criptodivisa",
         "https://www.microsiervos.com/archivo/economia/aprobados-etf-bitcoin-validacion-mercado-primera-criptodivisa.html",
         "https://img.microsiervos.com/images2024/bitcoin-ETF.webp",
         0.0
        ],
        [
         "New Scientist\"",
         "Matthew Sparkes",
         "Should nations try to ban bitcoin because of its environmental impact?",
         "https://www.newscientist.com/article/2410610-should-nations-try-to-ban-bitcoin-because-of-its-environmental-impact/",
         "https://images.newscientist.com/wp-content/uploads/2024/01/08142517/SEI_186039594.jpg",
         "2024-01-08T17:49:01Z\n",
         0.0
        ],
        [
         "Business Insider\"",
         "Dan DeFrancesco",
         "The unsealed documents related to Jeffrey Epstein weren't full of bombshells",
         " but some new details emerged",
         "https://www.businessinsider.com/news-today-january-4-jeffrey-epstein-unsealed-documents-2024-1",
         "https://i.insider.com/65969d036979d73718204b17?width=1200&format=jpeg",
         0.175
        ],
        [
         "Business Insider\"",
         "Dan DeFrancesco",
         "The state of Wall Street's drug culture",
         "https://www.businessinsider.com/news-today-january-19-wall-street-drug-culture-2024-1",
         "https://i.insider.com/647a453040bf000019fa15d4?width=1200&format=jpeg",
         "2024-01-19T14:26:03Z\n",
         0.0
        ],
        [
         "Gizmodo.jp\"",
         "�?�もり",
         "月�?��?�陸を断念�?��?�「ペレグリン�?�?一体�?��?��?��?�?�れ�?��?��?��?�？",
         "https://www.gizmodo.jp/2024/01/astrobotic-peregrine-moon-payloads-time-capsule-bitcoin.html",
         "https://media.loom-app.com/gizmodo/dist/images/2024/01/07/240107Peregrine.jpg?w=1280&h=630&f=jpg",
         "2024-01-18T14:00:00Z\n",
         0.0
        ],
        [
         "Business Insider\"",
         "Dan DeFrancesco",
         "Wall Street's rocky start",
         "https://www.businessinsider.com/wall-street-rocky-start-and-shaky-job-landscape-2024-1",
         "https://i.insider.com/6582df4c1c5c7b8c9a0a2d4a?width=1200&format=jpeg",
         "2024-01-16T16:18:05Z\n",
         0.0
        ],
        [
         "9to5Mac\"",
         "Ben Lovejoy",
         "PSA: Warn your non-techy friends about fake AppleCoin ads",
         "https://9to5mac.com/2024/01/16/fake-applecoin-ads/",
         "https://i0.wp.com/9to5mac.com/wp-content/uploads/sites/6/2024/01/Fake-AppleCoin-ads.jpg?resize=1200%2C628&quality=82&strip=all&ssl=1",
         "2024-01-16T12:39:32Z\n",
         -0.5
        ],
        [
         "Hipertextual\"",
         "Juan Carlos Figueroa",
         "Terroristas",
         " estafadores y pedófilos siguen recaudando miles de millones de dólares al año en criptomonedas",
         "http://hipertextual.com/2024/01/terroristas-pedofilos-estafadores-fortuna-criptomonedas",
         "https://imgs.hipertextual.com/wp-content/uploads/2023/07/surtido-minimalista-bodegones-criptomonedas.jpg",
         0.0
        ],
        [
         "heise online\"",
         "Stefan Krempl",
         "Darknet: Polizei hebt ",
         "Kingdom Market",
         " aus",
         "https://www.heise.de/news/Darknet-Polizei-hebt-Kingdom-Market-aus-9579808.html",
         0.0
        ],
        [
         "Genbeta.com\"",
         "Bárbara Bécares",
         "El impago a contratistas en Texas tira por tierra el anonimato de Bitcoin y destapa una trama millonaria de inversores chinos",
         "https://www.genbeta.com/actualidad/impago-a-contratistas-texas-tira-tierra-anonimato-bitcoin-destapa-trama-millonaria-inversores-chinos",
         "https://i.blogs.es/2192ec/ewan-kennedy-mkdbteclpzc-unsplash/840_560.jpeg",
         "2023-12-26T11:35:37Z\n",
         0.0
        ],
        [
         "Die Zeit\"",
         "ZEIT ONLINE: Geldanlage - Heike Buchter",
         "Bitcoin-ETFs: Das Risiko trägt die Allgemeinheit",
         "https://www.zeit.de/wirtschaft/geldanlage/2024-01/bitcoin-etf-risiko-finanzsystem-us-boersenaufsicht-sec",
         "https://img.zeit.de/wirtschaft/geldanlage/2024-01/sec-us-boersenaufsicht/wide__1300x731",
         "2024-01-11T04:28:22Z\n",
         0.0
        ],
        [
         "Die Zeit\"",
         "ZEIT ONLINE: News -",
         "Währung: US-Börsenaufsicht genehmigt Bitcoin-Fonds",
         "https://www.zeit.de/news/2024-01/11/us-boersenaufsicht-genehmigt-bitcoin-fonds",
         "https://img.zeit.de/news/2024-01/11/us-boersenaufsicht-genehmigt-bitcoin-fonds-image-group/wide__1300x731",
         "2024-01-11T02:33:24Z\n",
         0.0
        ],
        [
         "Die Zeit\"",
         "ZEIT ONLINE: Geld - Marlena Wessollek",
         " Mathias Peer",
         "Kryptowährung: US-Börsenaufsicht verwirrt mit Bitcoin-Falschmeldung",
         "https://www.zeit.de/digital/2024-01/kryptobranche-bitcoin-sec",
         "https://img.zeit.de/digital/2024-01/kryptobranche-bitcoin-sec-2/wide__1300x731",
         0.0
        ],
        [
         "Slashdot.org\"",
         "BeauHD",
         "CEO of Collapsed Crypto Fund HyperVerse Does Not Appear To Exist",
         "https://slashdot.org/story/24/01/03/2218208/ceo-of-collapsed-crypto-fund-hyperverse-does-not-appear-to-exist",
         "https://a.fsdn.com/sd/topics/bitcoin_64.png",
         "2024-01-03T23:50:00Z\n",
         0.0
        ],
        [
         "MarketWatch\"",
         "Emily Bary",
         "USDC issuer Circle files for IPO amid hot crypto market",
         "https://www.marketwatch.com/story/usdc-issuer-circle-files-for-ipo-amid-hot-crypto-market-dcec7016",
         "https://images.mktw.net/im-07933837/social",
         "2024-01-11T20:17:00Z\n",
         0.25
        ],
        [
         "Die Zeit\"",
         "ZEIT ONLINE: News -",
         "Digitalwährung : Bitcoin erstmals seit April 2022 über 45.000 US-Dollar",
         "https://www.zeit.de/news/2024-01/02/bitcoin-erstmals-seit-april-2022-ueber-45-000-us-dollar",
         "https://img.zeit.de/news/2024-01/02/bitcoin-erstmals-seit-april-2022-ueber-45-000-us-dollar-image-group/wide__1300x731",
         "2024-01-02T07:13:04Z\n",
         0.0
        ],
        [
         "heise online\"",
         "Frank Schräer",
         "Freitag: Hyperloop-Hype wohl zu Ende",
         " Lapsus$-Täter in Psychiatrie statt in Haft",
         "https://www.heise.de/news/Freitag-Hyperloop-Hype-wohl-zu-Ende-Lapsus-Taeter-in-Psychiatrie-statt-Haft-9581055.html",
         "https://heise.cloudimg.io/bound/1200x1200/q85.png-lossy-85.webp-lossy-85.foil1/_www-heise-de_/imgs/18/4/5/1/7/4/6/5/friday-8811913955340084.webp",
         0.0
        ],
        [
         "Die Zeit\"",
         "ZEIT ONLINE: Geldanlage - Eric Voigt",
         "Kryptowährung: Bitcoin verliert innerhalb eines Tages mehr als neun Prozent an Wert",
         "https://www.zeit.de/wirtschaft/geldanlage/2024-01/bitcoin-kryptowaehrung-geldanlage",
         "https://img.zeit.de/wirtschaft/geldanlage/2024-01/bitcoin-kryptowaehrung-geldanlage-bild/wide__1300x731",
         "2024-01-03T14:23:45Z\n",
         0.0
        ],
        [
         "Die Zeit\"",
         "ZEIT ONLINE: News -",
         "Digitalwährung: Bitcoin verliert deutlich: Jüngste Gewinne sind weg",
         "https://www.zeit.de/news/2024-01/03/bitcoin-verliert-deutlich-juengste-gewinne-sind-weg",
         "https://img.zeit.de/news/2024-01/03/bitcoin-verliert-deutlich-juengste-gewinne-sind-weg-image-group/wide__1300x731",
         "2024-01-03T13:38:37Z\n",
         0.0
        ],
        [
         "Die Zeit\"",
         "ZEIT ONLINE: News -",
         "Kryptowährung: Bitcoin fällt - Freude über US-Zulassung für Fonds verpufft",
         "https://www.zeit.de/news/2024-01/19/bitcoin-faellt-freude-ueber-us-zulassung-fuer-fonds-verpufft",
         "https://img.zeit.de/news/2024-01/19/bitcoin-faellt-freude-ueber-us-zulassung-fuer-fonds-verpufft-image-group/wide__1300x731",
         "2024-01-19T09:57:00Z\n",
         0.0
        ],
        [
         "MarketWatch\"",
         "Cody Willard",
         "10 predictions for stocks",
         " crypto",
         " AI",
         " gold and bonds in 2024",
         0.0
        ],
        [
         "Faz.net\"",
         "dpa/mj.",
         "Bitcoin fällt nach Genehmigungs-Verwirrung tiefer",
         "https://www.faz.net/aktuell/finanzen/bitcoin-kurs-der-kryptowaehrung-faellt-nach-genehmigungs-verwirrung-19437593.html",
         "https://media1.faz.net/ppmedia/aktuell/feuilleton/2764071983/1.9437595/facebook_teaser/seit-tagen-wird-ueber-eine.jpg",
         "2024-01-10T06:25:55Z\n",
         0.0
        ],
        [
         "\n",
         null,
         null,
         null,
         null,
         null,
         null
        ]
       ],
       "datasetInfos": [],
       "dbfsResultPath": null,
       "isJsonSchema": true,
       "metadata": {},
       "overflow": false,
       "plotOptions": {
        "customPlotOptions": {},
        "displayType": "table",
        "pivotAggregation": null,
        "pivotColumns": null,
        "xColumns": null,
        "yColumns": null
       },
       "removedWidgets": [],
       "schema": [
        {
         "metadata": "{}",
         "name": "name",
         "type": "\"string\""
        },
        {
         "metadata": "{}",
         "name": "author",
         "type": "\"string\""
        },
        {
         "metadata": "{}",
         "name": "title",
         "type": "\"string\""
        },
        {
         "metadata": "{}",
         "name": "url",
         "type": "\"string\""
        },
        {
         "metadata": "{}",
         "name": "urlToImage",
         "type": "\"string\""
        },
        {
         "metadata": "{}",
         "name": "publishedAt",
         "type": "\"string\""
        },
        {
         "metadata": "{}",
         "name": "title_sentiment",
         "type": "\"float\""
        }
       ],
       "type": "table"
      }
     },
     "output_type": "display_data"
    }
   ],
   "source": [
    "from pyspark.sql.functions import udf\n",
    "from textblob import TextBlob\n",
    "from pyspark.sql.types import FloatType\n",
    "\n",
    "# Ensure the \"title\" column is of type String\n",
    "df = df.withColumn(\"title\", df[\"title\"].cast(\"string\"))\n",
    "\n",
    "# Function to calculate sentiment polarity using TextBlob\n",
    "def calculate_sentiment(title):\n",
    "    if title is not None:\n",
    "        analysis = TextBlob(title)\n",
    "        return analysis.sentiment.polarity\n",
    "    else:\n",
    "        return None\n",
    "\n",
    "# Register the UDF\n",
    "sentiment_udf = udf(calculate_sentiment, FloatType())\n",
    "\n",
    "# Apply the sentiment analysis UDF to the DataFrame\n",
    "df_with_sentiment = df.withColumn(\"title_sentiment\", sentiment_udf(\"title\"))\n",
    "\n",
    "# Display the DataFrame with sentiment scores\n",
    "display(df_with_sentiment)\n",
    "temp_table_name = \"kafka_news_csv_with_sentiment\"\n",
    "\n",
    "df_with_sentiment.createOrReplaceTempView(temp_table_name)"
   ]
  },
  {
   "cell_type": "code",
   "execution_count": 0,
   "metadata": {
    "application/vnd.databricks.v1+cell": {
     "cellMetadata": {
      "byteLimit": 2048000,
      "implicitDf": true,
      "rowLimit": 10000
     },
     "inputWidgets": {},
     "nuid": "32c1f578-bf2d-4821-8daf-cba6b3bc002e",
     "showTitle": false,
     "title": ""
    }
   },
   "outputs": [
    {
     "output_type": "display_data",
     "data": {
      "text/html": [
       "<style scoped>\n",
       "  .table-result-container {\n",
       "    max-height: 300px;\n",
       "    overflow: auto;\n",
       "  }\n",
       "  table, th, td {\n",
       "    border: 1px solid black;\n",
       "    border-collapse: collapse;\n",
       "  }\n",
       "  th, td {\n",
       "    padding: 5px;\n",
       "  }\n",
       "  th {\n",
       "    text-align: left;\n",
       "  }\n",
       "</style><div class='table-result-container'><table class='table-result'><thead style='background-color: white'><tr><th>title_sentiment</th><th>title</th><th>name</th></tr></thead><tbody><tr><td>0.05</td><td>SEC approves bitcoin ETFs (for real this time)</td><td>Engadget</td></tr><tr><td>-0.3</td><td>The SEC’s X account was hijacked to post a fake approval of Bitcoin ETFs</td><td>The Verge\"</td></tr><tr><td>-0.1125</td><td>Bitcoin Price Plummets Due to Hacked SEC Tweet</td><td>Gizmodo.com\"</td></tr><tr><td>0.5</td><td>Child Abusers Are Getting Better at Using Crypto to Cover Their Tracks</td><td>Wired\"</td></tr><tr><td>-0.1</td><td>SEC Approves 11 Spot Bitcoin ETFs</td><td>Slashdot.org\"</td></tr><tr><td>-0.1</td><td>SEC says Twitter account was compromised</td><td>Business Insider\"</td></tr><tr><td>-0.05</td><td>Bitcoin ETF: BTC price falls as traders await big SEC decision</td><td>ReadWrite\"</td></tr><tr><td>0.375</td><td>Bitcoin price: $400m liquidation leads to significant slump</td><td>ReadWrite\"</td></tr><tr><td>-0.05</td><td>US SEC finally approves Bitcoin ETFs</td><td>ReadWrite\"</td></tr><tr><td>-0.875</td><td>After a brutal stretch</td><td>NPR\"</td></tr><tr><td>-0.1</td><td>Por qué son tan importantes los ETFs de Bitcoin a los que ha dado el visto bueno la SEC</td><td>Hipertextual\"</td></tr><tr><td>0.2</td><td>A lawsuit filed against a bitcoin mine in Texas has shed light on a growing trend: US crypto mines backed by millions of dollars from Chinese investors</td><td>Business Insider\"</td></tr><tr><td>0.3181818</td><td>Regulators set to decide whether to OK new bitcoin fund. What investors need to know</td><td>ABC News\"</td></tr><tr><td>-0.1</td><td>Qué son los ETF de Bitcoin y por qué la decisión de la SEC sobre su aprobación es tan esperada</td><td>Xataka.com\"</td></tr><tr><td>-0.1</td><td>Jetzt geht’s los: SEC genehmigt Bitcoin-Fonds</td><td>heise online\"</td></tr><tr><td>-0.1</td><td>Falschmeldung auf Twitter: SEC genehmigt doch keine Bitcoin-Fonds</td><td>heise online\"</td></tr><tr><td>-0.1</td><td>SEC's X Account Hacked</td><td>Bitcoinsistemi.com\"</td></tr><tr><td>1.0</td><td>Why the debut of Bitcoin ETFs may not be the best news for crypto stocks</td><td>MarketWatch\"</td></tr><tr><td>0.4</td><td>Final reminder: Donate to win swag in our annual Charity Drive sweepstakes</td><td>Ars Technica\"</td></tr><tr><td>0.35</td><td>Bitcoin is a ‘public good</td><td>MarketWatch\"</td></tr><tr><td>0.018181818</td><td>Bitcoin in spotlight as SEC approves new ETFs</td><td>MarketWatch\"</td></tr><tr><td>0.24727273</td><td>Bitcoin ETFs are live. Watch for the next most popular crypto to go same route</td><td>MarketWatch\"</td></tr><tr><td>-0.1</td><td>Bitcoin ETF: Here are the 10 funds set to debut after SEC decision</td><td>MarketWatch\"</td></tr><tr><td>-0.1</td><td>La SEC aprueba los 11 ETF de bitcoin tras meses de espera: qué son los ETF y por qué es tan importante para el mercado</td><td>Genbeta.com\"</td></tr><tr><td>0.2</td><td>Bitcoin had a nice 2023. Why smaller crypto assets could now see bigger gains.</td><td>MarketWatch\"</td></tr><tr><td>0.75</td><td>From the stunning surge of the 'Magnificent 7' stocks to bitcoin's shock rebound</td><td>Business Insider\"</td></tr><tr><td>-0.25</td><td>Weird Words in English: 100+ Terms You Need to Know from 2023 and Beyond</td><td>Hubspot.com\"</td></tr><tr><td>-0.1</td><td>X-Konto der SEC gehackt: Angreifer verbreitet Fake-News über Bitcoin-ETF-Zulassung</td><td>Golem.de\"</td></tr><tr><td>-0.1</td><td>SEC weighing ‘additional measures’ after hacked post on bitcoin ETF approval</td><td>MarketWatch\"</td></tr><tr><td>-0.11666667</td><td>SEC Twitter hijacked to push fake news of hotly anticipated Bitcoin ETF approval</td><td>Theregister.com\"</td></tr><tr><td>-0.3</td><td>SEC Twitter hijacked to push fake news of ETF approval</td><td>Theregister.com\"</td></tr><tr><td>0.175</td><td>The unsealed documents related to Jeffrey Epstein weren't full of bombshells</td><td>Business Insider\"</td></tr><tr><td>-0.5</td><td>PSA: Warn your non-techy friends about fake AppleCoin ads</td><td>9to5Mac\"</td></tr><tr><td>0.25</td><td>USDC issuer Circle files for IPO amid hot crypto market</td><td>MarketWatch\"</td></tr></tbody></table></div>"
      ]
     },
     "metadata": {
      "application/vnd.databricks.v1+output": {
       "addedWidgets": {},
       "aggData": [],
       "aggError": "",
       "aggOverflow": false,
       "aggSchema": [],
       "aggSeriesLimitReached": false,
       "aggType": "",
       "arguments": {},
       "columnCustomDisplayInfos": {},
       "data": [
        [
         0.05,
         "SEC approves bitcoin ETFs (for real this time)",
         "Engadget"
        ],
        [
         -0.3,
         "The SEC’s X account was hijacked to post a fake approval of Bitcoin ETFs",
         "The Verge\""
        ],
        [
         -0.1125,
         "Bitcoin Price Plummets Due to Hacked SEC Tweet",
         "Gizmodo.com\""
        ],
        [
         0.5,
         "Child Abusers Are Getting Better at Using Crypto to Cover Their Tracks",
         "Wired\""
        ],
        [
         -0.1,
         "SEC Approves 11 Spot Bitcoin ETFs",
         "Slashdot.org\""
        ],
        [
         -0.1,
         "SEC says Twitter account was compromised",
         "Business Insider\""
        ],
        [
         -0.05,
         "Bitcoin ETF: BTC price falls as traders await big SEC decision",
         "ReadWrite\""
        ],
        [
         0.375,
         "Bitcoin price: $400m liquidation leads to significant slump",
         "ReadWrite\""
        ],
        [
         -0.05,
         "US SEC finally approves Bitcoin ETFs",
         "ReadWrite\""
        ],
        [
         -0.875,
         "After a brutal stretch",
         "NPR\""
        ],
        [
         -0.1,
         "Por qué son tan importantes los ETFs de Bitcoin a los que ha dado el visto bueno la SEC",
         "Hipertextual\""
        ],
        [
         0.2,
         "A lawsuit filed against a bitcoin mine in Texas has shed light on a growing trend: US crypto mines backed by millions of dollars from Chinese investors",
         "Business Insider\""
        ],
        [
         0.3181818,
         "Regulators set to decide whether to OK new bitcoin fund. What investors need to know",
         "ABC News\""
        ],
        [
         -0.1,
         "Qué son los ETF de Bitcoin y por qué la decisión de la SEC sobre su aprobación es tan esperada",
         "Xataka.com\""
        ],
        [
         -0.1,
         "Jetzt geht’s los: SEC genehmigt Bitcoin-Fonds",
         "heise online\""
        ],
        [
         -0.1,
         "Falschmeldung auf Twitter: SEC genehmigt doch keine Bitcoin-Fonds",
         "heise online\""
        ],
        [
         -0.1,
         "SEC's X Account Hacked",
         "Bitcoinsistemi.com\""
        ],
        [
         1.0,
         "Why the debut of Bitcoin ETFs may not be the best news for crypto stocks",
         "MarketWatch\""
        ],
        [
         0.4,
         "Final reminder: Donate to win swag in our annual Charity Drive sweepstakes",
         "Ars Technica\""
        ],
        [
         0.35,
         "Bitcoin is a ‘public good",
         "MarketWatch\""
        ],
        [
         0.018181818,
         "Bitcoin in spotlight as SEC approves new ETFs",
         "MarketWatch\""
        ],
        [
         0.24727273,
         "Bitcoin ETFs are live. Watch for the next most popular crypto to go same route",
         "MarketWatch\""
        ],
        [
         -0.1,
         "Bitcoin ETF: Here are the 10 funds set to debut after SEC decision",
         "MarketWatch\""
        ],
        [
         -0.1,
         "La SEC aprueba los 11 ETF de bitcoin tras meses de espera: qué son los ETF y por qué es tan importante para el mercado",
         "Genbeta.com\""
        ],
        [
         0.2,
         "Bitcoin had a nice 2023. Why smaller crypto assets could now see bigger gains.",
         "MarketWatch\""
        ],
        [
         0.75,
         "From the stunning surge of the 'Magnificent 7' stocks to bitcoin's shock rebound",
         "Business Insider\""
        ],
        [
         -0.25,
         "Weird Words in English: 100+ Terms You Need to Know from 2023 and Beyond",
         "Hubspot.com\""
        ],
        [
         -0.1,
         "X-Konto der SEC gehackt: Angreifer verbreitet Fake-News über Bitcoin-ETF-Zulassung",
         "Golem.de\""
        ],
        [
         -0.1,
         "SEC weighing ‘additional measures’ after hacked post on bitcoin ETF approval",
         "MarketWatch\""
        ],
        [
         -0.11666667,
         "SEC Twitter hijacked to push fake news of hotly anticipated Bitcoin ETF approval",
         "Theregister.com\""
        ],
        [
         -0.3,
         "SEC Twitter hijacked to push fake news of ETF approval",
         "Theregister.com\""
        ],
        [
         0.175,
         "The unsealed documents related to Jeffrey Epstein weren't full of bombshells",
         "Business Insider\""
        ],
        [
         -0.5,
         "PSA: Warn your non-techy friends about fake AppleCoin ads",
         "9to5Mac\""
        ],
        [
         0.25,
         "USDC issuer Circle files for IPO amid hot crypto market",
         "MarketWatch\""
        ]
       ],
       "datasetInfos": [],
       "dbfsResultPath": null,
       "isJsonSchema": true,
       "metadata": {},
       "overflow": false,
       "plotOptions": {
        "customPlotOptions": {},
        "displayType": "table",
        "pivotAggregation": null,
        "pivotColumns": null,
        "xColumns": null,
        "yColumns": null
       },
       "removedWidgets": [],
       "schema": [
        {
         "metadata": "{}",
         "name": "title_sentiment",
         "type": "\"float\""
        },
        {
         "metadata": "{}",
         "name": "title",
         "type": "\"string\""
        },
        {
         "metadata": "{}",
         "name": "name",
         "type": "\"string\""
        }
       ],
       "type": "table"
      }
     },
     "output_type": "display_data"
    }
   ],
   "source": [
    "%sql select title_sentiment,title,name from kafka_news_csv_with_sentiment where title_sentiment >0 or  title_sentiment <0"
   ]
  },
  {
   "cell_type": "code",
   "execution_count": 0,
   "metadata": {
    "application/vnd.databricks.v1+cell": {
     "cellMetadata": {
      "byteLimit": 2048000,
      "implicitDf": true,
      "rowLimit": 10000
     },
     "inputWidgets": {},
     "nuid": "8f2571e9-3875-4383-9a01-7f35056f47ea",
     "showTitle": false,
     "title": ""
    }
   },
   "outputs": [
    {
     "output_type": "display_data",
     "data": {
      "text/html": [
       "<style scoped>\n",
       "  .table-result-container {\n",
       "    max-height: 300px;\n",
       "    overflow: auto;\n",
       "  }\n",
       "  table, th, td {\n",
       "    border: 1px solid black;\n",
       "    border-collapse: collapse;\n",
       "  }\n",
       "  th, td {\n",
       "    padding: 5px;\n",
       "  }\n",
       "  th {\n",
       "    text-align: left;\n",
       "  }\n",
       "</style><div class='table-result-container'><table class='table-result'><thead style='background-color: white'><tr><th>name</th><th>avg(title_sentiment)</th></tr></thead><tbody><tr><td>Microsiervos.com\"</td><td>0.0</td></tr><tr><td>Faz.net\"</td><td>0.0</td></tr><tr><td>Golem.de\"</td><td>-0.05000000074505806</td></tr><tr><td>Wired\"</td><td>0.125</td></tr><tr><td>The Verge\"</td><td>-0.15000000596046448</td></tr><tr><td>Slashdot.org\"</td><td>-0.033333333830038704</td></tr><tr><td>\n",
       "</td><td>null</td></tr><tr><td>Gigazine.net\"</td><td>0.0</td></tr><tr><td>ABC News\"</td><td>0.15909090638160706</td></tr><tr><td>Die Zeit\"</td><td>0.0</td></tr><tr><td>Journal du geek\"</td><td>0.0</td></tr><tr><td>Engadget</td><td>0.05000000074505806</td></tr><tr><td>heise online\"</td><td>-0.014285714498588018</td></tr><tr><td>Gizmodo.com\"</td><td>-0.11249999701976776</td></tr><tr><td>Ars Technica\"</td><td>0.4000000059604645</td></tr><tr><td>Hipertextual\"</td><td>-0.05000000074505806</td></tr><tr><td>ReadWrite\"</td><td>0.03928571407284055</td></tr><tr><td>MarketWatch\"</td><td>0.08883116864377544</td></tr><tr><td>Gizmodo.jp\"</td><td>0.0</td></tr><tr><td>Business Insider\"</td><td>0.09318181804635307</td></tr><tr><td>Bitcoinsistemi.com\"</td><td>-0.10000000149011612</td></tr><tr><td>Themarginalian.org\"</td><td>0.0</td></tr><tr><td>Medium\"</td><td>0.0</td></tr><tr><td>Genbeta.com\"</td><td>-0.033333333830038704</td></tr><tr><td>Hubspot.com\"</td><td>-0.125</td></tr><tr><td>New Scientist\"</td><td>0.0</td></tr><tr><td>NPR\"</td><td>-0.875</td></tr><tr><td>9to5Mac\"</td><td>-0.5</td></tr><tr><td>Xataka.com\"</td><td>-0.033333333830038704</td></tr><tr><td>Theregister.com\"</td><td>-0.2083333395421505</td></tr></tbody></table></div>"
      ]
     },
     "metadata": {
      "application/vnd.databricks.v1+output": {
       "addedWidgets": {},
       "aggData": [],
       "aggError": "",
       "aggOverflow": false,
       "aggSchema": [],
       "aggSeriesLimitReached": false,
       "aggType": "",
       "arguments": {},
       "columnCustomDisplayInfos": {},
       "data": [
        [
         "Microsiervos.com\"",
         0.0
        ],
        [
         "Faz.net\"",
         0.0
        ],
        [
         "Golem.de\"",
         -0.05000000074505806
        ],
        [
         "Wired\"",
         0.125
        ],
        [
         "The Verge\"",
         -0.15000000596046448
        ],
        [
         "Slashdot.org\"",
         -0.033333333830038704
        ],
        [
         "\n",
         null
        ],
        [
         "Gigazine.net\"",
         0.0
        ],
        [
         "ABC News\"",
         0.15909090638160706
        ],
        [
         "Die Zeit\"",
         0.0
        ],
        [
         "Journal du geek\"",
         0.0
        ],
        [
         "Engadget",
         0.05000000074505806
        ],
        [
         "heise online\"",
         -0.014285714498588018
        ],
        [
         "Gizmodo.com\"",
         -0.11249999701976776
        ],
        [
         "Ars Technica\"",
         0.4000000059604645
        ],
        [
         "Hipertextual\"",
         -0.05000000074505806
        ],
        [
         "ReadWrite\"",
         0.03928571407284055
        ],
        [
         "MarketWatch\"",
         0.08883116864377544
        ],
        [
         "Gizmodo.jp\"",
         0.0
        ],
        [
         "Business Insider\"",
         0.09318181804635307
        ],
        [
         "Bitcoinsistemi.com\"",
         -0.10000000149011612
        ],
        [
         "Themarginalian.org\"",
         0.0
        ],
        [
         "Medium\"",
         0.0
        ],
        [
         "Genbeta.com\"",
         -0.033333333830038704
        ],
        [
         "Hubspot.com\"",
         -0.125
        ],
        [
         "New Scientist\"",
         0.0
        ],
        [
         "NPR\"",
         -0.875
        ],
        [
         "9to5Mac\"",
         -0.5
        ],
        [
         "Xataka.com\"",
         -0.033333333830038704
        ],
        [
         "Theregister.com\"",
         -0.2083333395421505
        ]
       ],
       "datasetInfos": [],
       "dbfsResultPath": null,
       "isJsonSchema": true,
       "metadata": {},
       "overflow": false,
       "plotOptions": {
        "customPlotOptions": {},
        "displayType": "table",
        "pivotAggregation": null,
        "pivotColumns": null,
        "xColumns": null,
        "yColumns": null
       },
       "removedWidgets": [],
       "schema": [
        {
         "metadata": "{}",
         "name": "name",
         "type": "\"string\""
        },
        {
         "metadata": "{\"__autoGeneratedAlias\":\"true\"}",
         "name": "avg(title_sentiment)",
         "type": "\"double\""
        }
       ],
       "type": "table"
      }
     },
     "output_type": "display_data"
    }
   ],
   "source": [
    "%sql select name,avg(title_sentiment) from kafka_news_csv_with_sentiment  group by name"
   ]
  }
 ],
 "metadata": {
  "application/vnd.databricks.v1+notebook": {
   "dashboards": [],
   "language": "python",
   "notebookMetadata": {
    "mostRecentlyExecutedCommandWithImplicitDF": {
     "commandId": 2199268636517563,
     "dataframes": [
      "_sqldf"
     ]
    },
    "pythonIndentUnit": 4
   },
   "notebookName": "Vesti",
   "widgets": {}
  }
 },
 "nbformat": 4,
 "nbformat_minor": 0
}
